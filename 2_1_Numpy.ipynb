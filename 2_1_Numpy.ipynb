{
  "nbformat": 4,
  "nbformat_minor": 0,
  "metadata": {
    "colab": {
      "provenance": [],
      "include_colab_link": true
    },
    "kernelspec": {
      "name": "python3",
      "display_name": "Python 3"
    },
    "language_info": {
      "name": "python"
    }
  },
  "cells": [
    {
      "cell_type": "markdown",
      "metadata": {
        "id": "view-in-github",
        "colab_type": "text"
      },
      "source": [
        "<a href=\"https://colab.research.google.com/github/Angy-face/Esan-Coding-SS2/blob/main/2_1_Numpy.ipynb\" target=\"_parent\"><img src=\"https://colab.research.google.com/assets/colab-badge.svg\" alt=\"Open In Colab\"/></a>"
      ]
    },
    {
      "cell_type": "code",
      "source": [
        "from google.colab import drive\n",
        "drive.mount('/content/drive',force_remount=True)"
      ],
      "metadata": {
        "id": "eEvbpvXQLr1w",
        "outputId": "7ea4808d-f55b-4fe9-a022-5a7a368a9d8b",
        "colab": {
          "base_uri": "https://localhost:8080/"
        }
      },
      "execution_count": null,
      "outputs": [
        {
          "output_type": "stream",
          "name": "stdout",
          "text": [
            "Mounted at /content/drive\n"
          ]
        }
      ]
    },
    {
      "cell_type": "markdown",
      "source": [
        "<img src = 'https://drive.google.com/uc?id=1prj-mqSRBDZ6j01TFDJGwcDniB-gqVE4' alt = 'image test' width ='1100px'>\n",
        "\n"
      ],
      "metadata": {
        "id": "CCqlk_uu0Omz"
      }
    },
    {
      "cell_type": "markdown",
      "source": [
        "\n",
        "บรรยายโดย <font color='blue'>ผู้ช่วยศาสตราจารย์ ดร.บุรัสกร นันทดิลก</font>\n",
        "\n",
        "สาขาวิชา *Industrial Optimisation and Applications* (international program) และสาขาวิชา *คณิตศาสตร์*\n",
        "\n",
        "คณะวิทยาศาสตร์ มหาวิทยาลัยแม่โจ้ จ.เชียงใหม่"
      ],
      "metadata": {
        "id": "A_3ZLFLnxSde"
      }
    },
    {
      "cell_type": "markdown",
      "source": [
        "คอร์สที่ 2 **Coding for Data scientists** ประกอบด้วย\n",
        "\n",
        "2.1 <font color='darkpurple'>**Numpy**</font>\n",
        "\n",
        "2.2 <font color='darkpurple'>Pandas</font>\n",
        "\n",
        "2.3 <font color='darkpurple'>Matplotlib</font>\n",
        "\n",
        "2.4 <font color='darkpurple'>Seaborn</font>"
      ],
      "metadata": {
        "id": "QCczhZAkPPH8"
      }
    },
    {
      "cell_type": "markdown",
      "source": [
        "#**<font color='darkpurple'>2.1 Numpy**</font>\n",
        "\n",
        "> **NumPy** เป็นไลบรารีของ Python ที่ให้โครงสร้างข้อมูลที่เรียบง่ายแต่ทรงพลัง นั่นคือ ใช้จัดการข้อมูล อาร์เรย์ n มิติ ได้\n",
        "\n",
        "> การเรียนรู้ NumPy จะเป็นก้าวแรกในการเดินทางของนักวิทยาศาสตร์ข้อมูล (Python data scientist)\n",
        "\n",
        "- Array\n",
        "- Array Shapes and Axes\n",
        "- Data Science Operations: Filter, Order, Aggregate"
      ],
      "metadata": {
        "id": "IQmNKwu16PXI"
      }
    },
    {
      "cell_type": "markdown",
      "source": [
        "##<font color='blue'>2.1.1 Array</font>\n",
        "\n",
        "> Array (อาเรย์) คือประเภทข้อมูลที่สามารถเก็บเรียงกันเป็นลำดับได้ หรือข้อมูลที่ระบุตำแหน่งได้\n",
        "\n",
        "> อาจจะเรียงกันเป็นแถวแนวนอน เรียงกันเป็นเป็นแถวแนวตั้ง หรือเรียงกันเป็นตาราง หรือหลายๆตารางซ้อนกัน\n",
        "\n",
        "<img src = 'https://drive.google.com/uc?id=1TBTrhNr7vb5Lkq9Z_mgt0x0FYRIeu7b-' alt = 'image test' width ='500px'>"
      ],
      "metadata": {
        "id": "OujFGEdzsL7U"
      }
    },
    {
      "cell_type": "code",
      "execution_count": null,
      "metadata": {
        "id": "p4ODNjwqngi1"
      },
      "outputs": [],
      "source": [
        "import numpy as np #เรียกใช้งาน numpy และแทนด้วย np"
      ]
    },
    {
      "cell_type": "code",
      "source": [
        "number1D = np.array([1,2,3]) #ข้อมูลเรียงกันเป็นแถว (แนวนอน) ขนาด 1 แถว x 3 หลัก"
      ],
      "metadata": {
        "id": "XOEtpzoY1F0O"
      },
      "execution_count": null,
      "outputs": []
    },
    {
      "cell_type": "code",
      "source": [
        "number1D"
      ],
      "metadata": {
        "id": "EYPK-gTE1X9p",
        "colab": {
          "base_uri": "https://localhost:8080/"
        },
        "outputId": "669b2dea-cbe5-49ce-8a67-67f9bda20dd3"
      },
      "execution_count": null,
      "outputs": [
        {
          "output_type": "execute_result",
          "data": {
            "text/plain": [
              "array([1, 2, 3])"
            ]
          },
          "metadata": {},
          "execution_count": 5
        }
      ]
    },
    {
      "cell_type": "code",
      "source": [
        "number1D[2]"
      ],
      "metadata": {
        "id": "wq-9csazlBnv",
        "colab": {
          "base_uri": "https://localhost:8080/"
        },
        "outputId": "43b46a43-2440-4d40-b7bc-d51a8bdaac96"
      },
      "execution_count": null,
      "outputs": [
        {
          "output_type": "execute_result",
          "data": {
            "text/plain": [
              "3"
            ]
          },
          "metadata": {},
          "execution_count": 6
        }
      ]
    },
    {
      "cell_type": "code",
      "source": [
        "number2D = np.array([[1,2,3],\n",
        "                     [4,5,6],\n",
        "                     [7,8,9]]) #ข้อมูลเรียงกันเป็นตารางขนาด 3 แถว x 3 หลัก"
      ],
      "metadata": {
        "id": "0I4ZWpvUopP-"
      },
      "execution_count": null,
      "outputs": []
    },
    {
      "cell_type": "code",
      "source": [
        "number2D"
      ],
      "metadata": {
        "id": "SDFUiu4DUAqM",
        "colab": {
          "base_uri": "https://localhost:8080/"
        },
        "outputId": "4dfd87ab-8844-46b0-e858-8bd390c10bae"
      },
      "execution_count": null,
      "outputs": [
        {
          "output_type": "execute_result",
          "data": {
            "text/plain": [
              "array([[1, 2, 3],\n",
              "       [4, 5, 6],\n",
              "       [7, 8, 9]])"
            ]
          },
          "metadata": {},
          "execution_count": 9
        }
      ]
    },
    {
      "cell_type": "code",
      "source": [
        "number2D[(2,1)]"
      ],
      "metadata": {
        "id": "ZzhUlSEClLAd",
        "colab": {
          "base_uri": "https://localhost:8080/"
        },
        "outputId": "9a794dbe-b4cf-4883-eb3c-a079f8232303"
      },
      "execution_count": null,
      "outputs": [
        {
          "output_type": "execute_result",
          "data": {
            "text/plain": [
              "8"
            ]
          },
          "metadata": {},
          "execution_count": 10
        }
      ]
    },
    {
      "cell_type": "code",
      "source": [
        "number2D_2 = np.array([[1,2,3,4,5],\n",
        "                       [6,7,8,9,0]])\n",
        "number2D_2"
      ],
      "metadata": {
        "colab": {
          "base_uri": "https://localhost:8080/"
        },
        "id": "9UMbr58mGXY5",
        "outputId": "89f98980-5d3d-4fc3-be4e-1da4cdc6f709"
      },
      "execution_count": null,
      "outputs": [
        {
          "output_type": "execute_result",
          "data": {
            "text/plain": [
              "array([[1, 2, 3, 4, 5],\n",
              "       [6, 7, 8, 9, 0]])"
            ]
          },
          "metadata": {},
          "execution_count": 11
        }
      ]
    },
    {
      "cell_type": "code",
      "source": [
        "#สร้างตัวแปร text1 เพื่อเก็บข้อมูลตัวอักษร a, b, c ในแนวนอน\n",
        "text1 = np.array(['a', 'b', 'c'])"
      ],
      "metadata": {
        "id": "JdaIwtP-6xl6"
      },
      "execution_count": null,
      "outputs": []
    },
    {
      "cell_type": "code",
      "source": [
        "text1"
      ],
      "metadata": {
        "id": "zVhBFc9gUyP3",
        "colab": {
          "base_uri": "https://localhost:8080/"
        },
        "outputId": "f33d4eb0-d687-4c90-b2db-ced2b0b48bf5"
      },
      "execution_count": null,
      "outputs": [
        {
          "output_type": "execute_result",
          "data": {
            "text/plain": [
              "array(['a', 'b', 'c'], dtype='<U1')"
            ]
          },
          "metadata": {},
          "execution_count": 13
        }
      ]
    },
    {
      "cell_type": "code",
      "source": [
        "#สร้างตัวแปร text2 เพื่อเก็บข้อมูลตัวอักษร d, e, f ในแนวตั้ง\n",
        "text2 = np.array([['d'],['e'],['f']])"
      ],
      "metadata": {
        "id": "U8NAFiXH7dNj"
      },
      "execution_count": null,
      "outputs": []
    },
    {
      "cell_type": "code",
      "source": [
        "text2"
      ],
      "metadata": {
        "id": "mPub7DMUVHHB",
        "colab": {
          "base_uri": "https://localhost:8080/"
        },
        "outputId": "f340b7df-3cf7-461a-986a-fcb6f74f2064"
      },
      "execution_count": null,
      "outputs": [
        {
          "output_type": "execute_result",
          "data": {
            "text/plain": [
              "array([['d'],\n",
              "       ['e'],\n",
              "       ['f']], dtype='<U1')"
            ]
          },
          "metadata": {},
          "execution_count": 15
        }
      ]
    },
    {
      "cell_type": "code",
      "source": [
        "#ทดลองสร้างข้อมูล 3 มิติง่ายๆกันขนาด 2x3x4 กัน\n",
        "# 2 ชั้น x 3 แถว x 4 หลัก\n",
        "number3D = np.array([[[1, 2, 3, 4],\n",
        "                      [11, 12, 13, 14],\n",
        "                      [21, 22, 23, 24]],\n",
        "                     [[34, 35, 36, 37],\n",
        "                      [45, 46, 47, 48],\n",
        "                      [56, 57, 58, 59]]])"
      ],
      "metadata": {
        "id": "RpsVXeI62I54"
      },
      "execution_count": null,
      "outputs": []
    },
    {
      "cell_type": "code",
      "source": [
        "number3D"
      ],
      "metadata": {
        "id": "mdqYs_VfhZO4",
        "colab": {
          "base_uri": "https://localhost:8080/"
        },
        "outputId": "be1f6868-3dfa-4754-ea98-10ee8d310c92"
      },
      "execution_count": null,
      "outputs": [
        {
          "output_type": "execute_result",
          "data": {
            "text/plain": [
              "array([[[ 1,  2,  3,  4],\n",
              "        [11, 12, 13, 14],\n",
              "        [21, 22, 23, 24]],\n",
              "\n",
              "       [[34, 35, 36, 37],\n",
              "        [45, 46, 47, 48],\n",
              "        [56, 57, 58, 59]]])"
            ]
          },
          "metadata": {},
          "execution_count": 7
        }
      ]
    },
    {
      "cell_type": "code",
      "source": [
        "number3D[(0,2,1)] # ทายซิ...ว่าเลขอะไร ??"
      ],
      "metadata": {
        "id": "XW04v70BloG-",
        "colab": {
          "base_uri": "https://localhost:8080/"
        },
        "outputId": "bc570943-8eac-4a50-ed4e-437e11e4cbcd"
      },
      "execution_count": null,
      "outputs": [
        {
          "output_type": "execute_result",
          "data": {
            "text/plain": [
              "22"
            ]
          },
          "metadata": {},
          "execution_count": 8
        }
      ]
    },
    {
      "cell_type": "markdown",
      "source": [
        "[<font color='red'>**แบบฝึกหัด**</font>] จงสร้างอาเรย์ 2 มิติ เพื่อเก็บข้อมูลของวันที่ 1 และ 2 ไว้ในตัวแปร N1 และ N2 ตามลำดับ\n",
        "\n",
        "และหาค่าเฉลี่ยของอุณหภูมิเฉลี่ยของทั้งสองวันเก็บไว้ใน N3\n",
        "\n",
        "<img src = 'https://drive.google.com/uc?id=15NLul3WmoRXbOG8Bps0vqlcs9jLuRau3' alt = 'image test' width ='350px'>\n"
      ],
      "metadata": {
        "id": "k7T_lQ34V62A"
      }
    },
    {
      "cell_type": "code",
      "source": [
        "import numpy as np"
      ],
      "metadata": {
        "id": "1hJY9pRr2QjZ"
      },
      "execution_count": null,
      "outputs": []
    },
    {
      "cell_type": "code",
      "source": [
        "N1=np.array([[23.5,24.7,25.1],\n",
        "             [35.2,34.1,32.9]])"
      ],
      "metadata": {
        "id": "AzLat7QOuE_N"
      },
      "execution_count": null,
      "outputs": []
    },
    {
      "cell_type": "code",
      "source": [
        "print(N1)"
      ],
      "metadata": {
        "colab": {
          "base_uri": "https://localhost:8080/"
        },
        "id": "nu_l8qdOF_a9",
        "outputId": "f2878588-f9c0-441f-d5e9-4d97c35dfb0f"
      },
      "execution_count": null,
      "outputs": [
        {
          "output_type": "stream",
          "name": "stdout",
          "text": [
            "[[23.5 24.7 25.1]\n",
            " [35.2 34.1 32.9]]\n"
          ]
        }
      ]
    },
    {
      "cell_type": "code",
      "source": [
        "N2 = np.array([[ 22.4, 24.3, 24.9],\n",
        "              [37.1, 35.5, 34.6]])"
      ],
      "metadata": {
        "id": "D36X8QQ_6sOK"
      },
      "execution_count": null,
      "outputs": []
    },
    {
      "cell_type": "code",
      "source": [
        "N3= (N1+N2)/2"
      ],
      "metadata": {
        "id": "fXgSV-M6oZ-b"
      },
      "execution_count": null,
      "outputs": []
    },
    {
      "cell_type": "code",
      "source": [
        "N3"
      ],
      "metadata": {
        "id": "_oFSP_Lwz0Mz",
        "colab": {
          "base_uri": "https://localhost:8080/"
        },
        "outputId": "72cd49ed-9e35-4072-b9c0-8bc480dbe27b"
      },
      "execution_count": null,
      "outputs": [
        {
          "output_type": "execute_result",
          "data": {
            "text/plain": [
              "array([[22.95, 24.5 , 25.  ],\n",
              "       [36.15, 34.8 , 33.75]])"
            ]
          },
          "metadata": {},
          "execution_count": 13
        }
      ]
    },
    {
      "cell_type": "markdown",
      "source": [
        "### ตัวอย่างการใช้งานอาเรย์ ในการปรับคะแนน\n",
        "\n",
        "> การปรับคะแนน :สมมุติว่าคะแนนที่นักศึกษาได้ อาจจะน้อยกว่าที่คาดไว้ เพราะข้อสอบอาจจะยากเกินไป\n",
        "\n",
        "> อาจารย์จะสามารถปรับเกรดง่ายๆได้ดังตัวอย่าง (คะแนนเต็ม = 100)\n",
        "\n"
      ],
      "metadata": {
        "id": "oICN7h9YrtvP"
      }
    },
    {
      "cell_type": "code",
      "source": [
        "import numpy as np"
      ],
      "metadata": {
        "id": "brMhklwFsVSO"
      },
      "execution_count": null,
      "outputs": []
    },
    {
      "cell_type": "code",
      "source": [
        "scores = np.array([71, 36, 63, 87, 49, 74, 10])"
      ],
      "metadata": {
        "id": "B1zsp7VAsq8s"
      },
      "execution_count": null,
      "outputs": []
    },
    {
      "cell_type": "code",
      "source": [
        "np.mean(scores) #คำนวณคะแนนเฉลี่ย"
      ],
      "metadata": {
        "id": "UOcKfWojBcaJ",
        "colab": {
          "base_uri": "https://localhost:8080/"
        },
        "outputId": "bd7296d2-7390-405f-a3e0-5222fccd95c2"
      },
      "execution_count": null,
      "outputs": [
        {
          "output_type": "execute_result",
          "data": {
            "text/plain": [
              "55.714285714285715"
            ]
          },
          "metadata": {},
          "execution_count": 27
        }
      ]
    },
    {
      "cell_type": "code",
      "source": [
        "CURVE_CENTER = 80 #ค่าที่ใช้ปรับค่าเฉลี่ย"
      ],
      "metadata": {
        "id": "VF6yaDa1sfsH"
      },
      "execution_count": null,
      "outputs": []
    },
    {
      "cell_type": "code",
      "source": [
        "def adjust(scores):\n",
        "  average = scores.mean()\n",
        "  print('Average =', average)\n",
        "  change = CURVE_CENTER - average\n",
        "  print('Change =', change)\n",
        "  new_scores = scores + change\n",
        "  print('New scores=',new_scores)\n",
        "  return np.clip(new_scores, scores, 100)"
      ],
      "metadata": {
        "id": "SHIYGOzptCUy"
      },
      "execution_count": null,
      "outputs": []
    },
    {
      "cell_type": "code",
      "source": [
        "adjust(scores)"
      ],
      "metadata": {
        "id": "SoznDpoCuNR9",
        "colab": {
          "base_uri": "https://localhost:8080/"
        },
        "outputId": "9aae8133-d542-49d8-8436-0947471b24f6"
      },
      "execution_count": null,
      "outputs": [
        {
          "output_type": "stream",
          "name": "stdout",
          "text": [
            "Average = 55.714285714285715\n",
            "Change = 24.285714285714285\n",
            "New scores= [ 95.28571429  60.28571429  87.28571429 111.28571429  73.28571429\n",
            "  98.28571429  34.28571429]\n"
          ]
        },
        {
          "output_type": "execute_result",
          "data": {
            "text/plain": [
              "array([ 95.28571429,  60.28571429,  87.28571429, 100.        ,\n",
              "        73.28571429,  98.28571429,  34.28571429])"
            ]
          },
          "metadata": {},
          "execution_count": 33
        }
      ]
    },
    {
      "cell_type": "markdown",
      "source": [
        "##<font color='blue'>2.1.2 Array Shapes and Axes</font>\n",
        "\n",
        "\n",
        "> อาร์เรย์ทั้งหมดมีคุณสมบัติที่เรียกว่า .shape ซึ่งส่งกลับค่าเป็นขนาดในแต่ละมิติ\n",
        "\n",
        "> มิติของข้อมูลเป็นเท่าไร ไม่ใช่สิ่งสำคัญ  แต่สิ่งที่สำคัญจริงๆ คืออาร์เรย์ที่คุณส่งไปยังฟังก์ชันจะต้องมีรูปร่างตามที่ฟังก์ชันคาดหวัง\n",
        "\n",
        "> วิธีทั่วไปในการยืนยันว่าข้อมูลมีรูปร่างที่เหมาะสมคือ การพิมพ์ข้อมูลและรูปร่างจนกว่าจะแน่ใจว่า ทุกอย่างทำงานได้ตามที่คาดหวัง"
      ],
      "metadata": {
        "id": "geT9rqbey1jw"
      }
    },
    {
      "cell_type": "markdown",
      "source": [
        "###1.) Shapes\n",
        "\n",
        "> shape (รูปร่าง) บอกจำนวนชั้น/แถว/หลัก\n",
        "\n",
        "\n",
        "<img src = 'https://drive.google.com/uc?id=1xKFEWL2SodhfYKONCqCmKP10qmGYQn--' alt = 'image test' width ='550px'>"
      ],
      "metadata": {
        "id": "AjP8fJfhAFdT"
      }
    },
    {
      "cell_type": "code",
      "source": [
        "import numpy as np"
      ],
      "metadata": {
        "id": "tuN71Lem24xb"
      },
      "execution_count": null,
      "outputs": []
    },
    {
      "cell_type": "code",
      "source": [
        "a1 = np.array([1, 2, 3, 4]) # 1d-array"
      ],
      "metadata": {
        "id": "SNwdXSm33VCN"
      },
      "execution_count": null,
      "outputs": []
    },
    {
      "cell_type": "code",
      "source": [
        "a1.shape"
      ],
      "metadata": {
        "id": "5H2NEY863kJo",
        "colab": {
          "base_uri": "https://localhost:8080/"
        },
        "outputId": "d91d5150-480d-4462-ae70-5e3b399f28e6"
      },
      "execution_count": null,
      "outputs": [
        {
          "output_type": "execute_result",
          "data": {
            "text/plain": [
              "(4,)"
            ]
          },
          "metadata": {},
          "execution_count": 11
        }
      ]
    },
    {
      "cell_type": "code",
      "source": [
        "a2 = np.array([[1, 2, 3, 4],\n",
        "               [5, 6, 7, 8]]) # 2d-array"
      ],
      "metadata": {
        "id": "ccKqPTsm33Zp"
      },
      "execution_count": null,
      "outputs": []
    },
    {
      "cell_type": "code",
      "source": [
        "a2.shape"
      ],
      "metadata": {
        "id": "3r1DKE3I3--P",
        "colab": {
          "base_uri": "https://localhost:8080/"
        },
        "outputId": "3dc8a454-fba8-4dcc-c70a-37dcfa412802"
      },
      "execution_count": null,
      "outputs": [
        {
          "output_type": "execute_result",
          "data": {
            "text/plain": [
              "(2, 4)"
            ]
          },
          "metadata": {},
          "execution_count": 13
        }
      ]
    },
    {
      "cell_type": "code",
      "source": [
        "a3 = np.array([[[1, 2, 3, 4],\n",
        "                [5, 6, 7, 8]],\n",
        "               [[1, 2, 3, 4],\n",
        "                [5, 6, 7, 8]],\n",
        "               [[1, 2, 3, 4],\n",
        "                [5, 6, 7, 8]]]) # 3d-array"
      ],
      "metadata": {
        "id": "0PBMWzHM4k7Z"
      },
      "execution_count": null,
      "outputs": []
    },
    {
      "cell_type": "code",
      "source": [
        "a3.shape"
      ],
      "metadata": {
        "id": "ZMj5CTcG4lam",
        "colab": {
          "base_uri": "https://localhost:8080/"
        },
        "outputId": "d702c4ff-4fbc-4c56-e68e-dacccbd192b9"
      },
      "execution_count": null,
      "outputs": [
        {
          "output_type": "execute_result",
          "data": {
            "text/plain": [
              "(3, 2, 4)"
            ]
          },
          "metadata": {},
          "execution_count": 15
        }
      ]
    },
    {
      "cell_type": "code",
      "source": [
        "temperatures = np.array([29.3, 42.1, 18.8, 16.1, 38.1, 12.0, 12.5, 48.7, 39.9, 33.1, 9.9, 22.3]).reshape(2,2,3)"
      ],
      "metadata": {
        "id": "DJ24ovn-5OG-"
      },
      "execution_count": null,
      "outputs": []
    },
    {
      "cell_type": "code",
      "source": [
        "temperatures.shape\n",
        "print(temperatures)"
      ],
      "metadata": {
        "id": "By8KksN05wt5",
        "colab": {
          "base_uri": "https://localhost:8080/"
        },
        "outputId": "f5bba6c0-79af-49d3-829f-e5da4de529d2"
      },
      "execution_count": null,
      "outputs": [
        {
          "output_type": "stream",
          "name": "stdout",
          "text": [
            "[[[29.3 42.1 18.8]\n",
            "  [16.1 38.1 12. ]]\n",
            "\n",
            " [[12.5 48.7 39.9]\n",
            "  [33.1  9.9 22.3]]]\n"
          ]
        }
      ]
    },
    {
      "cell_type": "code",
      "source": [
        "temperatures #3d-array"
      ],
      "metadata": {
        "id": "fMEApJEU57kI",
        "colab": {
          "base_uri": "https://localhost:8080/"
        },
        "outputId": "509cd927-2c70-42ac-b32d-9ac5e8e68c2a"
      },
      "execution_count": null,
      "outputs": [
        {
          "output_type": "execute_result",
          "data": {
            "text/plain": [
              "array([[[29.3, 42.1, 18.8],\n",
              "        [16.1, 38.1, 12. ]],\n",
              "\n",
              "       [[12.5, 48.7, 39.9],\n",
              "        [33.1,  9.9, 22.3]]])"
            ]
          },
          "metadata": {},
          "execution_count": 18
        }
      ]
    },
    {
      "cell_type": "code",
      "source": [
        "np.swapaxes(temperatures, 1, 2) #สลับระหว่าง แถว กับ หลัก"
      ],
      "metadata": {
        "id": "1O2S9eWW6VFe",
        "colab": {
          "base_uri": "https://localhost:8080/"
        },
        "outputId": "9709fc5c-6798-4041-9e94-a8b3921dee69"
      },
      "execution_count": null,
      "outputs": [
        {
          "output_type": "execute_result",
          "data": {
            "text/plain": [
              "array([[[29.3, 16.1],\n",
              "        [42.1, 38.1],\n",
              "        [18.8, 12. ]],\n",
              "\n",
              "       [[12.5, 33.1],\n",
              "        [48.7,  9.9],\n",
              "        [39.9, 22.3]]])"
            ]
          },
          "metadata": {},
          "execution_count": 41
        }
      ]
    },
    {
      "cell_type": "code",
      "source": [
        "np.swapaxes(temperatures, 0, 2) #สลับระหว่าง แถว กับ หลัก"
      ],
      "metadata": {
        "colab": {
          "base_uri": "https://localhost:8080/"
        },
        "id": "MyeFKcauSq4c",
        "outputId": "d1bea820-042c-4d01-b1c6-72d75b5d3f63"
      },
      "execution_count": null,
      "outputs": [
        {
          "output_type": "execute_result",
          "data": {
            "text/plain": [
              "array([[[29.3, 12.5],\n",
              "        [16.1, 33.1]],\n",
              "\n",
              "       [[42.1, 48.7],\n",
              "        [38.1,  9.9]],\n",
              "\n",
              "       [[18.8, 39.9],\n",
              "        [12. , 22.3]]])"
            ]
          },
          "metadata": {},
          "execution_count": 43
        }
      ]
    },
    {
      "cell_type": "code",
      "source": [
        "temperatures"
      ],
      "metadata": {
        "colab": {
          "base_uri": "https://localhost:8080/"
        },
        "id": "TxiZAhm9ThBD",
        "outputId": "760425ab-b881-42b6-d137-21d7dce14a66"
      },
      "execution_count": null,
      "outputs": [
        {
          "output_type": "execute_result",
          "data": {
            "text/plain": [
              "array([[[29.3, 42.1, 18.8],\n",
              "        [16.1, 38.1, 12. ]],\n",
              "\n",
              "       [[12.5, 48.7, 39.9],\n",
              "        [33.1,  9.9, 22.3]]])"
            ]
          },
          "metadata": {},
          "execution_count": 44
        }
      ]
    },
    {
      "cell_type": "markdown",
      "source": [
        "<font color='red'>16.1 เดิมอยู่ที่ตำแหน่ง (0,1,0) ย้ายไปอยู่ที่ตำแหน่ง (0,0,1)</font>\n",
        "\n",
        "<font color='red'>39.9 เดิมอยู่ที่ตำแหน่ง (1,0,2) ย้ายไปอยู่ที่ตำแหน่ง (1,2,0)</font>\n"
      ],
      "metadata": {
        "id": "gIjK9u8R7cBQ"
      }
    },
    {
      "cell_type": "code",
      "source": [
        "np.swapaxes(temperatures, 0, 1) #สลับระหว่าง ชั้น กับ แถว"
      ],
      "metadata": {
        "id": "ol6VcR5LGGgx",
        "colab": {
          "base_uri": "https://localhost:8080/"
        },
        "outputId": "353e1bfc-7a23-4d81-98a7-11240ae8de96"
      },
      "execution_count": null,
      "outputs": [
        {
          "output_type": "execute_result",
          "data": {
            "text/plain": [
              "array([[[29.3, 42.1, 18.8],\n",
              "        [12.5, 48.7, 39.9]],\n",
              "\n",
              "       [[16.1, 38.1, 12. ],\n",
              "        [33.1,  9.9, 22.3]]])"
            ]
          },
          "metadata": {},
          "execution_count": 45
        }
      ]
    },
    {
      "cell_type": "markdown",
      "source": [
        "<font color='red'>16.1 เดิมอยู่ที่ตำแหน่ง (0,1,0) ย้ายไปอยู่ที่ตำแหน่ง (1,0,0)</font>\n",
        "\n",
        "<font color='red'>39.9 เดิมอยู่ที่ตำแหน่ง (1,0,2) ย้ายไปอยู่ที่ตำแหน่ง (0,1,2)</font>"
      ],
      "metadata": {
        "id": "b8qahyvK8SfG"
      }
    },
    {
      "cell_type": "markdown",
      "source": [
        "###2.) Axes\n",
        "> axis (แกน)\n",
        "\n",
        "<img src = 'https://drive.google.com/uc?id=1xKFEWL2SodhfYKONCqCmKP10qmGYQn--' alt = 'image test' width ='550px'>"
      ],
      "metadata": {
        "id": "iZtBzGvJAM0J"
      }
    },
    {
      "cell_type": "code",
      "source": [
        "import numpy as np"
      ],
      "metadata": {
        "id": "8Zk20HYsAcyg"
      },
      "execution_count": null,
      "outputs": []
    },
    {
      "cell_type": "code",
      "source": [
        "table1 =np.array([1, 2, 3, 4, 5, 6, 7, 8, 9, 10, 11, 12, 13, 14, 15, 16]).reshape(4,4)"
      ],
      "metadata": {
        "id": "EvzZwGzoAmLw"
      },
      "execution_count": null,
      "outputs": []
    },
    {
      "cell_type": "code",
      "source": [
        "table1"
      ],
      "metadata": {
        "id": "rZzWpf6JBIfT",
        "colab": {
          "base_uri": "https://localhost:8080/"
        },
        "outputId": "2c27d19c-e822-4b54-e9d1-b64645077d23"
      },
      "execution_count": null,
      "outputs": [
        {
          "output_type": "execute_result",
          "data": {
            "text/plain": [
              "array([[ 1,  2,  3,  4],\n",
              "       [ 5,  6,  7,  8],\n",
              "       [ 9, 10, 11, 12],\n",
              "       [13, 14, 15, 16]])"
            ]
          },
          "metadata": {},
          "execution_count": 21
        }
      ]
    },
    {
      "cell_type": "code",
      "source": [
        "print(table1)"
      ],
      "metadata": {
        "colab": {
          "base_uri": "https://localhost:8080/"
        },
        "id": "u7UTdaS6U5Mv",
        "outputId": "46b6fec7-216a-467e-e6ed-5ac2d288de07"
      },
      "execution_count": null,
      "outputs": [
        {
          "output_type": "stream",
          "name": "stdout",
          "text": [
            "[[ 1  2  3  4]\n",
            " [ 5  6  7  8]\n",
            " [ 9 10 11 12]\n",
            " [13 14 15 16]]\n"
          ]
        }
      ]
    },
    {
      "cell_type": "code",
      "source": [
        "table1.max()"
      ],
      "metadata": {
        "id": "pH-P_MYJCdDZ",
        "colab": {
          "base_uri": "https://localhost:8080/"
        },
        "outputId": "520b0a13-a7b1-4bcf-e8c5-a3ac1059d071"
      },
      "execution_count": null,
      "outputs": [
        {
          "output_type": "execute_result",
          "data": {
            "text/plain": [
              "16"
            ]
          },
          "metadata": {},
          "execution_count": 22
        }
      ]
    },
    {
      "cell_type": "code",
      "source": [
        "table1.max(axis=0)"
      ],
      "metadata": {
        "id": "1M_LZqadCkc2",
        "colab": {
          "base_uri": "https://localhost:8080/"
        },
        "outputId": "d89e9461-cc19-4f24-a022-deb7d31c89e9"
      },
      "execution_count": null,
      "outputs": [
        {
          "output_type": "execute_result",
          "data": {
            "text/plain": [
              "array([13, 14, 15, 16])"
            ]
          },
          "metadata": {},
          "execution_count": 23
        }
      ]
    },
    {
      "cell_type": "code",
      "source": [
        "table1.max(axis=1)"
      ],
      "metadata": {
        "id": "E678dSc9C7Az",
        "colab": {
          "base_uri": "https://localhost:8080/"
        },
        "outputId": "d92814b2-d870-46f4-bac5-c84ab0289ec3"
      },
      "execution_count": null,
      "outputs": [
        {
          "output_type": "execute_result",
          "data": {
            "text/plain": [
              "array([ 4,  8, 12, 16])"
            ]
          },
          "metadata": {},
          "execution_count": 24
        }
      ]
    },
    {
      "cell_type": "code",
      "source": [
        "table2 =np.array([1, 2, 13, 14, 5, 6, 7, 8, 9, 10, 11, 12, 3, 4, 15, 16]).reshape(4,2,2)"
      ],
      "metadata": {
        "id": "IHpWMLnhDa1x"
      },
      "execution_count": null,
      "outputs": []
    },
    {
      "cell_type": "code",
      "source": [
        "table2"
      ],
      "metadata": {
        "id": "jO9y6CHlDii8",
        "colab": {
          "base_uri": "https://localhost:8080/"
        },
        "outputId": "3128bb11-c6a6-4ff7-a62e-9d2d52fd3ab1"
      },
      "execution_count": null,
      "outputs": [
        {
          "output_type": "execute_result",
          "data": {
            "text/plain": [
              "array([[[ 1,  2],\n",
              "        [13, 14]],\n",
              "\n",
              "       [[ 5,  6],\n",
              "        [ 7,  8]],\n",
              "\n",
              "       [[ 9, 10],\n",
              "        [11, 12]],\n",
              "\n",
              "       [[ 3,  4],\n",
              "        [15, 16]]])"
            ]
          },
          "metadata": {},
          "execution_count": 26
        }
      ]
    },
    {
      "cell_type": "code",
      "source": [
        "table2.max(axis=0)"
      ],
      "metadata": {
        "id": "5bs0itpFDxWm",
        "colab": {
          "base_uri": "https://localhost:8080/"
        },
        "outputId": "41008f9e-9afc-41a9-84bf-46d1a4bcf5b3"
      },
      "execution_count": null,
      "outputs": [
        {
          "output_type": "execute_result",
          "data": {
            "text/plain": [
              "array([[ 9, 10],\n",
              "       [15, 16]])"
            ]
          },
          "metadata": {},
          "execution_count": 27
        }
      ]
    },
    {
      "cell_type": "code",
      "source": [
        "table2.max(axis=1)"
      ],
      "metadata": {
        "id": "zL9yPnFJEUMe",
        "colab": {
          "base_uri": "https://localhost:8080/"
        },
        "outputId": "4543fae3-d446-4f81-fa8b-fcde43bebed4"
      },
      "execution_count": null,
      "outputs": [
        {
          "output_type": "execute_result",
          "data": {
            "text/plain": [
              "array([[13, 14],\n",
              "       [ 7,  8],\n",
              "       [11, 12],\n",
              "       [15, 16]])"
            ]
          },
          "metadata": {},
          "execution_count": 55
        }
      ]
    },
    {
      "cell_type": "code",
      "source": [
        "table2.max(axis=2)"
      ],
      "metadata": {
        "id": "8emSGRihE_Xz",
        "colab": {
          "base_uri": "https://localhost:8080/"
        },
        "outputId": "1ea6f298-8d13-4f86-8617-278cf074f24c"
      },
      "execution_count": null,
      "outputs": [
        {
          "output_type": "execute_result",
          "data": {
            "text/plain": [
              "array([[ 2, 14],\n",
              "       [ 6,  8],\n",
              "       [10, 12],\n",
              "       [ 4, 16]])"
            ]
          },
          "metadata": {},
          "execution_count": 56
        }
      ]
    },
    {
      "cell_type": "markdown",
      "source": [
        "[<font color='red'>**แบบฝึกหัด**</font>] จงสร้างอาเรย์ 3 มิติ ขนาด (2,3,2) เพื่อเก็บข้อมูล 1 - 12 ไว้ในตัวแปร num3d\n",
        "\n",
        "และหาค่า min เมื่อ axis = 1"
      ],
      "metadata": {
        "id": "7TJQAy7FAQOI"
      }
    },
    {
      "cell_type": "code",
      "source": [
        "import numpy as np"
      ],
      "metadata": {
        "id": "YM8TMYhedwcq"
      },
      "execution_count": null,
      "outputs": []
    },
    {
      "cell_type": "code",
      "source": [
        "num3d = np.array([3, 4, 1, 10, 23, 41, 77, 24, 51, 73, 5, 99]).reshape(2,3,2)"
      ],
      "metadata": {
        "id": "3V2j5GFgd8O-"
      },
      "execution_count": null,
      "outputs": []
    },
    {
      "cell_type": "code",
      "source": [
        "num3d"
      ],
      "metadata": {
        "colab": {
          "base_uri": "https://localhost:8080/"
        },
        "id": "s8BAib6qepG_",
        "outputId": "80859e52-7209-466c-a49d-8f1df557a3be"
      },
      "execution_count": null,
      "outputs": [
        {
          "output_type": "execute_result",
          "data": {
            "text/plain": [
              "array([[[ 3,  4],\n",
              "        [ 1, 10],\n",
              "        [23, 41]],\n",
              "\n",
              "       [[77, 24],\n",
              "        [51, 73],\n",
              "        [ 5, 99]]])"
            ]
          },
          "metadata": {},
          "execution_count": 29
        }
      ]
    },
    {
      "cell_type": "code",
      "source": [
        "num3d.min(axis= 1)"
      ],
      "metadata": {
        "colab": {
          "base_uri": "https://localhost:8080/"
        },
        "id": "i75YRMW0erRe",
        "outputId": "4ad9bc26-88c2-4bea-9fbd-9d9494470765"
      },
      "execution_count": null,
      "outputs": [
        {
          "output_type": "execute_result",
          "data": {
            "text/plain": [
              "array([[ 1,  4],\n",
              "       [ 5, 24]])"
            ]
          },
          "metadata": {},
          "execution_count": 30
        }
      ]
    },
    {
      "cell_type": "markdown",
      "source": [
        "##<font color='blue'>2.1.3 Data Science Operations: Filter, Order, Aggregate</font>\n",
        "\n",
        "> กรองข้อมูล, จัดเรียงข้อมูล, การนำข้อมูลมาต่อกัน"
      ],
      "metadata": {
        "id": "gzHHhOka5ARi"
      }
    },
    {
      "cell_type": "markdown",
      "source": [
        "###1.) Masking\n",
        "\n",
        "> การกรองข้อมูลโดยใช้ mask"
      ],
      "metadata": {
        "id": "1tqkvRcS7R7b"
      }
    },
    {
      "cell_type": "markdown",
      "source": [
        "> **mask** คือ อาเรย์ที่มีขนาดเท่ากันกับขนาดข้อมูลของเรา แต่ไม่ใช้อาเรย์ที่เก็บข้อมูล เป็นอาเรย์ที่เก็บค่า True หรือ False\n",
        "\n",
        "เราสามารถใช้ mask เพื่อเป็น index ของข้อมูลได้ ซึ่ง*จะได้ค่าข้อมูลที่เป็น True ออกมา*\n"
      ],
      "metadata": {
        "id": "Dp2bfng_BrdF"
      }
    },
    {
      "cell_type": "code",
      "source": [
        "import numpy as np"
      ],
      "metadata": {
        "id": "A0HA6czU4-no"
      },
      "execution_count": null,
      "outputs": []
    },
    {
      "cell_type": "code",
      "source": [
        "np.linspace(0, 10, 25)"
      ],
      "metadata": {
        "id": "AVpguiuECUjn",
        "colab": {
          "base_uri": "https://localhost:8080/"
        },
        "outputId": "c7b5d4b6-0bc9-4004-92a8-6a51514340c4"
      },
      "execution_count": null,
      "outputs": [
        {
          "output_type": "execute_result",
          "data": {
            "text/plain": [
              "array([ 0.        ,  0.41666667,  0.83333333,  1.25      ,  1.66666667,\n",
              "        2.08333333,  2.5       ,  2.91666667,  3.33333333,  3.75      ,\n",
              "        4.16666667,  4.58333333,  5.        ,  5.41666667,  5.83333333,\n",
              "        6.25      ,  6.66666667,  7.08333333,  7.5       ,  7.91666667,\n",
              "        8.33333333,  8.75      ,  9.16666667,  9.58333333, 10.        ])"
            ]
          },
          "metadata": {},
          "execution_count": 19
        }
      ]
    },
    {
      "cell_type": "code",
      "source": [
        "np.linspace(0, 10, 25, dtype = int)"
      ],
      "metadata": {
        "id": "71tUz56eDTG6",
        "colab": {
          "base_uri": "https://localhost:8080/"
        },
        "outputId": "9b9864c2-5cd2-479d-b700-9e8e4781af9a"
      },
      "execution_count": null,
      "outputs": [
        {
          "output_type": "execute_result",
          "data": {
            "text/plain": [
              "array([ 0,  0,  0,  1,  1,  2,  2,  2,  3,  3,  4,  4,  5,  5,  5,  6,  6,\n",
              "        7,  7,  7,  8,  8,  9,  9, 10])"
            ]
          },
          "metadata": {},
          "execution_count": 20
        }
      ]
    },
    {
      "cell_type": "code",
      "source": [
        "numbers = np.linspace(5, 50 ,25, dtype = int).reshape(5,-1) #Reshaping an array with -1 โปรแกรมคำนวณหลักเอาเองด้วย -1"
      ],
      "metadata": {
        "id": "qZLeIY6L77Ru"
      },
      "execution_count": null,
      "outputs": []
    },
    {
      "cell_type": "code",
      "source": [
        "numbers"
      ],
      "metadata": {
        "id": "z5gCZ-rC8YNU",
        "colab": {
          "base_uri": "https://localhost:8080/"
        },
        "outputId": "86e87f3e-515e-494f-8e42-e36b10bbf729"
      },
      "execution_count": null,
      "outputs": [
        {
          "output_type": "execute_result",
          "data": {
            "text/plain": [
              "array([[ 5,  6,  8, 10, 12],\n",
              "       [14, 16, 18, 20, 21],\n",
              "       [23, 25, 27, 29, 31],\n",
              "       [33, 35, 36, 38, 40],\n",
              "       [42, 44, 46, 48, 50]])"
            ]
          },
          "metadata": {},
          "execution_count": 22
        }
      ]
    },
    {
      "cell_type": "code",
      "source": [
        "mask = numbers % 5 == 0 #modulo"
      ],
      "metadata": {
        "id": "HnQoT3G4-c9-"
      },
      "execution_count": null,
      "outputs": []
    },
    {
      "cell_type": "code",
      "source": [
        "mask"
      ],
      "metadata": {
        "id": "liivuePv_9tG",
        "colab": {
          "base_uri": "https://localhost:8080/"
        },
        "outputId": "37a4d56a-f0b4-40af-ed90-947ba1a8da24"
      },
      "execution_count": null,
      "outputs": [
        {
          "output_type": "execute_result",
          "data": {
            "text/plain": [
              "array([[ True, False, False,  True, False],\n",
              "       [False, False, False,  True, False],\n",
              "       [False,  True, False, False, False],\n",
              "       [False,  True, False, False,  True],\n",
              "       [False, False, False, False,  True]])"
            ]
          },
          "metadata": {},
          "execution_count": 26
        }
      ]
    },
    {
      "cell_type": "code",
      "source": [
        "numbers[mask] #เอาเฉพาะตัวที่เป็น True"
      ],
      "metadata": {
        "id": "xtaQvLDoAR-g",
        "colab": {
          "base_uri": "https://localhost:8080/"
        },
        "outputId": "ca345e5a-1acc-4ad0-c6d8-5de658b756cb"
      },
      "execution_count": null,
      "outputs": [
        {
          "output_type": "execute_result",
          "data": {
            "text/plain": [
              "array([ 5, 10, 20, 25, 35, 40, 50])"
            ]
          },
          "metadata": {},
          "execution_count": 28
        }
      ]
    },
    {
      "cell_type": "code",
      "source": [
        "by_five = numbers[numbers % 5 == 0]"
      ],
      "metadata": {
        "id": "O3mJwnppAmvb"
      },
      "execution_count": null,
      "outputs": []
    },
    {
      "cell_type": "code",
      "source": [
        "by_five"
      ],
      "metadata": {
        "id": "EDZXEes5BGpm",
        "colab": {
          "base_uri": "https://localhost:8080/"
        },
        "outputId": "df901d8d-aa4f-478c-b619-d53f2acd92d5"
      },
      "execution_count": null,
      "outputs": [
        {
          "output_type": "execute_result",
          "data": {
            "text/plain": [
              "array([ 5, 10, 20, 25, 35, 40, 50])"
            ]
          },
          "metadata": {},
          "execution_count": 30
        }
      ]
    },
    {
      "cell_type": "code",
      "source": [
        "by_five.shape #.shape บอกลักษะmetrix ว่ามีกี่ตัว หลัก แถว"
      ],
      "metadata": {
        "id": "9vaicKhXFmjB",
        "colab": {
          "base_uri": "https://localhost:8080/"
        },
        "outputId": "1a3036ca-b1d7-45bf-f1a3-cbf029f8cd31"
      },
      "execution_count": null,
      "outputs": [
        {
          "output_type": "execute_result",
          "data": {
            "text/plain": [
              "(7,)"
            ]
          },
          "metadata": {},
          "execution_count": 33
        }
      ]
    },
    {
      "cell_type": "markdown",
      "source": [
        "###2.) Transposing\n",
        "\n",
        "> การจัดเรียงข้อมูลโดยสลับแถวและหลัก"
      ],
      "metadata": {
        "id": "JCG5kT5hKEJG"
      }
    },
    {
      "cell_type": "code",
      "source": [
        "import numpy as np"
      ],
      "metadata": {
        "id": "01fWaEuRKDgu"
      },
      "execution_count": null,
      "outputs": []
    },
    {
      "cell_type": "code",
      "source": [
        "a = np.array([[1, 2],\n",
        "              [3, 4],\n",
        "              [5, 6]])"
      ],
      "metadata": {
        "id": "6GSnj4wSKUuC"
      },
      "execution_count": null,
      "outputs": []
    },
    {
      "cell_type": "code",
      "source": [
        "a"
      ],
      "metadata": {
        "id": "eWdC3ghFKqRb",
        "colab": {
          "base_uri": "https://localhost:8080/"
        },
        "outputId": "acbabb8b-0251-4ba5-9c31-b466885365c9"
      },
      "execution_count": null,
      "outputs": [
        {
          "output_type": "execute_result",
          "data": {
            "text/plain": [
              "array([[1, 2],\n",
              "       [3, 4],\n",
              "       [5, 6]])"
            ]
          },
          "metadata": {},
          "execution_count": 99
        }
      ]
    },
    {
      "cell_type": "code",
      "source": [
        "a.T"
      ],
      "metadata": {
        "id": "FVuHl91YKnhY",
        "colab": {
          "base_uri": "https://localhost:8080/"
        },
        "outputId": "e1d4349e-34da-45be-bf05-45f7bdd770f3"
      },
      "execution_count": null,
      "outputs": [
        {
          "output_type": "execute_result",
          "data": {
            "text/plain": [
              "array([[1, 3, 5],\n",
              "       [2, 4, 6]])"
            ]
          },
          "metadata": {},
          "execution_count": 100
        }
      ]
    },
    {
      "cell_type": "code",
      "source": [
        "a.transpose()"
      ],
      "metadata": {
        "id": "o4hX7N21Kurc",
        "colab": {
          "base_uri": "https://localhost:8080/"
        },
        "outputId": "2fffaac1-7875-40ff-a136-2f0484402d21"
      },
      "execution_count": null,
      "outputs": [
        {
          "output_type": "execute_result",
          "data": {
            "text/plain": [
              "array([[1, 3, 5],\n",
              "       [2, 4, 6]])"
            ]
          },
          "metadata": {},
          "execution_count": 66
        }
      ]
    },
    {
      "cell_type": "markdown",
      "source": [
        "###3.) Sorting\n",
        "\n",
        "> การจัดเรียงข้อมูลโดยเรียงลำดับข้อมูลจากน้อยไปหามาก"
      ],
      "metadata": {
        "id": "4-_m-6UkLCIf"
      }
    },
    {
      "cell_type": "code",
      "source": [
        "import numpy as np"
      ],
      "metadata": {
        "id": "DdYqGGqrK9rU"
      },
      "execution_count": null,
      "outputs": []
    },
    {
      "cell_type": "code",
      "source": [
        "data = np.array([[3, 1, 5],\n",
        "                 [5, 7, 6],\n",
        "                 [1, 8, 9]])"
      ],
      "metadata": {
        "id": "bEcua4UiLK4s"
      },
      "execution_count": null,
      "outputs": []
    },
    {
      "cell_type": "code",
      "source": [
        "data"
      ],
      "metadata": {
        "id": "W4jJIFMgLh3P",
        "colab": {
          "base_uri": "https://localhost:8080/"
        },
        "outputId": "42d22143-5eed-4ab9-ac74-e4cbfb8ce929"
      },
      "execution_count": null,
      "outputs": [
        {
          "output_type": "execute_result",
          "data": {
            "text/plain": [
              "array([[3, 1, 5],\n",
              "       [5, 7, 6],\n",
              "       [1, 8, 9]])"
            ]
          },
          "metadata": {},
          "execution_count": 103
        }
      ]
    },
    {
      "cell_type": "code",
      "source": [
        "np.sort(data)"
      ],
      "metadata": {
        "id": "WpjLe8ukLi3-",
        "colab": {
          "base_uri": "https://localhost:8080/"
        },
        "outputId": "5fabf201-d82b-49a8-c342-f6f1409a5058"
      },
      "execution_count": null,
      "outputs": [
        {
          "output_type": "execute_result",
          "data": {
            "text/plain": [
              "array([[1, 3, 5],\n",
              "       [5, 6, 7],\n",
              "       [1, 8, 9]])"
            ]
          },
          "metadata": {},
          "execution_count": 104
        }
      ]
    },
    {
      "cell_type": "code",
      "source": [
        "data"
      ],
      "metadata": {
        "id": "Qeyjz4i7Ltz3",
        "colab": {
          "base_uri": "https://localhost:8080/"
        },
        "outputId": "dd172cbd-b5bc-497b-975c-90065750c9f1"
      },
      "execution_count": null,
      "outputs": [
        {
          "output_type": "execute_result",
          "data": {
            "text/plain": [
              "array([[3, 1, 5],\n",
              "       [5, 7, 6],\n",
              "       [1, 8, 9]])"
            ]
          },
          "metadata": {},
          "execution_count": 105
        }
      ]
    },
    {
      "cell_type": "code",
      "source": [
        "np.sort(data, axis = None)"
      ],
      "metadata": {
        "id": "3pRASUabLxbV",
        "colab": {
          "base_uri": "https://localhost:8080/"
        },
        "outputId": "1805f213-dc13-4e8d-9b17-5f1a5c803541"
      },
      "execution_count": null,
      "outputs": [
        {
          "output_type": "execute_result",
          "data": {
            "text/plain": [
              "array([1, 1, 3, 5, 5, 6, 7, 8, 9])"
            ]
          },
          "metadata": {},
          "execution_count": 106
        }
      ]
    },
    {
      "cell_type": "code",
      "source": [
        "np.sort(data, axis = 0)"
      ],
      "metadata": {
        "id": "KaXR6Mj6MbZV",
        "colab": {
          "base_uri": "https://localhost:8080/"
        },
        "outputId": "ceeb77d1-d0e3-495e-d96e-ca046a3aa9c0"
      },
      "execution_count": null,
      "outputs": [
        {
          "output_type": "execute_result",
          "data": {
            "text/plain": [
              "array([[1, 1, 5],\n",
              "       [3, 7, 6],\n",
              "       [5, 8, 9]])"
            ]
          },
          "metadata": {},
          "execution_count": 109
        }
      ]
    },
    {
      "cell_type": "markdown",
      "source": [
        "###4.) Concatenating\n",
        "\n",
        "> การรวมข้อมูล หรือเอาข้อมูลมาต่อกัน"
      ],
      "metadata": {
        "id": "R-S2zmhiMiG8"
      }
    },
    {
      "cell_type": "code",
      "source": [
        "import numpy as np"
      ],
      "metadata": {
        "id": "WCOJBBBIMdbv"
      },
      "execution_count": null,
      "outputs": []
    },
    {
      "cell_type": "code",
      "source": [
        "a = np.array([[1, 2],\n",
        "              [6, 7]])"
      ],
      "metadata": {
        "id": "SmHngHJwMvYg"
      },
      "execution_count": null,
      "outputs": []
    },
    {
      "cell_type": "code",
      "source": [
        "b = np.array([[3, 5],\n",
        "              [8, 9]])"
      ],
      "metadata": {
        "id": "xUYwWHoZM7OO"
      },
      "execution_count": null,
      "outputs": []
    },
    {
      "cell_type": "code",
      "source": [
        "np.hstack((a, b))"
      ],
      "metadata": {
        "id": "muHFcaFtNDI-",
        "colab": {
          "base_uri": "https://localhost:8080/"
        },
        "outputId": "0cde521f-493a-4339-fc93-75fe72fb557a"
      },
      "execution_count": null,
      "outputs": [
        {
          "output_type": "execute_result",
          "data": {
            "text/plain": [
              "array([[1, 2, 3, 5],\n",
              "       [6, 7, 8, 9]])"
            ]
          },
          "metadata": {},
          "execution_count": 34
        }
      ]
    },
    {
      "cell_type": "code",
      "source": [
        "np.vstack((a, b))"
      ],
      "metadata": {
        "id": "UhuihoTZNJul",
        "colab": {
          "base_uri": "https://localhost:8080/"
        },
        "outputId": "48674525-20f6-4fb4-efb6-45d6bdf774e4"
      },
      "execution_count": null,
      "outputs": [
        {
          "output_type": "execute_result",
          "data": {
            "text/plain": [
              "array([[1, 2],\n",
              "       [6, 7],\n",
              "       [3, 5],\n",
              "       [8, 9]])"
            ]
          },
          "metadata": {},
          "execution_count": 35
        }
      ]
    },
    {
      "cell_type": "code",
      "source": [
        "np.vstack((b, a))"
      ],
      "metadata": {
        "id": "CQgfxneiNMIN",
        "colab": {
          "base_uri": "https://localhost:8080/"
        },
        "outputId": "76dabe4e-9f3f-41ee-d570-054627787471"
      },
      "execution_count": null,
      "outputs": [
        {
          "output_type": "execute_result",
          "data": {
            "text/plain": [
              "array([[3, 5],\n",
              "       [8, 9],\n",
              "       [1, 2],\n",
              "       [6, 7]])"
            ]
          },
          "metadata": {},
          "execution_count": 36
        }
      ]
    },
    {
      "cell_type": "code",
      "source": [
        "np.concatenate((a, b))"
      ],
      "metadata": {
        "id": "4wr9XuOxNUhw",
        "colab": {
          "base_uri": "https://localhost:8080/"
        },
        "outputId": "05ec7f7a-ae3a-4623-ca18-f30f767a7f8f"
      },
      "execution_count": null,
      "outputs": [
        {
          "output_type": "execute_result",
          "data": {
            "text/plain": [
              "array([[1, 2],\n",
              "       [6, 7],\n",
              "       [3, 5],\n",
              "       [8, 9]])"
            ]
          },
          "metadata": {},
          "execution_count": 116
        }
      ]
    },
    {
      "cell_type": "code",
      "source": [
        "np.concatenate((a, b), axis = None)"
      ],
      "metadata": {
        "id": "DMYEptGNNefA",
        "colab": {
          "base_uri": "https://localhost:8080/"
        },
        "outputId": "2ec346bd-17a5-4494-bf02-f5ef4177b4d6"
      },
      "execution_count": null,
      "outputs": [
        {
          "output_type": "execute_result",
          "data": {
            "text/plain": [
              "array([1, 2, 6, 7, 3, 5, 8, 9])"
            ]
          },
          "metadata": {},
          "execution_count": 86
        }
      ]
    },
    {
      "cell_type": "markdown",
      "source": [
        "[<font color='red'>**แบบฝึกหัด**</font>] จากภาพ จงนำข้อมูลของทั้ง 4 คน มาต่อกันและเรียงข้อมูลให้ถูกต้องตามเวลา\n",
        "\n",
        "เมื่อกำหนดอาเรย์ T1, T2, T3, และ T4  แทนข้อมูลของคนที่ 1, 2, 3, และ 4 ตามลำดับ"
      ],
      "metadata": {
        "id": "QR8xSfPwBhsW"
      }
    },
    {
      "cell_type": "markdown",
      "source": [
        "<img src = 'https://drive.google.com/uc?id=1xxgkT7ctMkyivPRLbxzfA7HiDXzSLr-1' alt = 'image test' width ='550px'>"
      ],
      "metadata": {
        "id": "Rf45P9WBBVxE"
      }
    },
    {
      "cell_type": "code",
      "source": [
        "import numpy as np"
      ],
      "metadata": {
        "id": "jWmq7fFTjEQc"
      },
      "execution_count": null,
      "outputs": []
    },
    {
      "cell_type": "code",
      "source": [
        "T1 = np.array([20.15, 23.22])\n",
        "T2 = np.array([32.12, 32.85])\n",
        "T3 = np.array([27.55, 30.05])\n",
        "T4 = np.array([34.43, 33.68])"
      ],
      "metadata": {
        "id": "oj2aYdrHjPCk"
      },
      "execution_count": null,
      "outputs": []
    },
    {
      "cell_type": "code",
      "source": [
        "TT = np.sort(np.concatenate((T1, T2, T3, T4), axis = None))"
      ],
      "metadata": {
        "id": "5wTI5f0Ckxa9"
      },
      "execution_count": null,
      "outputs": []
    },
    {
      "cell_type": "code",
      "source": [
        "TT"
      ],
      "metadata": {
        "id": "l4gdJ6d9JY7_",
        "colab": {
          "base_uri": "https://localhost:8080/"
        },
        "outputId": "c0371a1d-fea6-434b-ede6-a885e3247e1e"
      },
      "execution_count": null,
      "outputs": [
        {
          "output_type": "execute_result",
          "data": {
            "text/plain": [
              "array([20.15, 23.22, 27.55, 30.05, 32.12, 32.85, 33.68, 34.43])"
            ]
          },
          "metadata": {},
          "execution_count": 47
        }
      ]
    },
    {
      "cell_type": "markdown",
      "source": [
        "#**เอกสารอ้างอิง**\n",
        "\n",
        "> https://www.programiz.com/python-programming/operators\n",
        "\n",
        "> https://realpython.com/numpy-tutorial/\n",
        "\n",
        "> https://www.geeksforgeeks.org/numpy-tutorial/\n",
        "\n",
        "> https://www.w3schools.com/python/numpy/default.asp\n",
        "\n",
        "> หรือค้นหาในเว็บเบราว์เซอร์ ด้วยคำว่า \"Data Science, Numpy\""
      ],
      "metadata": {
        "id": "a5yHtLGFYXoS"
      }
    },
    {
      "cell_type": "markdown",
      "source": [
        "<img src = 'https://drive.google.com/uc?id=1yV9MzBC4w8J58eKhK8iCuo_O7ttjo4tQ' alt = 'image test' width ='1100px'>"
      ],
      "metadata": {
        "id": "yKHLkdduYYJT"
      }
    }
  ]
}