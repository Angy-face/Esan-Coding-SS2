{
  "nbformat": 4,
  "nbformat_minor": 0,
  "metadata": {
    "colab": {
      "provenance": [],
      "include_colab_link": true
    },
    "kernelspec": {
      "name": "python3",
      "display_name": "Python 3"
    },
    "language_info": {
      "name": "python"
    }
  },
  "cells": [
    {
      "cell_type": "markdown",
      "metadata": {
        "id": "view-in-github",
        "colab_type": "text"
      },
      "source": [
        "<a href=\"https://colab.research.google.com/github/Angy-face/Esan-Coding-SS2/blob/main/2_1_Numpy.ipynb\" target=\"_parent\"><img src=\"https://colab.research.google.com/assets/colab-badge.svg\" alt=\"Open In Colab\"/></a>"
      ]
    },
    {
      "cell_type": "code",
      "source": [
        "from google.colab import drive\n",
        "drive.mount('/content/drive',force_remount=True)"
      ],
      "metadata": {
        "id": "eEvbpvXQLr1w",
        "outputId": "8af72966-eebf-4b41-93fe-07835b3f87a8",
        "colab": {
          "base_uri": "https://localhost:8080/"
        }
      },
      "execution_count": 1,
      "outputs": [
        {
          "output_type": "stream",
          "name": "stdout",
          "text": [
            "Mounted at /content/drive\n"
          ]
        }
      ]
    },
    {
      "cell_type": "markdown",
      "source": [
        "<img src = 'https://drive.google.com/uc?id=1prj-mqSRBDZ6j01TFDJGwcDniB-gqVE4' alt = 'image test' width ='1100px'>\n",
        "\n"
      ],
      "metadata": {
        "id": "CCqlk_uu0Omz"
      }
    },
    {
      "cell_type": "markdown",
      "source": [
        "\n",
        "บรรยายโดย <font color='blue'>ผู้ช่วยศาสตราจารย์ ดร.บุรัสกร นันทดิลก</font>\n",
        "\n",
        "สาขาวิชา *Industrial Optimisation and Applications* (international program) และสาขาวิชา *คณิตศาสตร์*\n",
        "\n",
        "คณะวิทยาศาสตร์ มหาวิทยาลัยแม่โจ้ จ.เชียงใหม่"
      ],
      "metadata": {
        "id": "A_3ZLFLnxSde"
      }
    },
    {
      "cell_type": "markdown",
      "source": [
        "คอร์สที่ 2 **Coding for Data scientists** ประกอบด้วย\n",
        "\n",
        "2.1 <font color='darkpurple'>**Numpy**</font>\n",
        "\n",
        "2.2 <font color='darkpurple'>Pandas</font>\n",
        "\n",
        "2.3 <font color='darkpurple'>Matplotlib</font>\n",
        "\n",
        "2.4 <font color='darkpurple'>Seaborn</font>"
      ],
      "metadata": {
        "id": "QCczhZAkPPH8"
      }
    },
    {
      "cell_type": "markdown",
      "source": [
        "#**<font color='darkpurple'>2.1 Numpy**</font>\n",
        "\n",
        "> **NumPy** เป็นไลบรารีของ Python ที่ให้โครงสร้างข้อมูลที่เรียบง่ายแต่ทรงพลัง นั่นคือ ใช้จัดการข้อมูล อาร์เรย์ n มิติ ได้\n",
        "\n",
        "> การเรียนรู้ NumPy จะเป็นก้าวแรกในการเดินทางของนักวิทยาศาสตร์ข้อมูล (Python data scientist)\n",
        "\n",
        "- Array\n",
        "- Array Shapes and Axes\n",
        "- Data Science Operations: Filter, Order, Aggregate"
      ],
      "metadata": {
        "id": "IQmNKwu16PXI"
      }
    },
    {
      "cell_type": "markdown",
      "source": [
        "##<font color='blue'>2.1.1 Array</font>\n",
        "\n",
        "> Array (อาเรย์) คือประเภทข้อมูลที่สามารถเก็บเรียงกันเป็นลำดับได้ หรือข้อมูลที่ระบุตำแหน่งได้\n",
        "\n",
        "> อาจจะเรียงกันเป็นแถวแนวนอน เรียงกันเป็นเป็นแถวแนวตั้ง หรือเรียงกันเป็นตาราง หรือหลายๆตารางซ้อนกัน\n",
        "\n",
        "<img src = 'https://drive.google.com/uc?id=1TBTrhNr7vb5Lkq9Z_mgt0x0FYRIeu7b-' alt = 'image test' width ='500px'>"
      ],
      "metadata": {
        "id": "OujFGEdzsL7U"
      }
    },
    {
      "cell_type": "code",
      "execution_count": 2,
      "metadata": {
        "id": "p4ODNjwqngi1"
      },
      "outputs": [],
      "source": [
        "import numpy as np #เรียกใช้งาน numpy และแทนด้วย np"
      ]
    },
    {
      "cell_type": "code",
      "source": [
        "number1D = np.array([1,2,3]) #ข้อมูลเรียงกันเป็นแถว (แนวนอน) ขนาด 1 แถว x 3 หลัก"
      ],
      "metadata": {
        "id": "XOEtpzoY1F0O"
      },
      "execution_count": 3,
      "outputs": []
    },
    {
      "cell_type": "code",
      "source": [
        "number1D"
      ],
      "metadata": {
        "id": "EYPK-gTE1X9p",
        "colab": {
          "base_uri": "https://localhost:8080/"
        },
        "outputId": "f7dc71f3-f221-4ba3-d018-66c042136b0e"
      },
      "execution_count": 4,
      "outputs": [
        {
          "output_type": "execute_result",
          "data": {
            "text/plain": [
              "array([1, 2, 3])"
            ]
          },
          "metadata": {},
          "execution_count": 4
        }
      ]
    },
    {
      "cell_type": "code",
      "source": [
        "number1D[2]"
      ],
      "metadata": {
        "id": "wq-9csazlBnv",
        "colab": {
          "base_uri": "https://localhost:8080/"
        },
        "outputId": "c3628a87-8f80-45b1-a5ea-bb07f2cc535f"
      },
      "execution_count": 5,
      "outputs": [
        {
          "output_type": "execute_result",
          "data": {
            "text/plain": [
              "3"
            ]
          },
          "metadata": {},
          "execution_count": 5
        }
      ]
    },
    {
      "cell_type": "code",
      "source": [
        "number2D = np.array([[1,2,3],\n",
        "                     [4,5,6],\n",
        "                     [7,8,9]]) #ข้อมูลเรียงกันเป็นตารางขนาด 3 แถว x 3 หลัก"
      ],
      "metadata": {
        "id": "0I4ZWpvUopP-"
      },
      "execution_count": 6,
      "outputs": []
    },
    {
      "cell_type": "code",
      "source": [
        "number2D"
      ],
      "metadata": {
        "id": "SDFUiu4DUAqM",
        "colab": {
          "base_uri": "https://localhost:8080/"
        },
        "outputId": "506a5d44-0578-46f8-df1e-06b4b968083b"
      },
      "execution_count": 7,
      "outputs": [
        {
          "output_type": "execute_result",
          "data": {
            "text/plain": [
              "array([[1, 2, 3],\n",
              "       [4, 5, 6],\n",
              "       [7, 8, 9]])"
            ]
          },
          "metadata": {},
          "execution_count": 7
        }
      ]
    },
    {
      "cell_type": "code",
      "source": [
        "number2D[(2,1)]"
      ],
      "metadata": {
        "id": "ZzhUlSEClLAd",
        "colab": {
          "base_uri": "https://localhost:8080/"
        },
        "outputId": "85ecd075-6738-40a2-b21f-d31559a63016"
      },
      "execution_count": 8,
      "outputs": [
        {
          "output_type": "execute_result",
          "data": {
            "text/plain": [
              "8"
            ]
          },
          "metadata": {},
          "execution_count": 8
        }
      ]
    },
    {
      "cell_type": "code",
      "source": [
        "number2D_2 = np.array([[1,2,3,4,5],\n",
        "                       [6,7,8,9,0]])\n",
        "number2D_2"
      ],
      "metadata": {
        "colab": {
          "base_uri": "https://localhost:8080/"
        },
        "id": "9UMbr58mGXY5",
        "outputId": "ce10790a-371a-49c9-9a58-b23a12dcba68"
      },
      "execution_count": 9,
      "outputs": [
        {
          "output_type": "execute_result",
          "data": {
            "text/plain": [
              "array([[1, 2, 3, 4, 5],\n",
              "       [6, 7, 8, 9, 0]])"
            ]
          },
          "metadata": {},
          "execution_count": 9
        }
      ]
    },
    {
      "cell_type": "code",
      "source": [
        "#สร้างตัวแปร text1 เพื่อเก็บข้อมูลตัวอักษร a, b, c ในแนวนอน\n",
        "text1 = np.array(['a', 'b', 'c'])"
      ],
      "metadata": {
        "id": "JdaIwtP-6xl6"
      },
      "execution_count": 10,
      "outputs": []
    },
    {
      "cell_type": "code",
      "source": [
        "text1"
      ],
      "metadata": {
        "id": "zVhBFc9gUyP3",
        "colab": {
          "base_uri": "https://localhost:8080/"
        },
        "outputId": "9ad1b30f-e52b-4d72-dfde-52379db06450"
      },
      "execution_count": 11,
      "outputs": [
        {
          "output_type": "execute_result",
          "data": {
            "text/plain": [
              "array(['a', 'b', 'c'], dtype='<U1')"
            ]
          },
          "metadata": {},
          "execution_count": 11
        }
      ]
    },
    {
      "cell_type": "code",
      "source": [
        "#สร้างตัวแปร text2 เพื่อเก็บข้อมูลตัวอักษร d, e, f ในแนวตั้ง\n",
        "text2 = np.array([['d'],['e'],['f']])"
      ],
      "metadata": {
        "id": "U8NAFiXH7dNj"
      },
      "execution_count": 12,
      "outputs": []
    },
    {
      "cell_type": "code",
      "source": [
        "text2"
      ],
      "metadata": {
        "id": "mPub7DMUVHHB",
        "colab": {
          "base_uri": "https://localhost:8080/"
        },
        "outputId": "dacc75dd-512d-4300-f176-34dee7fe8c98"
      },
      "execution_count": 13,
      "outputs": [
        {
          "output_type": "execute_result",
          "data": {
            "text/plain": [
              "array([['d'],\n",
              "       ['e'],\n",
              "       ['f']], dtype='<U1')"
            ]
          },
          "metadata": {},
          "execution_count": 13
        }
      ]
    },
    {
      "cell_type": "code",
      "source": [
        "#ทดลองสร้างข้อมูล 3 มิติง่ายๆกันขนาด 2x3x4 กัน\n",
        "# 2 ชั้น x 3 แถว x 4 หลัก\n",
        "number3D = np.array([[[1, 2, 3, 4],\n",
        "                      [11, 12, 13, 14],\n",
        "                      [21, 22, 23, 24]],\n",
        "                     [[34, 35, 36, 37],\n",
        "                      [45, 46, 47, 48],\n",
        "                      [56, 57, 58, 59]]])"
      ],
      "metadata": {
        "id": "RpsVXeI62I54"
      },
      "execution_count": 14,
      "outputs": []
    },
    {
      "cell_type": "code",
      "source": [
        "number3D"
      ],
      "metadata": {
        "id": "mdqYs_VfhZO4",
        "colab": {
          "base_uri": "https://localhost:8080/"
        },
        "outputId": "168dd72c-88a1-4175-c7f5-0fa2ac035de0"
      },
      "execution_count": 15,
      "outputs": [
        {
          "output_type": "execute_result",
          "data": {
            "text/plain": [
              "array([[[ 1,  2,  3,  4],\n",
              "        [11, 12, 13, 14],\n",
              "        [21, 22, 23, 24]],\n",
              "\n",
              "       [[34, 35, 36, 37],\n",
              "        [45, 46, 47, 48],\n",
              "        [56, 57, 58, 59]]])"
            ]
          },
          "metadata": {},
          "execution_count": 15
        }
      ]
    },
    {
      "cell_type": "code",
      "source": [
        "number3D[(0,2,1)] # ทายซิ...ว่าเลขอะไร ??"
      ],
      "metadata": {
        "id": "XW04v70BloG-",
        "colab": {
          "base_uri": "https://localhost:8080/"
        },
        "outputId": "39261905-38a5-4749-a660-ca0f03163e08"
      },
      "execution_count": 16,
      "outputs": [
        {
          "output_type": "execute_result",
          "data": {
            "text/plain": [
              "22"
            ]
          },
          "metadata": {},
          "execution_count": 16
        }
      ]
    },
    {
      "cell_type": "markdown",
      "source": [
        "[<font color='red'>**แบบฝึกหัด**</font>] จงสร้างอาเรย์ 2 มิติ เพื่อเก็บข้อมูลของวันที่ 1 และ 2 ไว้ในตัวแปร N1 และ N2 ตามลำดับ\n",
        "\n",
        "และหาค่าเฉลี่ยของอุณหภูมิเฉลี่ยของทั้งสองวันเก็บไว้ใน N3\n",
        "\n",
        "<img src = 'https://drive.google.com/uc?id=15NLul3WmoRXbOG8Bps0vqlcs9jLuRau3' alt = 'image test' width ='350px'>\n"
      ],
      "metadata": {
        "id": "k7T_lQ34V62A"
      }
    },
    {
      "cell_type": "code",
      "source": [
        "import numpy as np\n",
        "Day1 = np.array([[23.5,24.7,25.1]\n",
        "                ,[35.2,34.1,32.9]])\n",
        "Day2 = np.array([[22.4,24.3,24.9]\n",
        "                ,[37.1,35.5,34.6]])\n",
        "print(Day1)\n",
        "print(Day2)"
      ],
      "metadata": {
        "colab": {
          "base_uri": "https://localhost:8080/"
        },
        "id": "3qrdSXEhL3L5",
        "outputId": "c92dc52b-5b1e-44a7-89df-93b8d40b0d35"
      },
      "execution_count": 17,
      "outputs": [
        {
          "output_type": "stream",
          "name": "stdout",
          "text": [
            "[[23.5 24.7 25.1]\n",
            " [35.2 34.1 32.9]]\n",
            "[[22.4 24.3 24.9]\n",
            " [37.1 35.5 34.6]]\n"
          ]
        }
      ]
    },
    {
      "cell_type": "code",
      "source": [
        "import numpy as np"
      ],
      "metadata": {
        "id": "1hJY9pRr2QjZ"
      },
      "execution_count": 18,
      "outputs": []
    },
    {
      "cell_type": "code",
      "source": [
        "N1=np.array([[23.5,24.7,25.1],\n",
        "             [35.2,34.1,32.9]])"
      ],
      "metadata": {
        "id": "AzLat7QOuE_N"
      },
      "execution_count": 19,
      "outputs": []
    },
    {
      "cell_type": "code",
      "source": [
        "print(N1)"
      ],
      "metadata": {
        "colab": {
          "base_uri": "https://localhost:8080/"
        },
        "id": "nu_l8qdOF_a9",
        "outputId": "877d09a8-21e3-4e7b-ca36-486676668ab0"
      },
      "execution_count": 20,
      "outputs": [
        {
          "output_type": "stream",
          "name": "stdout",
          "text": [
            "[[23.5 24.7 25.1]\n",
            " [35.2 34.1 32.9]]\n"
          ]
        }
      ]
    },
    {
      "cell_type": "code",
      "source": [
        "N2 = np.array([[ 22.4, 24.3, 24.9],\n",
        "              [37.1, 35.5, 34.6]])"
      ],
      "metadata": {
        "id": "D36X8QQ_6sOK"
      },
      "execution_count": 21,
      "outputs": []
    },
    {
      "cell_type": "code",
      "source": [
        "N3= (N1+N2)/2"
      ],
      "metadata": {
        "id": "fXgSV-M6oZ-b"
      },
      "execution_count": 22,
      "outputs": []
    },
    {
      "cell_type": "code",
      "source": [
        "N3"
      ],
      "metadata": {
        "id": "_oFSP_Lwz0Mz",
        "colab": {
          "base_uri": "https://localhost:8080/"
        },
        "outputId": "c5f3ff33-44a7-472d-f5d8-245796b8ea7a"
      },
      "execution_count": 23,
      "outputs": [
        {
          "output_type": "execute_result",
          "data": {
            "text/plain": [
              "array([[22.95, 24.5 , 25.  ],\n",
              "       [36.15, 34.8 , 33.75]])"
            ]
          },
          "metadata": {},
          "execution_count": 23
        }
      ]
    },
    {
      "cell_type": "markdown",
      "source": [
        "### ตัวอย่างการใช้งานอาเรย์ ในการปรับคะแนน\n",
        "\n",
        "> การปรับคะแนน :สมมุติว่าคะแนนที่นักศึกษาได้ อาจจะน้อยกว่าที่คาดไว้ เพราะข้อสอบอาจจะยากเกินไป\n",
        "\n",
        "> อาจารย์จะสามารถปรับเกรดง่ายๆได้ดังตัวอย่าง (คะแนนเต็ม = 100)\n",
        "\n"
      ],
      "metadata": {
        "id": "oICN7h9YrtvP"
      }
    },
    {
      "cell_type": "code",
      "source": [
        "import numpy as np"
      ],
      "metadata": {
        "id": "brMhklwFsVSO"
      },
      "execution_count": 24,
      "outputs": []
    },
    {
      "cell_type": "code",
      "source": [
        "scores = np.array([71, 36, 63, 87, 49, 74, 10])"
      ],
      "metadata": {
        "id": "B1zsp7VAsq8s"
      },
      "execution_count": 25,
      "outputs": []
    },
    {
      "cell_type": "code",
      "source": [
        "np.mean(scores) #คำนวณคะแนนเฉลี่ย"
      ],
      "metadata": {
        "id": "UOcKfWojBcaJ",
        "colab": {
          "base_uri": "https://localhost:8080/"
        },
        "outputId": "3a516ec7-ff01-43f1-e190-562b6905e411"
      },
      "execution_count": 26,
      "outputs": [
        {
          "output_type": "execute_result",
          "data": {
            "text/plain": [
              "55.714285714285715"
            ]
          },
          "metadata": {},
          "execution_count": 26
        }
      ]
    },
    {
      "cell_type": "code",
      "source": [
        "CURVE_CENTER = 80 #ค่าที่ใช้ปรับค่าเฉลี่ย"
      ],
      "metadata": {
        "id": "VF6yaDa1sfsH"
      },
      "execution_count": 27,
      "outputs": []
    },
    {
      "cell_type": "code",
      "source": [
        "def adjust(scores):\n",
        "  average = scores.mean()\n",
        "  print('Average =', average)\n",
        "  change = CURVE_CENTER - average\n",
        "  print('Change =', change)\n",
        "  new_scores = scores + change\n",
        "  print('New scores=',new_scores)\n",
        "  return np.clip(new_scores, scores, 100)"
      ],
      "metadata": {
        "id": "SHIYGOzptCUy"
      },
      "execution_count": 28,
      "outputs": []
    },
    {
      "cell_type": "code",
      "source": [
        "adjust(scores)"
      ],
      "metadata": {
        "id": "SoznDpoCuNR9",
        "colab": {
          "base_uri": "https://localhost:8080/"
        },
        "outputId": "d7cbf1e4-c8bf-4084-e728-a525d88348c2"
      },
      "execution_count": 29,
      "outputs": [
        {
          "output_type": "stream",
          "name": "stdout",
          "text": [
            "Average = 55.714285714285715\n",
            "Change = 24.285714285714285\n",
            "New scores= [ 95.28571429  60.28571429  87.28571429 111.28571429  73.28571429\n",
            "  98.28571429  34.28571429]\n"
          ]
        },
        {
          "output_type": "execute_result",
          "data": {
            "text/plain": [
              "array([ 95.28571429,  60.28571429,  87.28571429, 100.        ,\n",
              "        73.28571429,  98.28571429,  34.28571429])"
            ]
          },
          "metadata": {},
          "execution_count": 29
        }
      ]
    },
    {
      "cell_type": "markdown",
      "source": [
        "##<font color='blue'>2.1.2 Array Shapes and Axes</font>\n",
        "\n",
        "\n",
        "> อาร์เรย์ทั้งหมดมีคุณสมบัติที่เรียกว่า .shape ซึ่งส่งกลับค่าเป็นขนาดในแต่ละมิติ\n",
        "\n",
        "> มิติของข้อมูลเป็นเท่าไร ไม่ใช่สิ่งสำคัญ  แต่สิ่งที่สำคัญจริงๆ คืออาร์เรย์ที่คุณส่งไปยังฟังก์ชันจะต้องมีรูปร่างตามที่ฟังก์ชันคาดหวัง\n",
        "\n",
        "> วิธีทั่วไปในการยืนยันว่าข้อมูลมีรูปร่างที่เหมาะสมคือ การพิมพ์ข้อมูลและรูปร่างจนกว่าจะแน่ใจว่า ทุกอย่างทำงานได้ตามที่คาดหวัง"
      ],
      "metadata": {
        "id": "geT9rqbey1jw"
      }
    },
    {
      "cell_type": "markdown",
      "source": [
        "###1.) Shapes\n",
        "\n",
        "> shape (รูปร่าง) บอกจำนวนชั้น/แถว/หลัก\n",
        "\n",
        "\n",
        "<img src = 'https://drive.google.com/uc?id=1xKFEWL2SodhfYKONCqCmKP10qmGYQn--' alt = 'image test' width ='550px'>"
      ],
      "metadata": {
        "id": "AjP8fJfhAFdT"
      }
    },
    {
      "cell_type": "code",
      "source": [
        "import numpy as np"
      ],
      "metadata": {
        "id": "tuN71Lem24xb"
      },
      "execution_count": 30,
      "outputs": []
    },
    {
      "cell_type": "code",
      "source": [
        "a1 = np.array([1, 2, 3, 4]) # 1d-array"
      ],
      "metadata": {
        "id": "SNwdXSm33VCN"
      },
      "execution_count": 31,
      "outputs": []
    },
    {
      "cell_type": "code",
      "source": [
        "a1.shape"
      ],
      "metadata": {
        "id": "5H2NEY863kJo",
        "colab": {
          "base_uri": "https://localhost:8080/"
        },
        "outputId": "c7903ed7-6654-4dc0-f29e-3b4b26e6352b"
      },
      "execution_count": 32,
      "outputs": [
        {
          "output_type": "execute_result",
          "data": {
            "text/plain": [
              "(4,)"
            ]
          },
          "metadata": {},
          "execution_count": 32
        }
      ]
    },
    {
      "cell_type": "code",
      "source": [
        "a2 = np.array([[1, 2, 3, 4],\n",
        "               [5, 6, 7, 8]]) # 2d-array"
      ],
      "metadata": {
        "id": "ccKqPTsm33Zp"
      },
      "execution_count": 33,
      "outputs": []
    },
    {
      "cell_type": "code",
      "source": [
        "a2.shape"
      ],
      "metadata": {
        "id": "3r1DKE3I3--P",
        "colab": {
          "base_uri": "https://localhost:8080/"
        },
        "outputId": "e815a293-3a3d-4670-c6f0-241c18ff4739"
      },
      "execution_count": 34,
      "outputs": [
        {
          "output_type": "execute_result",
          "data": {
            "text/plain": [
              "(2, 4)"
            ]
          },
          "metadata": {},
          "execution_count": 34
        }
      ]
    },
    {
      "cell_type": "code",
      "source": [
        "a3 = np.array([[[1, 2, 3, 4],\n",
        "                [5, 6, 7, 8]],\n",
        "               [[1, 2, 3, 4],\n",
        "                [5, 6, 7, 8]],\n",
        "               [[1, 2, 3, 4],\n",
        "                [5, 6, 7, 8]]]) # 3d-array"
      ],
      "metadata": {
        "id": "0PBMWzHM4k7Z"
      },
      "execution_count": 35,
      "outputs": []
    },
    {
      "cell_type": "code",
      "source": [
        "a3.shape"
      ],
      "metadata": {
        "id": "ZMj5CTcG4lam",
        "colab": {
          "base_uri": "https://localhost:8080/"
        },
        "outputId": "a9fd6bc8-4748-4685-ce1b-45ed14fdfa8e"
      },
      "execution_count": 36,
      "outputs": [
        {
          "output_type": "execute_result",
          "data": {
            "text/plain": [
              "(3, 2, 4)"
            ]
          },
          "metadata": {},
          "execution_count": 36
        }
      ]
    },
    {
      "cell_type": "code",
      "source": [
        "temperatures = np.array([29.3, 42.1, 18.8, 16.1, 38.1, 12.0, 12.5, 48.7, 39.9, 33.1, 9.9, 22.3]).reshape(2,2,3)"
      ],
      "metadata": {
        "id": "DJ24ovn-5OG-"
      },
      "execution_count": 44,
      "outputs": []
    },
    {
      "cell_type": "code",
      "source": [
        "temperatures.shape\n",
        "print(temperatures)"
      ],
      "metadata": {
        "id": "By8KksN05wt5",
        "colab": {
          "base_uri": "https://localhost:8080/"
        },
        "outputId": "72a3740c-bcfc-4275-921b-0d8a592780ae"
      },
      "execution_count": 45,
      "outputs": [
        {
          "output_type": "stream",
          "name": "stdout",
          "text": [
            "[[[29.3 42.1 18.8]\n",
            "  [16.1 38.1 12. ]]\n",
            "\n",
            " [[12.5 48.7 39.9]\n",
            "  [33.1  9.9 22.3]]]\n"
          ]
        }
      ]
    },
    {
      "cell_type": "code",
      "source": [
        "temperatures #3d-array"
      ],
      "metadata": {
        "id": "fMEApJEU57kI",
        "colab": {
          "base_uri": "https://localhost:8080/"
        },
        "outputId": "e1d74b18-cdb8-479e-ade9-602a53f5966c"
      },
      "execution_count": 46,
      "outputs": [
        {
          "output_type": "execute_result",
          "data": {
            "text/plain": [
              "array([[[29.3, 42.1, 18.8],\n",
              "        [16.1, 38.1, 12. ]],\n",
              "\n",
              "       [[12.5, 48.7, 39.9],\n",
              "        [33.1,  9.9, 22.3]]])"
            ]
          },
          "metadata": {},
          "execution_count": 46
        }
      ]
    },
    {
      "cell_type": "code",
      "source": [
        "np.swapaxes(temperatures, 1, 2) #สลับระหว่าง แถว กับ หลัก"
      ],
      "metadata": {
        "id": "1O2S9eWW6VFe",
        "colab": {
          "base_uri": "https://localhost:8080/"
        },
        "outputId": "08119283-4fd9-4916-a98e-15e7f59395fd"
      },
      "execution_count": 47,
      "outputs": [
        {
          "output_type": "execute_result",
          "data": {
            "text/plain": [
              "array([[[29.3, 16.1],\n",
              "        [42.1, 38.1],\n",
              "        [18.8, 12. ]],\n",
              "\n",
              "       [[12.5, 33.1],\n",
              "        [48.7,  9.9],\n",
              "        [39.9, 22.3]]])"
            ]
          },
          "metadata": {},
          "execution_count": 47
        }
      ]
    },
    {
      "cell_type": "code",
      "source": [
        "np.swapaxes(temperatures, 0, 2) #สลับระหว่าง แถว กับ หลัก"
      ],
      "metadata": {
        "colab": {
          "base_uri": "https://localhost:8080/"
        },
        "id": "MyeFKcauSq4c",
        "outputId": "f16aba67-60fe-4315-f7ba-3f43e107e5cc"
      },
      "execution_count": 48,
      "outputs": [
        {
          "output_type": "execute_result",
          "data": {
            "text/plain": [
              "array([[[29.3, 12.5],\n",
              "        [16.1, 33.1]],\n",
              "\n",
              "       [[42.1, 48.7],\n",
              "        [38.1,  9.9]],\n",
              "\n",
              "       [[18.8, 39.9],\n",
              "        [12. , 22.3]]])"
            ]
          },
          "metadata": {},
          "execution_count": 48
        }
      ]
    },
    {
      "cell_type": "code",
      "source": [
        "temperatures"
      ],
      "metadata": {
        "colab": {
          "base_uri": "https://localhost:8080/"
        },
        "id": "TxiZAhm9ThBD",
        "outputId": "ff635148-658f-4ee0-935c-35946a3fd720"
      },
      "execution_count": 49,
      "outputs": [
        {
          "output_type": "execute_result",
          "data": {
            "text/plain": [
              "array([[[29.3, 42.1, 18.8],\n",
              "        [16.1, 38.1, 12. ]],\n",
              "\n",
              "       [[12.5, 48.7, 39.9],\n",
              "        [33.1,  9.9, 22.3]]])"
            ]
          },
          "metadata": {},
          "execution_count": 49
        }
      ]
    },
    {
      "cell_type": "markdown",
      "source": [
        "<font color='red'>16.1 เดิมอยู่ที่ตำแหน่ง (0,1,0) ย้ายไปอยู่ที่ตำแหน่ง (0,0,1)</font>\n",
        "\n",
        "<font color='red'>39.9 เดิมอยู่ที่ตำแหน่ง (1,0,2) ย้ายไปอยู่ที่ตำแหน่ง (1,2,0)</font>\n"
      ],
      "metadata": {
        "id": "gIjK9u8R7cBQ"
      }
    },
    {
      "cell_type": "code",
      "source": [
        "np.swapaxes(temperatures, 0, 1) #สลับระหว่าง ชั้น กับ แถว"
      ],
      "metadata": {
        "id": "ol6VcR5LGGgx",
        "colab": {
          "base_uri": "https://localhost:8080/"
        },
        "outputId": "ff881d20-8718-469e-e835-c7a16b5878a6"
      },
      "execution_count": 50,
      "outputs": [
        {
          "output_type": "execute_result",
          "data": {
            "text/plain": [
              "array([[[29.3, 42.1, 18.8],\n",
              "        [12.5, 48.7, 39.9]],\n",
              "\n",
              "       [[16.1, 38.1, 12. ],\n",
              "        [33.1,  9.9, 22.3]]])"
            ]
          },
          "metadata": {},
          "execution_count": 50
        }
      ]
    },
    {
      "cell_type": "markdown",
      "source": [
        "<font color='red'>16.1 เดิมอยู่ที่ตำแหน่ง (0,1,0) ย้ายไปอยู่ที่ตำแหน่ง (1,0,0)</font>\n",
        "\n",
        "<font color='red'>39.9 เดิมอยู่ที่ตำแหน่ง (1,0,2) ย้ายไปอยู่ที่ตำแหน่ง (0,1,2)</font>"
      ],
      "metadata": {
        "id": "b8qahyvK8SfG"
      }
    },
    {
      "cell_type": "markdown",
      "source": [
        "###2.) Axes\n",
        "> axis (แกน)\n",
        "\n",
        "<img src = 'https://drive.google.com/uc?id=1xKFEWL2SodhfYKONCqCmKP10qmGYQn--' alt = 'image test' width ='550px'>"
      ],
      "metadata": {
        "id": "iZtBzGvJAM0J"
      }
    },
    {
      "cell_type": "code",
      "source": [
        "import numpy as np"
      ],
      "metadata": {
        "id": "8Zk20HYsAcyg"
      },
      "execution_count": 51,
      "outputs": []
    },
    {
      "cell_type": "code",
      "source": [
        "table1 =np.array([1, 2, 3, 4, 5, 6, 7, 8, 9, 10, 11, 12, 13, 14, 15, 16]).reshape(4,4)"
      ],
      "metadata": {
        "id": "EvzZwGzoAmLw"
      },
      "execution_count": 52,
      "outputs": []
    },
    {
      "cell_type": "code",
      "source": [
        "table1"
      ],
      "metadata": {
        "id": "rZzWpf6JBIfT",
        "colab": {
          "base_uri": "https://localhost:8080/"
        },
        "outputId": "f273d191-fd26-4300-e909-47860790b65f"
      },
      "execution_count": 53,
      "outputs": [
        {
          "output_type": "execute_result",
          "data": {
            "text/plain": [
              "array([[ 1,  2,  3,  4],\n",
              "       [ 5,  6,  7,  8],\n",
              "       [ 9, 10, 11, 12],\n",
              "       [13, 14, 15, 16]])"
            ]
          },
          "metadata": {},
          "execution_count": 53
        }
      ]
    },
    {
      "cell_type": "code",
      "source": [
        "print(table1)"
      ],
      "metadata": {
        "colab": {
          "base_uri": "https://localhost:8080/"
        },
        "id": "u7UTdaS6U5Mv",
        "outputId": "cc17241b-4519-4ac2-88cf-38005fb9d71f"
      },
      "execution_count": 54,
      "outputs": [
        {
          "output_type": "stream",
          "name": "stdout",
          "text": [
            "[[ 1  2  3  4]\n",
            " [ 5  6  7  8]\n",
            " [ 9 10 11 12]\n",
            " [13 14 15 16]]\n"
          ]
        }
      ]
    },
    {
      "cell_type": "code",
      "source": [
        "table1.max()"
      ],
      "metadata": {
        "id": "pH-P_MYJCdDZ",
        "colab": {
          "base_uri": "https://localhost:8080/"
        },
        "outputId": "2401e709-1352-4208-ffe6-5d43a76e54a5"
      },
      "execution_count": 55,
      "outputs": [
        {
          "output_type": "execute_result",
          "data": {
            "text/plain": [
              "16"
            ]
          },
          "metadata": {},
          "execution_count": 55
        }
      ]
    },
    {
      "cell_type": "code",
      "source": [
        "table1.max(axis=0)"
      ],
      "metadata": {
        "id": "1M_LZqadCkc2",
        "colab": {
          "base_uri": "https://localhost:8080/"
        },
        "outputId": "deb6b322-0bbb-49ea-c017-f8826c2f2f26"
      },
      "execution_count": 56,
      "outputs": [
        {
          "output_type": "execute_result",
          "data": {
            "text/plain": [
              "array([13, 14, 15, 16])"
            ]
          },
          "metadata": {},
          "execution_count": 56
        }
      ]
    },
    {
      "cell_type": "code",
      "source": [
        "table1.max(axis=1)"
      ],
      "metadata": {
        "id": "E678dSc9C7Az",
        "colab": {
          "base_uri": "https://localhost:8080/"
        },
        "outputId": "28ca2137-6bdb-45d0-b410-e0b3cc4ef127"
      },
      "execution_count": 57,
      "outputs": [
        {
          "output_type": "execute_result",
          "data": {
            "text/plain": [
              "array([ 4,  8, 12, 16])"
            ]
          },
          "metadata": {},
          "execution_count": 57
        }
      ]
    },
    {
      "cell_type": "code",
      "source": [
        "table2 =np.array([1, 2, 13, 14, 5, 6, 7, 8, 9, 10, 11, 12, 3, 4, 15, 16]).reshape(4,2,2)"
      ],
      "metadata": {
        "id": "IHpWMLnhDa1x"
      },
      "execution_count": 58,
      "outputs": []
    },
    {
      "cell_type": "code",
      "source": [
        "table2"
      ],
      "metadata": {
        "id": "jO9y6CHlDii8",
        "colab": {
          "base_uri": "https://localhost:8080/"
        },
        "outputId": "759d4003-7ab3-4140-c82e-d2a786c6170a"
      },
      "execution_count": 59,
      "outputs": [
        {
          "output_type": "execute_result",
          "data": {
            "text/plain": [
              "array([[[ 1,  2],\n",
              "        [13, 14]],\n",
              "\n",
              "       [[ 5,  6],\n",
              "        [ 7,  8]],\n",
              "\n",
              "       [[ 9, 10],\n",
              "        [11, 12]],\n",
              "\n",
              "       [[ 3,  4],\n",
              "        [15, 16]]])"
            ]
          },
          "metadata": {},
          "execution_count": 59
        }
      ]
    },
    {
      "cell_type": "code",
      "source": [
        "table2.max(axis=0)"
      ],
      "metadata": {
        "id": "5bs0itpFDxWm",
        "colab": {
          "base_uri": "https://localhost:8080/"
        },
        "outputId": "b1a19949-00bb-4557-c51d-5f2def275776"
      },
      "execution_count": 60,
      "outputs": [
        {
          "output_type": "execute_result",
          "data": {
            "text/plain": [
              "array([[ 9, 10],\n",
              "       [15, 16]])"
            ]
          },
          "metadata": {},
          "execution_count": 60
        }
      ]
    },
    {
      "cell_type": "code",
      "source": [
        "table2.max(axis=1)"
      ],
      "metadata": {
        "id": "zL9yPnFJEUMe",
        "colab": {
          "base_uri": "https://localhost:8080/"
        },
        "outputId": "b87f7dbe-2c8c-4686-d49d-b299a5cb9d72"
      },
      "execution_count": 61,
      "outputs": [
        {
          "output_type": "execute_result",
          "data": {
            "text/plain": [
              "array([[13, 14],\n",
              "       [ 7,  8],\n",
              "       [11, 12],\n",
              "       [15, 16]])"
            ]
          },
          "metadata": {},
          "execution_count": 61
        }
      ]
    },
    {
      "cell_type": "code",
      "source": [
        "table2.max(axis=2)"
      ],
      "metadata": {
        "id": "8emSGRihE_Xz",
        "colab": {
          "base_uri": "https://localhost:8080/"
        },
        "outputId": "61c6796f-3273-4b94-a6d7-339eaec9a98b"
      },
      "execution_count": 62,
      "outputs": [
        {
          "output_type": "execute_result",
          "data": {
            "text/plain": [
              "array([[ 2, 14],\n",
              "       [ 6,  8],\n",
              "       [10, 12],\n",
              "       [ 4, 16]])"
            ]
          },
          "metadata": {},
          "execution_count": 62
        }
      ]
    },
    {
      "cell_type": "markdown",
      "source": [
        "[<font color='red'>**แบบฝึกหัด**</font>] จงสร้างอาเรย์ 3 มิติ ขนาด (2,3,2) เพื่อเก็บข้อมูล 1 - 12 ไว้ในตัวแปร num3d\n",
        "\n",
        "และหาค่า min เมื่อ axis = 1"
      ],
      "metadata": {
        "id": "7TJQAy7FAQOI"
      }
    },
    {
      "cell_type": "code",
      "source": [
        "import numpy as np\n",
        "num3d = np.array([1,2,3,4,5,6,7,8,9,10,11,12]).reshape(2,3,2)\n",
        "num3d"
      ],
      "metadata": {
        "colab": {
          "base_uri": "https://localhost:8080/"
        },
        "id": "L1PNwbLyMazi",
        "outputId": "34acedbe-791a-41b6-d9a5-19f1836754be"
      },
      "execution_count": 64,
      "outputs": [
        {
          "output_type": "execute_result",
          "data": {
            "text/plain": [
              "array([[[ 1,  2],\n",
              "        [ 3,  4],\n",
              "        [ 5,  6]],\n",
              "\n",
              "       [[ 7,  8],\n",
              "        [ 9, 10],\n",
              "        [11, 12]]])"
            ]
          },
          "metadata": {},
          "execution_count": 64
        }
      ]
    },
    {
      "cell_type": "code",
      "source": [
        "min = num3d.min(axis=1)\n",
        "min"
      ],
      "metadata": {
        "colab": {
          "base_uri": "https://localhost:8080/"
        },
        "id": "tSlIWxYVMvZS",
        "outputId": "c844635d-e062-4373-d0b1-376e3ddafbbf"
      },
      "execution_count": 65,
      "outputs": [
        {
          "output_type": "execute_result",
          "data": {
            "text/plain": [
              "array([[1, 2],\n",
              "       [7, 8]])"
            ]
          },
          "metadata": {},
          "execution_count": 65
        }
      ]
    },
    {
      "cell_type": "code",
      "source": [
        "import numpy as np"
      ],
      "metadata": {
        "id": "YM8TMYhedwcq"
      },
      "execution_count": 66,
      "outputs": []
    },
    {
      "cell_type": "code",
      "source": [
        "num3d = np.array([3, 4, 1, 10, 23, 41, 77, 24, 51, 73, 5, 99]).reshape(2,3,2)"
      ],
      "metadata": {
        "id": "3V2j5GFgd8O-"
      },
      "execution_count": 67,
      "outputs": []
    },
    {
      "cell_type": "code",
      "source": [
        "num3d"
      ],
      "metadata": {
        "colab": {
          "base_uri": "https://localhost:8080/"
        },
        "id": "s8BAib6qepG_",
        "outputId": "b9925d12-efb7-4e99-df11-da80134125c8"
      },
      "execution_count": 68,
      "outputs": [
        {
          "output_type": "execute_result",
          "data": {
            "text/plain": [
              "array([[[ 3,  4],\n",
              "        [ 1, 10],\n",
              "        [23, 41]],\n",
              "\n",
              "       [[77, 24],\n",
              "        [51, 73],\n",
              "        [ 5, 99]]])"
            ]
          },
          "metadata": {},
          "execution_count": 68
        }
      ]
    },
    {
      "cell_type": "code",
      "source": [
        "num3d.min(axis= 1)"
      ],
      "metadata": {
        "colab": {
          "base_uri": "https://localhost:8080/"
        },
        "id": "i75YRMW0erRe",
        "outputId": "79988632-65bc-4610-b171-5979a40c9170"
      },
      "execution_count": 69,
      "outputs": [
        {
          "output_type": "execute_result",
          "data": {
            "text/plain": [
              "array([[ 1,  4],\n",
              "       [ 5, 24]])"
            ]
          },
          "metadata": {},
          "execution_count": 69
        }
      ]
    },
    {
      "cell_type": "markdown",
      "source": [
        "##<font color='blue'>2.1.3 Data Science Operations: Filter, Order, Aggregate</font>\n",
        "\n",
        "> กรองข้อมูล, จัดเรียงข้อมูล, การนำข้อมูลมาต่อกัน"
      ],
      "metadata": {
        "id": "gzHHhOka5ARi"
      }
    },
    {
      "cell_type": "markdown",
      "source": [
        "###1.) Masking\n",
        "\n",
        "> การกรองข้อมูลโดยใช้ mask"
      ],
      "metadata": {
        "id": "1tqkvRcS7R7b"
      }
    },
    {
      "cell_type": "markdown",
      "source": [
        "> **mask** คือ อาเรย์ที่มีขนาดเท่ากันกับขนาดข้อมูลของเรา แต่ไม่ใช้อาเรย์ที่เก็บข้อมูล เป็นอาเรย์ที่เก็บค่า True หรือ False\n",
        "\n",
        "เราสามารถใช้ mask เพื่อเป็น index ของข้อมูลได้ ซึ่ง*จะได้ค่าข้อมูลที่เป็น True ออกมา*\n"
      ],
      "metadata": {
        "id": "Dp2bfng_BrdF"
      }
    },
    {
      "cell_type": "code",
      "source": [
        "import numpy as np"
      ],
      "metadata": {
        "id": "A0HA6czU4-no"
      },
      "execution_count": 72,
      "outputs": []
    },
    {
      "cell_type": "code",
      "source": [
        "test = np.linspace(1,100,100)\n",
        "test"
      ],
      "metadata": {
        "colab": {
          "base_uri": "https://localhost:8080/"
        },
        "id": "d_EW75DcNlG8",
        "outputId": "cbdffa91-dcb7-471c-f02a-9a3d22908a46"
      },
      "execution_count": 75,
      "outputs": [
        {
          "output_type": "execute_result",
          "data": {
            "text/plain": [
              "array([  1.,   2.,   3.,   4.,   5.,   6.,   7.,   8.,   9.,  10.,  11.,\n",
              "        12.,  13.,  14.,  15.,  16.,  17.,  18.,  19.,  20.,  21.,  22.,\n",
              "        23.,  24.,  25.,  26.,  27.,  28.,  29.,  30.,  31.,  32.,  33.,\n",
              "        34.,  35.,  36.,  37.,  38.,  39.,  40.,  41.,  42.,  43.,  44.,\n",
              "        45.,  46.,  47.,  48.,  49.,  50.,  51.,  52.,  53.,  54.,  55.,\n",
              "        56.,  57.,  58.,  59.,  60.,  61.,  62.,  63.,  64.,  65.,  66.,\n",
              "        67.,  68.,  69.,  70.,  71.,  72.,  73.,  74.,  75.,  76.,  77.,\n",
              "        78.,  79.,  80.,  81.,  82.,  83.,  84.,  85.,  86.,  87.,  88.,\n",
              "        89.,  90.,  91.,  92.,  93.,  94.,  95.,  96.,  97.,  98.,  99.,\n",
              "       100.])"
            ]
          },
          "metadata": {},
          "execution_count": 75
        }
      ]
    },
    {
      "cell_type": "code",
      "source": [
        "np.linspace(0, 10, 25)"
      ],
      "metadata": {
        "id": "AVpguiuECUjn",
        "colab": {
          "base_uri": "https://localhost:8080/"
        },
        "outputId": "65d0c034-3a04-4da0-c899-9bd9889ebb16"
      },
      "execution_count": 71,
      "outputs": [
        {
          "output_type": "execute_result",
          "data": {
            "text/plain": [
              "array([ 0.        ,  0.41666667,  0.83333333,  1.25      ,  1.66666667,\n",
              "        2.08333333,  2.5       ,  2.91666667,  3.33333333,  3.75      ,\n",
              "        4.16666667,  4.58333333,  5.        ,  5.41666667,  5.83333333,\n",
              "        6.25      ,  6.66666667,  7.08333333,  7.5       ,  7.91666667,\n",
              "        8.33333333,  8.75      ,  9.16666667,  9.58333333, 10.        ])"
            ]
          },
          "metadata": {},
          "execution_count": 71
        }
      ]
    },
    {
      "cell_type": "code",
      "source": [
        "np.linspace(0, 10, 25, dtype = int)"
      ],
      "metadata": {
        "id": "71tUz56eDTG6",
        "colab": {
          "base_uri": "https://localhost:8080/"
        },
        "outputId": "e461408e-0a55-4dc9-ef20-b11119c52578"
      },
      "execution_count": 76,
      "outputs": [
        {
          "output_type": "execute_result",
          "data": {
            "text/plain": [
              "array([ 0,  0,  0,  1,  1,  2,  2,  2,  3,  3,  4,  4,  5,  5,  5,  6,  6,\n",
              "        7,  7,  7,  8,  8,  9,  9, 10])"
            ]
          },
          "metadata": {},
          "execution_count": 76
        }
      ]
    },
    {
      "cell_type": "code",
      "source": [
        "numbers = np.linspace(5, 50 ,25, dtype = int).reshape(5,-1) #Reshaping an array with -1 โปรแกรมคำนวณหลักเอาเองด้วย -1"
      ],
      "metadata": {
        "id": "qZLeIY6L77Ru"
      },
      "execution_count": 86,
      "outputs": []
    },
    {
      "cell_type": "code",
      "source": [
        "numbers.shape"
      ],
      "metadata": {
        "colab": {
          "base_uri": "https://localhost:8080/"
        },
        "id": "8K5n3F1gOC57",
        "outputId": "c2210e5e-29f0-4098-c410-cfb50ec3e224"
      },
      "execution_count": 87,
      "outputs": [
        {
          "output_type": "execute_result",
          "data": {
            "text/plain": [
              "(5, 5)"
            ]
          },
          "metadata": {},
          "execution_count": 87
        }
      ]
    },
    {
      "cell_type": "code",
      "source": [
        "numbers"
      ],
      "metadata": {
        "id": "z5gCZ-rC8YNU",
        "colab": {
          "base_uri": "https://localhost:8080/"
        },
        "outputId": "e10c0b14-077f-4399-c081-6b3a6875f142"
      },
      "execution_count": 88,
      "outputs": [
        {
          "output_type": "execute_result",
          "data": {
            "text/plain": [
              "array([[ 5,  6,  8, 10, 12],\n",
              "       [14, 16, 18, 20, 21],\n",
              "       [23, 25, 27, 29, 31],\n",
              "       [33, 35, 36, 38, 40],\n",
              "       [42, 44, 46, 48, 50]])"
            ]
          },
          "metadata": {},
          "execution_count": 88
        }
      ]
    },
    {
      "cell_type": "code",
      "source": [
        "mask = numbers % 5 == 0 #modulo"
      ],
      "metadata": {
        "id": "HnQoT3G4-c9-"
      },
      "execution_count": 89,
      "outputs": []
    },
    {
      "cell_type": "code",
      "source": [
        "mask"
      ],
      "metadata": {
        "id": "liivuePv_9tG",
        "colab": {
          "base_uri": "https://localhost:8080/"
        },
        "outputId": "83bfa356-8f96-49c9-f82d-52579f1c182e"
      },
      "execution_count": 90,
      "outputs": [
        {
          "output_type": "execute_result",
          "data": {
            "text/plain": [
              "array([[ True, False, False,  True, False],\n",
              "       [False, False, False,  True, False],\n",
              "       [False,  True, False, False, False],\n",
              "       [False,  True, False, False,  True],\n",
              "       [False, False, False, False,  True]])"
            ]
          },
          "metadata": {},
          "execution_count": 90
        }
      ]
    },
    {
      "cell_type": "code",
      "source": [
        "numbers[mask] #เอาเฉพาะตัวที่เป็น True"
      ],
      "metadata": {
        "id": "xtaQvLDoAR-g",
        "colab": {
          "base_uri": "https://localhost:8080/"
        },
        "outputId": "6849c3cb-939c-488a-8257-8198428f4b62"
      },
      "execution_count": 92,
      "outputs": [
        {
          "output_type": "execute_result",
          "data": {
            "text/plain": [
              "array([ 5, 10, 20, 25, 35, 40, 50])"
            ]
          },
          "metadata": {},
          "execution_count": 92
        }
      ]
    },
    {
      "cell_type": "code",
      "source": [
        "by_five = numbers[numbers % 5 == 0]"
      ],
      "metadata": {
        "id": "O3mJwnppAmvb"
      },
      "execution_count": 93,
      "outputs": []
    },
    {
      "cell_type": "code",
      "source": [
        "by_two = numbers[numbers % 2 == 0]"
      ],
      "metadata": {
        "id": "ygWRfyNdPBm3"
      },
      "execution_count": 95,
      "outputs": []
    },
    {
      "cell_type": "code",
      "source": [
        "by_two"
      ],
      "metadata": {
        "colab": {
          "base_uri": "https://localhost:8080/"
        },
        "id": "QDcY6XedPGgb",
        "outputId": "cbac8fb7-ba90-4a41-987f-22374f3c40fe"
      },
      "execution_count": 96,
      "outputs": [
        {
          "output_type": "execute_result",
          "data": {
            "text/plain": [
              "array([ 6,  8, 10, 12, 14, 16, 18, 20, 36, 38, 40, 42, 44, 46, 48, 50])"
            ]
          },
          "metadata": {},
          "execution_count": 96
        }
      ]
    },
    {
      "cell_type": "code",
      "source": [
        "by_five"
      ],
      "metadata": {
        "id": "EDZXEes5BGpm",
        "colab": {
          "base_uri": "https://localhost:8080/"
        },
        "outputId": "827d56ab-8a68-449e-c736-142934a045b6"
      },
      "execution_count": 94,
      "outputs": [
        {
          "output_type": "execute_result",
          "data": {
            "text/plain": [
              "array([ 5, 10, 20, 25, 35, 40, 50])"
            ]
          },
          "metadata": {},
          "execution_count": 94
        }
      ]
    },
    {
      "cell_type": "code",
      "source": [
        "by_five.shape #.shape บอกลักษะmetrix ว่ามีกี่ตัว หลัก แถว"
      ],
      "metadata": {
        "id": "9vaicKhXFmjB",
        "colab": {
          "base_uri": "https://localhost:8080/"
        },
        "outputId": "76b585f3-6adb-41b4-b092-40d6c8a60e13"
      },
      "execution_count": 97,
      "outputs": [
        {
          "output_type": "execute_result",
          "data": {
            "text/plain": [
              "(7,)"
            ]
          },
          "metadata": {},
          "execution_count": 97
        }
      ]
    },
    {
      "cell_type": "markdown",
      "source": [
        "###2.) Transposing\n",
        "\n",
        "> การจัดเรียงข้อมูลโดยสลับแถวและหลัก"
      ],
      "metadata": {
        "id": "JCG5kT5hKEJG"
      }
    },
    {
      "cell_type": "code",
      "source": [
        "import numpy as np"
      ],
      "metadata": {
        "id": "01fWaEuRKDgu"
      },
      "execution_count": 98,
      "outputs": []
    },
    {
      "cell_type": "code",
      "source": [
        "a = np.array([[1, 2],\n",
        "              [3, 4],\n",
        "              [5, 6]])"
      ],
      "metadata": {
        "id": "6GSnj4wSKUuC"
      },
      "execution_count": 99,
      "outputs": []
    },
    {
      "cell_type": "code",
      "source": [
        "a"
      ],
      "metadata": {
        "id": "eWdC3ghFKqRb",
        "colab": {
          "base_uri": "https://localhost:8080/"
        },
        "outputId": "0d080c05-4cc8-47a8-ca39-6e0335434f01"
      },
      "execution_count": 100,
      "outputs": [
        {
          "output_type": "execute_result",
          "data": {
            "text/plain": [
              "array([[1, 2],\n",
              "       [3, 4],\n",
              "       [5, 6]])"
            ]
          },
          "metadata": {},
          "execution_count": 100
        }
      ]
    },
    {
      "cell_type": "code",
      "source": [
        "a.T"
      ],
      "metadata": {
        "id": "FVuHl91YKnhY",
        "colab": {
          "base_uri": "https://localhost:8080/"
        },
        "outputId": "ab7aceb3-12d1-4152-ceb2-05eb821f3953"
      },
      "execution_count": 101,
      "outputs": [
        {
          "output_type": "execute_result",
          "data": {
            "text/plain": [
              "array([[1, 3, 5],\n",
              "       [2, 4, 6]])"
            ]
          },
          "metadata": {},
          "execution_count": 101
        }
      ]
    },
    {
      "cell_type": "code",
      "source": [
        "A =a.transpose()"
      ],
      "metadata": {
        "id": "o4hX7N21Kurc"
      },
      "execution_count": 103,
      "outputs": []
    },
    {
      "cell_type": "code",
      "source": [
        "A.T"
      ],
      "metadata": {
        "colab": {
          "base_uri": "https://localhost:8080/"
        },
        "id": "lk5TAcMvPYCh",
        "outputId": "27b5f0f0-fe5e-4897-ef28-fd9d925e59a3"
      },
      "execution_count": 104,
      "outputs": [
        {
          "output_type": "execute_result",
          "data": {
            "text/plain": [
              "array([[1, 2],\n",
              "       [3, 4],\n",
              "       [5, 6]])"
            ]
          },
          "metadata": {},
          "execution_count": 104
        }
      ]
    },
    {
      "cell_type": "markdown",
      "source": [
        "###3.) Sorting\n",
        "\n",
        "> การจัดเรียงข้อมูลโดยเรียงลำดับข้อมูลจากน้อยไปหามาก"
      ],
      "metadata": {
        "id": "4-_m-6UkLCIf"
      }
    },
    {
      "cell_type": "code",
      "source": [
        "import numpy as np"
      ],
      "metadata": {
        "id": "DdYqGGqrK9rU"
      },
      "execution_count": 105,
      "outputs": []
    },
    {
      "cell_type": "code",
      "source": [
        "data = np.array([[3, 1, 5],\n",
        "                 [5, 7, 6],\n",
        "                 [1, 8, 9]])"
      ],
      "metadata": {
        "id": "bEcua4UiLK4s"
      },
      "execution_count": 107,
      "outputs": []
    },
    {
      "cell_type": "code",
      "source": [
        "data"
      ],
      "metadata": {
        "id": "W4jJIFMgLh3P",
        "colab": {
          "base_uri": "https://localhost:8080/"
        },
        "outputId": "bfadfff4-bf25-4614-9aff-7b0032a65512"
      },
      "execution_count": 108,
      "outputs": [
        {
          "output_type": "execute_result",
          "data": {
            "text/plain": [
              "array([[3, 1, 5],\n",
              "       [5, 7, 6],\n",
              "       [1, 8, 9]])"
            ]
          },
          "metadata": {},
          "execution_count": 108
        }
      ]
    },
    {
      "cell_type": "code",
      "source": [
        "np.sort(data)"
      ],
      "metadata": {
        "id": "WpjLe8ukLi3-",
        "colab": {
          "base_uri": "https://localhost:8080/"
        },
        "outputId": "afaff577-f75c-475b-8abd-57a67f5bf988"
      },
      "execution_count": 109,
      "outputs": [
        {
          "output_type": "execute_result",
          "data": {
            "text/plain": [
              "array([[1, 3, 5],\n",
              "       [5, 6, 7],\n",
              "       [1, 8, 9]])"
            ]
          },
          "metadata": {},
          "execution_count": 109
        }
      ]
    },
    {
      "cell_type": "code",
      "source": [
        "data"
      ],
      "metadata": {
        "id": "Qeyjz4i7Ltz3",
        "colab": {
          "base_uri": "https://localhost:8080/"
        },
        "outputId": "bf672e48-a11a-47cc-bc20-eb77f42998ff"
      },
      "execution_count": 110,
      "outputs": [
        {
          "output_type": "execute_result",
          "data": {
            "text/plain": [
              "array([[3, 1, 5],\n",
              "       [5, 7, 6],\n",
              "       [1, 8, 9]])"
            ]
          },
          "metadata": {},
          "execution_count": 110
        }
      ]
    },
    {
      "cell_type": "code",
      "source": [
        "np.sort(data, axis = None)"
      ],
      "metadata": {
        "id": "3pRASUabLxbV",
        "colab": {
          "base_uri": "https://localhost:8080/"
        },
        "outputId": "dbd6a962-f237-426f-a56e-bb947fa2f54e"
      },
      "execution_count": 111,
      "outputs": [
        {
          "output_type": "execute_result",
          "data": {
            "text/plain": [
              "array([1, 1, 3, 5, 5, 6, 7, 8, 9])"
            ]
          },
          "metadata": {},
          "execution_count": 111
        }
      ]
    },
    {
      "cell_type": "code",
      "source": [
        "np.sort(data, axis = 0)"
      ],
      "metadata": {
        "id": "KaXR6Mj6MbZV",
        "colab": {
          "base_uri": "https://localhost:8080/"
        },
        "outputId": "ceeb77d1-d0e3-495e-d96e-ca046a3aa9c0"
      },
      "execution_count": null,
      "outputs": [
        {
          "output_type": "execute_result",
          "data": {
            "text/plain": [
              "array([[1, 1, 5],\n",
              "       [3, 7, 6],\n",
              "       [5, 8, 9]])"
            ]
          },
          "metadata": {},
          "execution_count": 109
        }
      ]
    },
    {
      "cell_type": "code",
      "source": [
        "np.sort(data,axis = 1)"
      ],
      "metadata": {
        "colab": {
          "base_uri": "https://localhost:8080/"
        },
        "id": "qrC_gHyePu-G",
        "outputId": "23e96d3e-8a3a-4e4d-e0c2-ebeab257d83f"
      },
      "execution_count": 113,
      "outputs": [
        {
          "output_type": "execute_result",
          "data": {
            "text/plain": [
              "array([[1, 3, 5],\n",
              "       [5, 6, 7],\n",
              "       [1, 8, 9]])"
            ]
          },
          "metadata": {},
          "execution_count": 113
        }
      ]
    },
    {
      "cell_type": "markdown",
      "source": [
        "###4.) Concatenating\n",
        "\n",
        "> การรวมข้อมูล หรือเอาข้อมูลมาต่อกัน"
      ],
      "metadata": {
        "id": "R-S2zmhiMiG8"
      }
    },
    {
      "cell_type": "code",
      "source": [
        "import numpy as np"
      ],
      "metadata": {
        "id": "WCOJBBBIMdbv"
      },
      "execution_count": 114,
      "outputs": []
    },
    {
      "cell_type": "code",
      "source": [
        "a = np.array([[1, 2],\n",
        "              [6, 7]])"
      ],
      "metadata": {
        "id": "SmHngHJwMvYg"
      },
      "execution_count": 115,
      "outputs": []
    },
    {
      "cell_type": "code",
      "source": [
        "b = np.array([[3, 5],\n",
        "              [8, 9]])"
      ],
      "metadata": {
        "id": "xUYwWHoZM7OO"
      },
      "execution_count": 116,
      "outputs": []
    },
    {
      "cell_type": "code",
      "source": [
        "np.hstack((a, b))"
      ],
      "metadata": {
        "id": "muHFcaFtNDI-",
        "colab": {
          "base_uri": "https://localhost:8080/"
        },
        "outputId": "4d85558e-79d4-41d8-92d5-b20f5436d088"
      },
      "execution_count": 120,
      "outputs": [
        {
          "output_type": "execute_result",
          "data": {
            "text/plain": [
              "array([[1, 2, 3, 5],\n",
              "       [6, 7, 8, 9]])"
            ]
          },
          "metadata": {},
          "execution_count": 120
        }
      ]
    },
    {
      "cell_type": "code",
      "source": [
        "np.vstack((a, b))"
      ],
      "metadata": {
        "id": "UhuihoTZNJul",
        "colab": {
          "base_uri": "https://localhost:8080/"
        },
        "outputId": "3345f0df-cc31-458a-e879-65c066caa96f"
      },
      "execution_count": 121,
      "outputs": [
        {
          "output_type": "execute_result",
          "data": {
            "text/plain": [
              "array([[1, 2],\n",
              "       [6, 7],\n",
              "       [3, 5],\n",
              "       [8, 9]])"
            ]
          },
          "metadata": {},
          "execution_count": 121
        }
      ]
    },
    {
      "cell_type": "code",
      "source": [
        "np.vstack((b, a))"
      ],
      "metadata": {
        "id": "CQgfxneiNMIN",
        "colab": {
          "base_uri": "https://localhost:8080/"
        },
        "outputId": "17b0153f-0b94-4880-98ae-61a7abeddf34"
      },
      "execution_count": 122,
      "outputs": [
        {
          "output_type": "execute_result",
          "data": {
            "text/plain": [
              "array([[3, 5],\n",
              "       [8, 9],\n",
              "       [1, 2],\n",
              "       [6, 7]])"
            ]
          },
          "metadata": {},
          "execution_count": 122
        }
      ]
    },
    {
      "cell_type": "code",
      "source": [
        "np.concatenate((a, b))"
      ],
      "metadata": {
        "id": "4wr9XuOxNUhw",
        "colab": {
          "base_uri": "https://localhost:8080/"
        },
        "outputId": "dd1ab2b4-cb7f-42f2-9623-dda1df5e2978"
      },
      "execution_count": 123,
      "outputs": [
        {
          "output_type": "execute_result",
          "data": {
            "text/plain": [
              "array([[1, 2],\n",
              "       [6, 7],\n",
              "       [3, 5],\n",
              "       [8, 9]])"
            ]
          },
          "metadata": {},
          "execution_count": 123
        }
      ]
    },
    {
      "cell_type": "code",
      "source": [
        "np.concatenate((a, b), axis = None)"
      ],
      "metadata": {
        "id": "DMYEptGNNefA",
        "colab": {
          "base_uri": "https://localhost:8080/"
        },
        "outputId": "602581cd-a34e-4f96-c17b-18a9ad706e04"
      },
      "execution_count": 124,
      "outputs": [
        {
          "output_type": "execute_result",
          "data": {
            "text/plain": [
              "array([1, 2, 6, 7, 3, 5, 8, 9])"
            ]
          },
          "metadata": {},
          "execution_count": 124
        }
      ]
    },
    {
      "cell_type": "markdown",
      "source": [
        "[<font color='red'>**แบบฝึกหัด**</font>] จากภาพ จงนำข้อมูลของทั้ง 4 คน มาต่อกันและเรียงข้อมูลให้ถูกต้องตามเวลา\n",
        "\n",
        "เมื่อกำหนดอาเรย์ T1, T2, T3, และ T4  แทนข้อมูลของคนที่ 1, 2, 3, และ 4 ตามลำดับ"
      ],
      "metadata": {
        "id": "QR8xSfPwBhsW"
      }
    },
    {
      "cell_type": "markdown",
      "source": [
        "<img src = 'https://drive.google.com/uc?id=1xxgkT7ctMkyivPRLbxzfA7HiDXzSLr-1' alt = 'image test' width ='550px'>"
      ],
      "metadata": {
        "id": "Rf45P9WBBVxE"
      }
    },
    {
      "cell_type": "code",
      "source": [
        "import numpy as np"
      ],
      "metadata": {
        "id": "HcRfnhgwQZML"
      },
      "execution_count": 125,
      "outputs": []
    },
    {
      "cell_type": "code",
      "source": [
        "T1 = np.array([20.15,23.22])\n",
        "T2 = np.array([32.12,32.85])\n",
        "T3 = np.array([27.55,30.05])\n",
        "T4 = np.array([34.43,33.68])"
      ],
      "metadata": {
        "id": "WaI27eTpTFjW"
      },
      "execution_count": 126,
      "outputs": []
    },
    {
      "cell_type": "code",
      "source": [
        "T5 = np.sort(np.hstack((T1,T2,T3,T4)))\n",
        "T5"
      ],
      "metadata": {
        "colab": {
          "base_uri": "https://localhost:8080/"
        },
        "id": "pY2yfpR2T8Gg",
        "outputId": "e79cc2e8-eccc-4bec-b31e-4066b7a052b5"
      },
      "execution_count": 134,
      "outputs": [
        {
          "output_type": "execute_result",
          "data": {
            "text/plain": [
              "array([20.15, 23.22, 27.55, 30.05, 32.12, 32.85, 33.68, 34.43])"
            ]
          },
          "metadata": {},
          "execution_count": 134
        }
      ]
    },
    {
      "cell_type": "code",
      "source": [
        "import numpy as np"
      ],
      "metadata": {
        "id": "jWmq7fFTjEQc"
      },
      "execution_count": 135,
      "outputs": []
    },
    {
      "cell_type": "code",
      "source": [
        "T1 = np.array([20.15, 23.22])\n",
        "T2 = np.array([32.12, 32.85])\n",
        "T3 = np.array([27.55, 30.05])\n",
        "T4 = np.array([34.43, 33.68])"
      ],
      "metadata": {
        "id": "oj2aYdrHjPCk"
      },
      "execution_count": 136,
      "outputs": []
    },
    {
      "cell_type": "code",
      "source": [
        "TT = np.sort(np.concatenate((T1, T2, T3, T4), axis = None))"
      ],
      "metadata": {
        "id": "5wTI5f0Ckxa9"
      },
      "execution_count": 137,
      "outputs": []
    },
    {
      "cell_type": "code",
      "source": [
        "TT"
      ],
      "metadata": {
        "id": "l4gdJ6d9JY7_",
        "colab": {
          "base_uri": "https://localhost:8080/"
        },
        "outputId": "28fbd656-12be-43a9-9cc9-7a31bcb2f115"
      },
      "execution_count": 138,
      "outputs": [
        {
          "output_type": "execute_result",
          "data": {
            "text/plain": [
              "array([20.15, 23.22, 27.55, 30.05, 32.12, 32.85, 33.68, 34.43])"
            ]
          },
          "metadata": {},
          "execution_count": 138
        }
      ]
    },
    {
      "cell_type": "markdown",
      "source": [
        "#**เอกสารอ้างอิง**\n",
        "\n",
        "> https://www.programiz.com/python-programming/operators\n",
        "\n",
        "> https://realpython.com/numpy-tutorial/\n",
        "\n",
        "> https://www.geeksforgeeks.org/numpy-tutorial/\n",
        "\n",
        "> https://www.w3schools.com/python/numpy/default.asp\n",
        "\n",
        "> หรือค้นหาในเว็บเบราว์เซอร์ ด้วยคำว่า \"Data Science, Numpy\""
      ],
      "metadata": {
        "id": "a5yHtLGFYXoS"
      }
    },
    {
      "cell_type": "markdown",
      "source": [
        "<img src = 'https://drive.google.com/uc?id=1yV9MzBC4w8J58eKhK8iCuo_O7ttjo4tQ' alt = 'image test' width ='1100px'>"
      ],
      "metadata": {
        "id": "yKHLkdduYYJT"
      }
    }
  ]
}