{
  "nbformat": 4,
  "nbformat_minor": 0,
  "metadata": {
    "colab": {
      "provenance": [],
      "include_colab_link": true
    },
    "kernelspec": {
      "name": "python3",
      "display_name": "Python 3"
    },
    "language_info": {
      "name": "python"
    }
  },
  "cells": [
    {
      "cell_type": "markdown",
      "metadata": {
        "id": "view-in-github",
        "colab_type": "text"
      },
      "source": [
        "<a href=\"https://colab.research.google.com/github/Angy-face/Esan-Coding-SS2/blob/main/2_2_Pandas.ipynb\" target=\"_parent\"><img src=\"https://colab.research.google.com/assets/colab-badge.svg\" alt=\"Open In Colab\"/></a>"
      ]
    },
    {
      "cell_type": "markdown",
      "source": [
        "<img src = 'https://drive.google.com/uc?id=18zsxFId1FaUI1RvfkAex6ZoNpToP8GoT'>"
      ],
      "metadata": {
        "id": "DOk92eNImspk"
      }
    },
    {
      "cell_type": "markdown",
      "source": [
        "# ผู้บรรยาย: ดร.วิธวินท์ สุสุทธิ\n",
        "## ภาควิชาคณิตศาสตร์ คณะวิทยาศาสตร์ มหาวิทยาลัยเทคโนโลยีพระจอมเกล้าธนบุรี"
      ],
      "metadata": {
        "id": "lbRpOeXYmx3k"
      }
    },
    {
      "cell_type": "markdown",
      "source": [
        "### **มารู้จักกับ Pandas**\n",
        "\n",
        "\n",
        "\n",
        "*   การติดตั้ง\n",
        "*   ข้อมูลแบบ Dataframe\n",
        "*   การอ่านและเขียนข้อมูล\n",
        "*   การจัดการกับข้อมูลสูญหาย\n",
        "\n",
        "\n",
        "\n",
        "\n",
        "\n"
      ],
      "metadata": {
        "id": "SoKZhsHFtDSd"
      }
    },
    {
      "cell_type": "markdown",
      "source": [
        "## **Pandas คืออะไร?**\n",
        "*   Pandas คือ Python library สำหรับทำงานกับชุดข้อมูลที่สะดวก รวดเร็ว เหมาะกับข้อมูลลักษณะที่เป็นตาราง ข้อมูล time series ข้อมูลที่เก็บเป็น matrix\n",
        "*   มีฟังก์ชันการทำงานด้านการวิเคราะห์ ทำความสะอาดข้อมูล และจัดการข้อมูล"
      ],
      "metadata": {
        "id": "jfqOV_AYtyhq"
      }
    },
    {
      "cell_type": "markdown",
      "source": [
        "## **การติดตั้ง pandas และการเรียกใช้งาน**\n",
        "\n",
        "\n",
        "```\n",
        "conda install -c conda-forge pandas\n",
        "```\n",
        "\n",
        "\n",
        "```\n",
        "pip install pandas\n",
        "```\n",
        "\n",
        "\n",
        "\n"
      ],
      "metadata": {
        "id": "EnZZd1Emwlmk"
      }
    },
    {
      "cell_type": "code",
      "source": [
        "import pandas as pd\n",
        "import numpy as np"
      ],
      "metadata": {
        "id": "3kt-Fsj_w9NJ"
      },
      "execution_count": null,
      "outputs": []
    },
    {
      "cell_type": "markdown",
      "source": [
        "## **โครงสร้างข้อมูลพื้นฐานทีใช้ใน pandas**\n",
        "\n",
        "\n",
        "ใน pandas จะมีรูปแบบของข้อมูล 2 รูปแบบ\n",
        "\n",
        "\n",
        "1.   Series - โครงสร้างข้อมูลแบบ 1 มิติ มีลักษณะเหมือนคอลัมภ์ของตาราง\n",
        "2.   DataFrame - โครงสร้างข้อมูลแบบ 2 มิติ มีลักษณะเหมือนตาราง หรือ array 2 มิติ ใช้แถวและหลักในการอ้างถึงข้อมูลแต่ละตัว"
      ],
      "metadata": {
        "id": "bH-94CP6xXzG"
      }
    },
    {
      "cell_type": "markdown",
      "source": [
        "## **การสร้าง Series อย่างง่าย**"
      ],
      "metadata": {
        "id": "xoZfuCB6VtbF"
      }
    },
    {
      "cell_type": "code",
      "source": [
        "dataSeries = pd.Series([1, 2, 3, 4])\n",
        "dataSeries"
      ],
      "metadata": {
        "id": "Eg6tSS7JBebH"
      },
      "execution_count": null,
      "outputs": []
    },
    {
      "cell_type": "code",
      "source": [
        "data = [1,2,3,4]\n",
        "dataSeries = pd.Series(data)\n",
        "dataSeries"
      ],
      "metadata": {
        "id": "CthJdRu_VzZ8"
      },
      "execution_count": null,
      "outputs": []
    },
    {
      "cell_type": "markdown",
      "source": [
        "## **การสร้าง Series จาก dictionary**"
      ],
      "metadata": {
        "id": "GstpdmtpsM--"
      }
    },
    {
      "cell_type": "code",
      "source": [
        "dat = {'Type A':1, 'Type B':2, 'Type C':3}\n",
        "dataSeries = pd.Series(data=dat)\n",
        "dataSeries"
      ],
      "metadata": {
        "id": "hRn1PsR-sSlj"
      },
      "execution_count": null,
      "outputs": []
    },
    {
      "cell_type": "code",
      "source": [
        "dat = {'Type A':1, 'Type B':2, 'Type C':3}\n",
        "dataSeries = pd.Series(data=dat, index=['Type A','Type B','Type C'])\n",
        "dataSeries"
      ],
      "metadata": {
        "id": "0hdwlJdfEnRT"
      },
      "execution_count": null,
      "outputs": []
    },
    {
      "cell_type": "markdown",
      "source": [
        "## **การสร้าง DataFrames จาก dictionary**"
      ],
      "metadata": {
        "id": "ZdzEp9hgy5vg"
      }
    },
    {
      "cell_type": "code",
      "source": [
        "data = {\n",
        "    'apples':[1,2,3,4],\n",
        "    'mango': [0,1,5,4]\n",
        "}\n",
        "dataFrameA = pd.DataFrame(data)\n",
        "dataFrameA"
      ],
      "metadata": {
        "id": "Tbqkriciz5Pz"
      },
      "execution_count": null,
      "outputs": []
    },
    {
      "cell_type": "code",
      "source": [
        "dataFrameB = pd.DataFrame(\n",
        "    {\n",
        "        'A': 1.0,\n",
        "        'B': pd.Timestamp('20130102'),\n",
        "        'C': pd.Series(1, index=list(range(4)), dtype='float32'),\n",
        "        'D': np.array([3] * 4, dtype='int32'),\n",
        "        'E': pd.Categorical(['test', 'train', 'test', 'train']),\n",
        "        'F': 'foo',\n",
        "    }\n",
        ")\n",
        "dataFrameB"
      ],
      "metadata": {
        "id": "SnooMI32_0WJ"
      },
      "execution_count": null,
      "outputs": []
    },
    {
      "cell_type": "markdown",
      "source": [
        "## **Index**"
      ],
      "metadata": {
        "id": "V30SSP8dV-2D"
      }
    },
    {
      "cell_type": "code",
      "source": [
        "dataFrameC = pd.DataFrame(data, index=['Index 1', 'Index 2', 'Index 3', 'Index 4'])\n",
        "dataFrameC"
      ],
      "metadata": {
        "id": "Z7HRRKjTWC3I"
      },
      "execution_count": null,
      "outputs": []
    },
    {
      "cell_type": "markdown",
      "source": [
        "## **การอ่านไฟล์ข้อมูล**\n",
        "\n",
        "\n",
        "*   ไฟล์ CSV\n",
        "*   ไฟล์ Excel\n",
        "\n"
      ],
      "metadata": {
        "id": "wV2UqQxUWn6P"
      }
    },
    {
      "cell_type": "code",
      "source": [
        "from google.colab import drive\n",
        "drive.mount('/content/drive')"
      ],
      "metadata": {
        "id": "slKeaeZJBp86",
        "colab": {
          "base_uri": "https://localhost:8080/"
        },
        "outputId": "e401ed11-5d84-4dfb-cc77-fe1cbe318cfa"
      },
      "execution_count": null,
      "outputs": [
        {
          "output_type": "stream",
          "name": "stdout",
          "text": [
            "Mounted at /content/drive\n"
          ]
        }
      ]
    },
    {
      "cell_type": "code",
      "source": [
        "df = pd.read_csv('/content/drive/MyDrive/dataset/imdb_top_1000.csv')\n",
        "df"
      ],
      "metadata": {
        "id": "GIpTyffrW3Cv",
        "colab": {
          "base_uri": "https://localhost:8080/",
          "height": 770
        },
        "outputId": "d2647987-49fc-4c04-876f-7f83113e06a6"
      },
      "execution_count": null,
      "outputs": [
        {
          "output_type": "execute_result",
          "data": {
            "text/plain": [
              "                                           Poster_Link  \\\n",
              "0    https://m.media-amazon.com/images/M/MV5BMDFkYT...   \n",
              "1    https://m.media-amazon.com/images/M/MV5BM2MyNj...   \n",
              "2    https://m.media-amazon.com/images/M/MV5BMTMxNT...   \n",
              "3    https://m.media-amazon.com/images/M/MV5BMWMwMG...   \n",
              "4    https://m.media-amazon.com/images/M/MV5BMWU4N2...   \n",
              "..                                                 ...   \n",
              "995  https://m.media-amazon.com/images/M/MV5BNGEwMT...   \n",
              "996  https://m.media-amazon.com/images/M/MV5BODk3Yj...   \n",
              "997  https://m.media-amazon.com/images/M/MV5BM2U3Yz...   \n",
              "998  https://m.media-amazon.com/images/M/MV5BZTBmMj...   \n",
              "999  https://m.media-amazon.com/images/M/MV5BMTY5OD...   \n",
              "\n",
              "                 Series_Title Released_Year Certificate  Runtime  \\\n",
              "0    The Shawshank Redemption          1994           A  142 min   \n",
              "1               The Godfather          1972           A  175 min   \n",
              "2             The Dark Knight          2008          UA  152 min   \n",
              "3      The Godfather: Part II          1974           A  202 min   \n",
              "4                12 Angry Men          1957           U   96 min   \n",
              "..                        ...           ...         ...      ...   \n",
              "995    Breakfast at Tiffany's          1961           A  115 min   \n",
              "996                     Giant          1956           G  201 min   \n",
              "997     From Here to Eternity          1953      Passed  118 min   \n",
              "998                  Lifeboat          1944         NaN   97 min   \n",
              "999              The 39 Steps          1935         NaN   86 min   \n",
              "\n",
              "                        Genre  IMDB_Rating  \\\n",
              "0                       Drama          9.3   \n",
              "1                Crime, Drama          9.2   \n",
              "2        Action, Crime, Drama          9.0   \n",
              "3                Crime, Drama          9.0   \n",
              "4                Crime, Drama          9.0   \n",
              "..                        ...          ...   \n",
              "995    Comedy, Drama, Romance          7.6   \n",
              "996            Drama, Western          7.6   \n",
              "997       Drama, Romance, War          7.6   \n",
              "998                Drama, War          7.6   \n",
              "999  Crime, Mystery, Thriller          7.6   \n",
              "\n",
              "                                              Overview  Meta_score  \\\n",
              "0    Two imprisoned men bond over a number of years...        80.0   \n",
              "1    An organized crime dynasty's aging patriarch t...       100.0   \n",
              "2    When the menace known as the Joker wreaks havo...        84.0   \n",
              "3    The early life and career of Vito Corleone in ...        90.0   \n",
              "4    A jury holdout attempts to prevent a miscarria...        96.0   \n",
              "..                                                 ...         ...   \n",
              "995  A young New York socialite becomes interested ...        76.0   \n",
              "996  Sprawling epic covering the life of a Texas ca...        84.0   \n",
              "997  In Hawaii in 1941, a private is cruelly punish...        85.0   \n",
              "998  Several survivors of a torpedoed merchant ship...        78.0   \n",
              "999  A man in London tries to help a counter-espion...        93.0   \n",
              "\n",
              "                 Director              Star1              Star2  \\\n",
              "0          Frank Darabont        Tim Robbins     Morgan Freeman   \n",
              "1    Francis Ford Coppola      Marlon Brando          Al Pacino   \n",
              "2       Christopher Nolan     Christian Bale       Heath Ledger   \n",
              "3    Francis Ford Coppola          Al Pacino     Robert De Niro   \n",
              "4            Sidney Lumet        Henry Fonda        Lee J. Cobb   \n",
              "..                    ...                ...                ...   \n",
              "995         Blake Edwards     Audrey Hepburn     George Peppard   \n",
              "996        George Stevens   Elizabeth Taylor        Rock Hudson   \n",
              "997        Fred Zinnemann     Burt Lancaster   Montgomery Clift   \n",
              "998      Alfred Hitchcock  Tallulah Bankhead        John Hodiak   \n",
              "999      Alfred Hitchcock       Robert Donat  Madeleine Carroll   \n",
              "\n",
              "              Star3           Star4  No_of_Votes        Gross  \n",
              "0        Bob Gunton  William Sadler      2343110   28,341,469  \n",
              "1        James Caan    Diane Keaton      1620367  134,966,411  \n",
              "2     Aaron Eckhart   Michael Caine      2303232  534,858,444  \n",
              "3     Robert Duvall    Diane Keaton      1129952   57,300,000  \n",
              "4     Martin Balsam    John Fiedler       689845    4,360,000  \n",
              "..              ...             ...          ...          ...  \n",
              "995   Patricia Neal     Buddy Ebsen       166544          NaN  \n",
              "996      James Dean   Carroll Baker        34075          NaN  \n",
              "997    Deborah Kerr      Donna Reed        43374   30,500,000  \n",
              "998   Walter Slezak  William Bendix        26471          NaN  \n",
              "999  Lucie Mannheim  Godfrey Tearle        51853          NaN  \n",
              "\n",
              "[1000 rows x 16 columns]"
            ],
            "text/html": [
              "\n",
              "  <div id=\"df-8e01c8b5-b44c-4848-8b41-a4c4e594bf02\" class=\"colab-df-container\">\n",
              "    <div>\n",
              "<style scoped>\n",
              "    .dataframe tbody tr th:only-of-type {\n",
              "        vertical-align: middle;\n",
              "    }\n",
              "\n",
              "    .dataframe tbody tr th {\n",
              "        vertical-align: top;\n",
              "    }\n",
              "\n",
              "    .dataframe thead th {\n",
              "        text-align: right;\n",
              "    }\n",
              "</style>\n",
              "<table border=\"1\" class=\"dataframe\">\n",
              "  <thead>\n",
              "    <tr style=\"text-align: right;\">\n",
              "      <th></th>\n",
              "      <th>Poster_Link</th>\n",
              "      <th>Series_Title</th>\n",
              "      <th>Released_Year</th>\n",
              "      <th>Certificate</th>\n",
              "      <th>Runtime</th>\n",
              "      <th>Genre</th>\n",
              "      <th>IMDB_Rating</th>\n",
              "      <th>Overview</th>\n",
              "      <th>Meta_score</th>\n",
              "      <th>Director</th>\n",
              "      <th>Star1</th>\n",
              "      <th>Star2</th>\n",
              "      <th>Star3</th>\n",
              "      <th>Star4</th>\n",
              "      <th>No_of_Votes</th>\n",
              "      <th>Gross</th>\n",
              "    </tr>\n",
              "  </thead>\n",
              "  <tbody>\n",
              "    <tr>\n",
              "      <th>0</th>\n",
              "      <td>https://m.media-amazon.com/images/M/MV5BMDFkYT...</td>\n",
              "      <td>The Shawshank Redemption</td>\n",
              "      <td>1994</td>\n",
              "      <td>A</td>\n",
              "      <td>142 min</td>\n",
              "      <td>Drama</td>\n",
              "      <td>9.3</td>\n",
              "      <td>Two imprisoned men bond over a number of years...</td>\n",
              "      <td>80.0</td>\n",
              "      <td>Frank Darabont</td>\n",
              "      <td>Tim Robbins</td>\n",
              "      <td>Morgan Freeman</td>\n",
              "      <td>Bob Gunton</td>\n",
              "      <td>William Sadler</td>\n",
              "      <td>2343110</td>\n",
              "      <td>28,341,469</td>\n",
              "    </tr>\n",
              "    <tr>\n",
              "      <th>1</th>\n",
              "      <td>https://m.media-amazon.com/images/M/MV5BM2MyNj...</td>\n",
              "      <td>The Godfather</td>\n",
              "      <td>1972</td>\n",
              "      <td>A</td>\n",
              "      <td>175 min</td>\n",
              "      <td>Crime, Drama</td>\n",
              "      <td>9.2</td>\n",
              "      <td>An organized crime dynasty's aging patriarch t...</td>\n",
              "      <td>100.0</td>\n",
              "      <td>Francis Ford Coppola</td>\n",
              "      <td>Marlon Brando</td>\n",
              "      <td>Al Pacino</td>\n",
              "      <td>James Caan</td>\n",
              "      <td>Diane Keaton</td>\n",
              "      <td>1620367</td>\n",
              "      <td>134,966,411</td>\n",
              "    </tr>\n",
              "    <tr>\n",
              "      <th>2</th>\n",
              "      <td>https://m.media-amazon.com/images/M/MV5BMTMxNT...</td>\n",
              "      <td>The Dark Knight</td>\n",
              "      <td>2008</td>\n",
              "      <td>UA</td>\n",
              "      <td>152 min</td>\n",
              "      <td>Action, Crime, Drama</td>\n",
              "      <td>9.0</td>\n",
              "      <td>When the menace known as the Joker wreaks havo...</td>\n",
              "      <td>84.0</td>\n",
              "      <td>Christopher Nolan</td>\n",
              "      <td>Christian Bale</td>\n",
              "      <td>Heath Ledger</td>\n",
              "      <td>Aaron Eckhart</td>\n",
              "      <td>Michael Caine</td>\n",
              "      <td>2303232</td>\n",
              "      <td>534,858,444</td>\n",
              "    </tr>\n",
              "    <tr>\n",
              "      <th>3</th>\n",
              "      <td>https://m.media-amazon.com/images/M/MV5BMWMwMG...</td>\n",
              "      <td>The Godfather: Part II</td>\n",
              "      <td>1974</td>\n",
              "      <td>A</td>\n",
              "      <td>202 min</td>\n",
              "      <td>Crime, Drama</td>\n",
              "      <td>9.0</td>\n",
              "      <td>The early life and career of Vito Corleone in ...</td>\n",
              "      <td>90.0</td>\n",
              "      <td>Francis Ford Coppola</td>\n",
              "      <td>Al Pacino</td>\n",
              "      <td>Robert De Niro</td>\n",
              "      <td>Robert Duvall</td>\n",
              "      <td>Diane Keaton</td>\n",
              "      <td>1129952</td>\n",
              "      <td>57,300,000</td>\n",
              "    </tr>\n",
              "    <tr>\n",
              "      <th>4</th>\n",
              "      <td>https://m.media-amazon.com/images/M/MV5BMWU4N2...</td>\n",
              "      <td>12 Angry Men</td>\n",
              "      <td>1957</td>\n",
              "      <td>U</td>\n",
              "      <td>96 min</td>\n",
              "      <td>Crime, Drama</td>\n",
              "      <td>9.0</td>\n",
              "      <td>A jury holdout attempts to prevent a miscarria...</td>\n",
              "      <td>96.0</td>\n",
              "      <td>Sidney Lumet</td>\n",
              "      <td>Henry Fonda</td>\n",
              "      <td>Lee J. Cobb</td>\n",
              "      <td>Martin Balsam</td>\n",
              "      <td>John Fiedler</td>\n",
              "      <td>689845</td>\n",
              "      <td>4,360,000</td>\n",
              "    </tr>\n",
              "    <tr>\n",
              "      <th>...</th>\n",
              "      <td>...</td>\n",
              "      <td>...</td>\n",
              "      <td>...</td>\n",
              "      <td>...</td>\n",
              "      <td>...</td>\n",
              "      <td>...</td>\n",
              "      <td>...</td>\n",
              "      <td>...</td>\n",
              "      <td>...</td>\n",
              "      <td>...</td>\n",
              "      <td>...</td>\n",
              "      <td>...</td>\n",
              "      <td>...</td>\n",
              "      <td>...</td>\n",
              "      <td>...</td>\n",
              "      <td>...</td>\n",
              "    </tr>\n",
              "    <tr>\n",
              "      <th>995</th>\n",
              "      <td>https://m.media-amazon.com/images/M/MV5BNGEwMT...</td>\n",
              "      <td>Breakfast at Tiffany's</td>\n",
              "      <td>1961</td>\n",
              "      <td>A</td>\n",
              "      <td>115 min</td>\n",
              "      <td>Comedy, Drama, Romance</td>\n",
              "      <td>7.6</td>\n",
              "      <td>A young New York socialite becomes interested ...</td>\n",
              "      <td>76.0</td>\n",
              "      <td>Blake Edwards</td>\n",
              "      <td>Audrey Hepburn</td>\n",
              "      <td>George Peppard</td>\n",
              "      <td>Patricia Neal</td>\n",
              "      <td>Buddy Ebsen</td>\n",
              "      <td>166544</td>\n",
              "      <td>NaN</td>\n",
              "    </tr>\n",
              "    <tr>\n",
              "      <th>996</th>\n",
              "      <td>https://m.media-amazon.com/images/M/MV5BODk3Yj...</td>\n",
              "      <td>Giant</td>\n",
              "      <td>1956</td>\n",
              "      <td>G</td>\n",
              "      <td>201 min</td>\n",
              "      <td>Drama, Western</td>\n",
              "      <td>7.6</td>\n",
              "      <td>Sprawling epic covering the life of a Texas ca...</td>\n",
              "      <td>84.0</td>\n",
              "      <td>George Stevens</td>\n",
              "      <td>Elizabeth Taylor</td>\n",
              "      <td>Rock Hudson</td>\n",
              "      <td>James Dean</td>\n",
              "      <td>Carroll Baker</td>\n",
              "      <td>34075</td>\n",
              "      <td>NaN</td>\n",
              "    </tr>\n",
              "    <tr>\n",
              "      <th>997</th>\n",
              "      <td>https://m.media-amazon.com/images/M/MV5BM2U3Yz...</td>\n",
              "      <td>From Here to Eternity</td>\n",
              "      <td>1953</td>\n",
              "      <td>Passed</td>\n",
              "      <td>118 min</td>\n",
              "      <td>Drama, Romance, War</td>\n",
              "      <td>7.6</td>\n",
              "      <td>In Hawaii in 1941, a private is cruelly punish...</td>\n",
              "      <td>85.0</td>\n",
              "      <td>Fred Zinnemann</td>\n",
              "      <td>Burt Lancaster</td>\n",
              "      <td>Montgomery Clift</td>\n",
              "      <td>Deborah Kerr</td>\n",
              "      <td>Donna Reed</td>\n",
              "      <td>43374</td>\n",
              "      <td>30,500,000</td>\n",
              "    </tr>\n",
              "    <tr>\n",
              "      <th>998</th>\n",
              "      <td>https://m.media-amazon.com/images/M/MV5BZTBmMj...</td>\n",
              "      <td>Lifeboat</td>\n",
              "      <td>1944</td>\n",
              "      <td>NaN</td>\n",
              "      <td>97 min</td>\n",
              "      <td>Drama, War</td>\n",
              "      <td>7.6</td>\n",
              "      <td>Several survivors of a torpedoed merchant ship...</td>\n",
              "      <td>78.0</td>\n",
              "      <td>Alfred Hitchcock</td>\n",
              "      <td>Tallulah Bankhead</td>\n",
              "      <td>John Hodiak</td>\n",
              "      <td>Walter Slezak</td>\n",
              "      <td>William Bendix</td>\n",
              "      <td>26471</td>\n",
              "      <td>NaN</td>\n",
              "    </tr>\n",
              "    <tr>\n",
              "      <th>999</th>\n",
              "      <td>https://m.media-amazon.com/images/M/MV5BMTY5OD...</td>\n",
              "      <td>The 39 Steps</td>\n",
              "      <td>1935</td>\n",
              "      <td>NaN</td>\n",
              "      <td>86 min</td>\n",
              "      <td>Crime, Mystery, Thriller</td>\n",
              "      <td>7.6</td>\n",
              "      <td>A man in London tries to help a counter-espion...</td>\n",
              "      <td>93.0</td>\n",
              "      <td>Alfred Hitchcock</td>\n",
              "      <td>Robert Donat</td>\n",
              "      <td>Madeleine Carroll</td>\n",
              "      <td>Lucie Mannheim</td>\n",
              "      <td>Godfrey Tearle</td>\n",
              "      <td>51853</td>\n",
              "      <td>NaN</td>\n",
              "    </tr>\n",
              "  </tbody>\n",
              "</table>\n",
              "<p>1000 rows × 16 columns</p>\n",
              "</div>\n",
              "    <div class=\"colab-df-buttons\">\n",
              "\n",
              "  <div class=\"colab-df-container\">\n",
              "    <button class=\"colab-df-convert\" onclick=\"convertToInteractive('df-8e01c8b5-b44c-4848-8b41-a4c4e594bf02')\"\n",
              "            title=\"Convert this dataframe to an interactive table.\"\n",
              "            style=\"display:none;\">\n",
              "\n",
              "  <svg xmlns=\"http://www.w3.org/2000/svg\" height=\"24px\" viewBox=\"0 -960 960 960\">\n",
              "    <path d=\"M120-120v-720h720v720H120Zm60-500h600v-160H180v160Zm220 220h160v-160H400v160Zm0 220h160v-160H400v160ZM180-400h160v-160H180v160Zm440 0h160v-160H620v160ZM180-180h160v-160H180v160Zm440 0h160v-160H620v160Z\"/>\n",
              "  </svg>\n",
              "    </button>\n",
              "\n",
              "  <style>\n",
              "    .colab-df-container {\n",
              "      display:flex;\n",
              "      gap: 12px;\n",
              "    }\n",
              "\n",
              "    .colab-df-convert {\n",
              "      background-color: #E8F0FE;\n",
              "      border: none;\n",
              "      border-radius: 50%;\n",
              "      cursor: pointer;\n",
              "      display: none;\n",
              "      fill: #1967D2;\n",
              "      height: 32px;\n",
              "      padding: 0 0 0 0;\n",
              "      width: 32px;\n",
              "    }\n",
              "\n",
              "    .colab-df-convert:hover {\n",
              "      background-color: #E2EBFA;\n",
              "      box-shadow: 0px 1px 2px rgba(60, 64, 67, 0.3), 0px 1px 3px 1px rgba(60, 64, 67, 0.15);\n",
              "      fill: #174EA6;\n",
              "    }\n",
              "\n",
              "    .colab-df-buttons div {\n",
              "      margin-bottom: 4px;\n",
              "    }\n",
              "\n",
              "    [theme=dark] .colab-df-convert {\n",
              "      background-color: #3B4455;\n",
              "      fill: #D2E3FC;\n",
              "    }\n",
              "\n",
              "    [theme=dark] .colab-df-convert:hover {\n",
              "      background-color: #434B5C;\n",
              "      box-shadow: 0px 1px 3px 1px rgba(0, 0, 0, 0.15);\n",
              "      filter: drop-shadow(0px 1px 2px rgba(0, 0, 0, 0.3));\n",
              "      fill: #FFFFFF;\n",
              "    }\n",
              "  </style>\n",
              "\n",
              "    <script>\n",
              "      const buttonEl =\n",
              "        document.querySelector('#df-8e01c8b5-b44c-4848-8b41-a4c4e594bf02 button.colab-df-convert');\n",
              "      buttonEl.style.display =\n",
              "        google.colab.kernel.accessAllowed ? 'block' : 'none';\n",
              "\n",
              "      async function convertToInteractive(key) {\n",
              "        const element = document.querySelector('#df-8e01c8b5-b44c-4848-8b41-a4c4e594bf02');\n",
              "        const dataTable =\n",
              "          await google.colab.kernel.invokeFunction('convertToInteractive',\n",
              "                                                    [key], {});\n",
              "        if (!dataTable) return;\n",
              "\n",
              "        const docLinkHtml = 'Like what you see? Visit the ' +\n",
              "          '<a target=\"_blank\" href=https://colab.research.google.com/notebooks/data_table.ipynb>data table notebook</a>'\n",
              "          + ' to learn more about interactive tables.';\n",
              "        element.innerHTML = '';\n",
              "        dataTable['output_type'] = 'display_data';\n",
              "        await google.colab.output.renderOutput(dataTable, element);\n",
              "        const docLink = document.createElement('div');\n",
              "        docLink.innerHTML = docLinkHtml;\n",
              "        element.appendChild(docLink);\n",
              "      }\n",
              "    </script>\n",
              "  </div>\n",
              "\n",
              "\n",
              "<div id=\"df-384e8759-6e4a-4518-9916-89d3bc1f40e0\">\n",
              "  <button class=\"colab-df-quickchart\" onclick=\"quickchart('df-384e8759-6e4a-4518-9916-89d3bc1f40e0')\"\n",
              "            title=\"Suggest charts\"\n",
              "            style=\"display:none;\">\n",
              "\n",
              "<svg xmlns=\"http://www.w3.org/2000/svg\" height=\"24px\"viewBox=\"0 0 24 24\"\n",
              "     width=\"24px\">\n",
              "    <g>\n",
              "        <path d=\"M19 3H5c-1.1 0-2 .9-2 2v14c0 1.1.9 2 2 2h14c1.1 0 2-.9 2-2V5c0-1.1-.9-2-2-2zM9 17H7v-7h2v7zm4 0h-2V7h2v10zm4 0h-2v-4h2v4z\"/>\n",
              "    </g>\n",
              "</svg>\n",
              "  </button>\n",
              "\n",
              "<style>\n",
              "  .colab-df-quickchart {\n",
              "      --bg-color: #E8F0FE;\n",
              "      --fill-color: #1967D2;\n",
              "      --hover-bg-color: #E2EBFA;\n",
              "      --hover-fill-color: #174EA6;\n",
              "      --disabled-fill-color: #AAA;\n",
              "      --disabled-bg-color: #DDD;\n",
              "  }\n",
              "\n",
              "  [theme=dark] .colab-df-quickchart {\n",
              "      --bg-color: #3B4455;\n",
              "      --fill-color: #D2E3FC;\n",
              "      --hover-bg-color: #434B5C;\n",
              "      --hover-fill-color: #FFFFFF;\n",
              "      --disabled-bg-color: #3B4455;\n",
              "      --disabled-fill-color: #666;\n",
              "  }\n",
              "\n",
              "  .colab-df-quickchart {\n",
              "    background-color: var(--bg-color);\n",
              "    border: none;\n",
              "    border-radius: 50%;\n",
              "    cursor: pointer;\n",
              "    display: none;\n",
              "    fill: var(--fill-color);\n",
              "    height: 32px;\n",
              "    padding: 0;\n",
              "    width: 32px;\n",
              "  }\n",
              "\n",
              "  .colab-df-quickchart:hover {\n",
              "    background-color: var(--hover-bg-color);\n",
              "    box-shadow: 0 1px 2px rgba(60, 64, 67, 0.3), 0 1px 3px 1px rgba(60, 64, 67, 0.15);\n",
              "    fill: var(--button-hover-fill-color);\n",
              "  }\n",
              "\n",
              "  .colab-df-quickchart-complete:disabled,\n",
              "  .colab-df-quickchart-complete:disabled:hover {\n",
              "    background-color: var(--disabled-bg-color);\n",
              "    fill: var(--disabled-fill-color);\n",
              "    box-shadow: none;\n",
              "  }\n",
              "\n",
              "  .colab-df-spinner {\n",
              "    border: 2px solid var(--fill-color);\n",
              "    border-color: transparent;\n",
              "    border-bottom-color: var(--fill-color);\n",
              "    animation:\n",
              "      spin 1s steps(1) infinite;\n",
              "  }\n",
              "\n",
              "  @keyframes spin {\n",
              "    0% {\n",
              "      border-color: transparent;\n",
              "      border-bottom-color: var(--fill-color);\n",
              "      border-left-color: var(--fill-color);\n",
              "    }\n",
              "    20% {\n",
              "      border-color: transparent;\n",
              "      border-left-color: var(--fill-color);\n",
              "      border-top-color: var(--fill-color);\n",
              "    }\n",
              "    30% {\n",
              "      border-color: transparent;\n",
              "      border-left-color: var(--fill-color);\n",
              "      border-top-color: var(--fill-color);\n",
              "      border-right-color: var(--fill-color);\n",
              "    }\n",
              "    40% {\n",
              "      border-color: transparent;\n",
              "      border-right-color: var(--fill-color);\n",
              "      border-top-color: var(--fill-color);\n",
              "    }\n",
              "    60% {\n",
              "      border-color: transparent;\n",
              "      border-right-color: var(--fill-color);\n",
              "    }\n",
              "    80% {\n",
              "      border-color: transparent;\n",
              "      border-right-color: var(--fill-color);\n",
              "      border-bottom-color: var(--fill-color);\n",
              "    }\n",
              "    90% {\n",
              "      border-color: transparent;\n",
              "      border-bottom-color: var(--fill-color);\n",
              "    }\n",
              "  }\n",
              "</style>\n",
              "\n",
              "  <script>\n",
              "    async function quickchart(key) {\n",
              "      const quickchartButtonEl =\n",
              "        document.querySelector('#' + key + ' button');\n",
              "      quickchartButtonEl.disabled = true;  // To prevent multiple clicks.\n",
              "      quickchartButtonEl.classList.add('colab-df-spinner');\n",
              "      try {\n",
              "        const charts = await google.colab.kernel.invokeFunction(\n",
              "            'suggestCharts', [key], {});\n",
              "      } catch (error) {\n",
              "        console.error('Error during call to suggestCharts:', error);\n",
              "      }\n",
              "      quickchartButtonEl.classList.remove('colab-df-spinner');\n",
              "      quickchartButtonEl.classList.add('colab-df-quickchart-complete');\n",
              "    }\n",
              "    (() => {\n",
              "      let quickchartButtonEl =\n",
              "        document.querySelector('#df-384e8759-6e4a-4518-9916-89d3bc1f40e0 button');\n",
              "      quickchartButtonEl.style.display =\n",
              "        google.colab.kernel.accessAllowed ? 'block' : 'none';\n",
              "    })();\n",
              "  </script>\n",
              "</div>\n",
              "    </div>\n",
              "  </div>\n"
            ]
          },
          "metadata": {},
          "execution_count": 5
        }
      ]
    },
    {
      "cell_type": "code",
      "source": [
        "df = pd.read_csv('/content/drive/MyDrive/dataset/imdb_top_1000.csv', index_col = 'Series_Title')\n",
        "df\n"
      ],
      "metadata": {
        "id": "ei_HJfbLW-v6"
      },
      "execution_count": null,
      "outputs": []
    },
    {
      "cell_type": "code",
      "source": [
        "df2 = pd.read_excel('/content/drive/MyDrive/dataset/imdb_top_1000.xls')\n",
        "df2"
      ],
      "metadata": {
        "id": "jPf0gU5ohJiM"
      },
      "execution_count": null,
      "outputs": []
    },
    {
      "cell_type": "markdown",
      "source": [
        "## **การบันทึกข้อมูล**"
      ],
      "metadata": {
        "id": "fJJ3kKApXXg5"
      }
    },
    {
      "cell_type": "code",
      "source": [
        "df.to_csv('/content/drive/MyDrive/dataset/new_imdb_top_1000.csv')"
      ],
      "metadata": {
        "id": "4OSSR2r2Xd91"
      },
      "execution_count": null,
      "outputs": []
    },
    {
      "cell_type": "code",
      "source": [
        "df.to_excel('/content/drive/MyDrive/dataset/new_imdb_top_1000.xlsx')"
      ],
      "metadata": {
        "id": "7nZKhk7CircN"
      },
      "execution_count": null,
      "outputs": []
    },
    {
      "cell_type": "markdown",
      "source": [
        "## **ทำความรู้จักกับข้อมูล**"
      ],
      "metadata": {
        "id": "2lIUuPEYMjnd"
      }
    },
    {
      "cell_type": "code",
      "source": [
        "df.head(10)"
      ],
      "metadata": {
        "id": "ET8oQ7inXway"
      },
      "execution_count": null,
      "outputs": []
    },
    {
      "cell_type": "code",
      "source": [
        "df.tail()"
      ],
      "metadata": {
        "id": "TB_EBjrwDcJ7"
      },
      "execution_count": null,
      "outputs": []
    },
    {
      "cell_type": "code",
      "source": [
        "df.index"
      ],
      "metadata": {
        "id": "kwLh9TCeEHeU",
        "colab": {
          "base_uri": "https://localhost:8080/"
        },
        "outputId": "0bd6c8c3-4bf9-4b17-db73-e9a80a375e64"
      },
      "execution_count": null,
      "outputs": [
        {
          "output_type": "execute_result",
          "data": {
            "text/plain": [
              "RangeIndex(start=0, stop=1000, step=1)"
            ]
          },
          "metadata": {},
          "execution_count": 7
        }
      ]
    },
    {
      "cell_type": "code",
      "source": [
        "df.columns"
      ],
      "metadata": {
        "id": "FSwncG2REJi6",
        "colab": {
          "base_uri": "https://localhost:8080/"
        },
        "outputId": "a53b7d2c-5088-45e6-a991-bc3a2f0fda75"
      },
      "execution_count": null,
      "outputs": [
        {
          "output_type": "execute_result",
          "data": {
            "text/plain": [
              "Index(['Poster_Link', 'Series_Title', 'Released_Year', 'Certificate',\n",
              "       'Runtime', 'Genre', 'IMDB_Rating', 'Overview', 'Meta_score', 'Director',\n",
              "       'Star1', 'Star2', 'Star3', 'Star4', 'No_of_Votes', 'Gross'],\n",
              "      dtype='object')"
            ]
          },
          "metadata": {},
          "execution_count": 8
        }
      ]
    },
    {
      "cell_type": "code",
      "source": [
        "df.info()"
      ],
      "metadata": {
        "id": "9SAk5NBiMqVJ",
        "colab": {
          "base_uri": "https://localhost:8080/"
        },
        "outputId": "30ac657c-f28d-444e-de35-1b0359818ab0"
      },
      "execution_count": null,
      "outputs": [
        {
          "output_type": "stream",
          "name": "stdout",
          "text": [
            "<class 'pandas.core.frame.DataFrame'>\n",
            "RangeIndex: 1000 entries, 0 to 999\n",
            "Data columns (total 16 columns):\n",
            " #   Column         Non-Null Count  Dtype  \n",
            "---  ------         --------------  -----  \n",
            " 0   Poster_Link    1000 non-null   object \n",
            " 1   Series_Title   1000 non-null   object \n",
            " 2   Released_Year  1000 non-null   object \n",
            " 3   Certificate    899 non-null    object \n",
            " 4   Runtime        1000 non-null   object \n",
            " 5   Genre          1000 non-null   object \n",
            " 6   IMDB_Rating    1000 non-null   float64\n",
            " 7   Overview       1000 non-null   object \n",
            " 8   Meta_score     843 non-null    float64\n",
            " 9   Director       1000 non-null   object \n",
            " 10  Star1          1000 non-null   object \n",
            " 11  Star2          1000 non-null   object \n",
            " 12  Star3          1000 non-null   object \n",
            " 13  Star4          1000 non-null   object \n",
            " 14  No_of_Votes    1000 non-null   int64  \n",
            " 15  Gross          831 non-null    object \n",
            "dtypes: float64(2), int64(1), object(13)\n",
            "memory usage: 125.1+ KB\n"
          ]
        }
      ]
    },
    {
      "cell_type": "code",
      "source": [
        "df.shape"
      ],
      "metadata": {
        "id": "CbuSlGMr3495"
      },
      "execution_count": null,
      "outputs": []
    },
    {
      "cell_type": "code",
      "source": [
        "len(df)"
      ],
      "metadata": {
        "id": "zizY56lp37hI"
      },
      "execution_count": null,
      "outputs": []
    },
    {
      "cell_type": "code",
      "source": [
        "df.size"
      ],
      "metadata": {
        "id": "00B1na_S37F0"
      },
      "execution_count": null,
      "outputs": []
    },
    {
      "cell_type": "code",
      "source": [
        "df.dtypes"
      ],
      "metadata": {
        "id": "cro_rMX335n1"
      },
      "execution_count": null,
      "outputs": []
    },
    {
      "cell_type": "code",
      "source": [
        "df.describe()"
      ],
      "metadata": {
        "id": "LOVw_U5XHlyY"
      },
      "execution_count": null,
      "outputs": []
    },
    {
      "cell_type": "code",
      "source": [
        "df.sort_values(by = 'Meta_score').head()"
      ],
      "metadata": {
        "id": "N5sGVGno4cME"
      },
      "execution_count": null,
      "outputs": []
    },
    {
      "cell_type": "code",
      "source": [
        "df.sort_values(by = ['Meta_score', 'Released_Year'], ascending = False).head()"
      ],
      "metadata": {
        "id": "YxNkiufh4kDJ"
      },
      "execution_count": null,
      "outputs": []
    },
    {
      "cell_type": "code",
      "source": [
        "df.sort_index(axis=1).head()"
      ],
      "metadata": {
        "id": "u4Zv-dl24pBG"
      },
      "execution_count": null,
      "outputs": []
    },
    {
      "cell_type": "markdown",
      "source": [
        "## **การเข้าถึงข้อมูลใน DataFrame**"
      ],
      "metadata": {
        "id": "DziiXTmsMqvh"
      }
    },
    {
      "cell_type": "code",
      "source": [
        "df.Released_Year"
      ],
      "metadata": {
        "id": "TiGP-t9iRp4u"
      },
      "execution_count": null,
      "outputs": []
    },
    {
      "cell_type": "code",
      "source": [
        "df['Released_Year']"
      ],
      "metadata": {
        "id": "toZ8M0Jj4zzP"
      },
      "execution_count": null,
      "outputs": []
    },
    {
      "cell_type": "code",
      "source": [
        "df[0:6]"
      ],
      "metadata": {
        "id": "a_A_XkmCR1cH"
      },
      "execution_count": null,
      "outputs": []
    },
    {
      "cell_type": "code",
      "source": [
        "df.iloc[499]"
      ],
      "metadata": {
        "id": "TUbNSbXs4IGi"
      },
      "execution_count": null,
      "outputs": []
    },
    {
      "cell_type": "code",
      "source": [
        "df.iloc[499,0:2]"
      ],
      "metadata": {
        "id": "tp_uxLsmTN8g"
      },
      "execution_count": null,
      "outputs": []
    },
    {
      "cell_type": "code",
      "source": [
        "df.iloc[499,[0,2]]"
      ],
      "metadata": {
        "id": "FlfmmKcITWGR"
      },
      "execution_count": null,
      "outputs": []
    },
    {
      "cell_type": "code",
      "source": [
        "df.iloc[[499]]"
      ],
      "metadata": {
        "id": "OUoSRkNnLyAM"
      },
      "execution_count": null,
      "outputs": []
    },
    {
      "cell_type": "code",
      "source": [
        "df.loc['Forrest Gump']"
      ],
      "metadata": {
        "id": "iOBjU0Zw4Uzp"
      },
      "execution_count": null,
      "outputs": []
    },
    {
      "cell_type": "code",
      "source": [
        "df.loc['Forrest Gump',['Released_Year']]"
      ],
      "metadata": {
        "id": "5iJC_MvpSUxW"
      },
      "execution_count": null,
      "outputs": []
    },
    {
      "cell_type": "code",
      "source": [
        "df.loc[['Forrest Gump']]"
      ],
      "metadata": {
        "id": "aPobTYF4M73d"
      },
      "execution_count": null,
      "outputs": []
    },
    {
      "cell_type": "code",
      "source": [
        "df['Released_Year'].value_counts().head(10)"
      ],
      "metadata": {
        "id": "sEoM4IQb41zd"
      },
      "execution_count": null,
      "outputs": []
    },
    {
      "cell_type": "code",
      "source": [
        "df[df['Released_Year'] == '2014']"
      ],
      "metadata": {
        "id": "fW0J6G2648QY"
      },
      "execution_count": null,
      "outputs": []
    },
    {
      "cell_type": "markdown",
      "source": [
        "## **การ filter ข้อมูลเบื้องต้นใน DataFrame**"
      ],
      "metadata": {
        "id": "eakJhn-QUDcY"
      }
    },
    {
      "cell_type": "code",
      "source": [
        "before_1975 = df['Released_Year'] < '1975'\n",
        "df[before_1975]"
      ],
      "metadata": {
        "id": "Diy5udo15hYy"
      },
      "execution_count": null,
      "outputs": []
    },
    {
      "cell_type": "code",
      "source": [
        "mid_80s = df['Released_Year'].between('1983', '1986')\n",
        "df[mid_80s]"
      ],
      "metadata": {
        "id": "QMX_1Lf-5lwe"
      },
      "execution_count": null,
      "outputs": []
    },
    {
      "cell_type": "code",
      "source": [
        "df['IMDB_Rating'].mean()"
      ],
      "metadata": {
        "id": "Shn8ZMYv50dm"
      },
      "execution_count": null,
      "outputs": []
    },
    {
      "cell_type": "code",
      "source": [
        "genre = df.groupby('Genre')"
      ],
      "metadata": {
        "id": "4pZ7bYsb59A-"
      },
      "execution_count": null,
      "outputs": []
    },
    {
      "cell_type": "code",
      "source": [
        "genre['IMDB_Rating'].count().head()"
      ],
      "metadata": {
        "id": "Sc8daYKJ5-fv"
      },
      "execution_count": null,
      "outputs": []
    },
    {
      "cell_type": "code",
      "source": [
        "genre['IMDB_Rating'].mean().head()"
      ],
      "metadata": {
        "id": "DHk02kNE6GYA"
      },
      "execution_count": null,
      "outputs": []
    },
    {
      "cell_type": "markdown",
      "source": [
        "## **การจัดการกับข้อมูลซ้ำ**"
      ],
      "metadata": {
        "id": "2GfgZDnvJb-k"
      }
    },
    {
      "cell_type": "code",
      "source": [
        "df['Director'].duplicated(keep=False).head()"
      ],
      "metadata": {
        "id": "aB6pWFNSIzKt"
      },
      "execution_count": null,
      "outputs": []
    },
    {
      "cell_type": "code",
      "source": [
        "temp_df = df.append(df)\n",
        "temp_df.shape"
      ],
      "metadata": {
        "id": "-zE0PvbZNCIg"
      },
      "execution_count": null,
      "outputs": []
    },
    {
      "cell_type": "code",
      "source": [
        "temp_df = temp_df.drop_duplicates()\n",
        "temp_df.shape"
      ],
      "metadata": {
        "id": "9Oc36bfPNhQB"
      },
      "execution_count": null,
      "outputs": []
    },
    {
      "cell_type": "code",
      "source": [
        "temp_df.drop_duplicates(inplace=True)\n",
        "temp_df.shape"
      ],
      "metadata": {
        "id": "s8yVzbgdNxQw"
      },
      "execution_count": null,
      "outputs": []
    },
    {
      "cell_type": "code",
      "source": [
        "temp_df = df.append(df)\n",
        "temp_df.drop_duplicates(inplace=True, keep=False)\n",
        "temp_df.shape"
      ],
      "metadata": {
        "id": "vulrp2XDN-VT"
      },
      "execution_count": null,
      "outputs": []
    },
    {
      "cell_type": "markdown",
      "source": [
        "## **การจัดการกับ Missing values**\n",
        "ในเบื้องต้นมี 2 วิธี\n",
        "\n",
        "\n",
        "1.   ลบแถว หรือหลักที่มีข้อมูลที่สูญหาย หรือ NA\n",
        "2.   แทนที่ค่าที่หายไปหรือ NA ด้วยค่าอื่น ๆ\n",
        "\n"
      ],
      "metadata": {
        "id": "AXO1vrKpPHZ_"
      }
    },
    {
      "cell_type": "code",
      "source": [
        "df.isnull()"
      ],
      "metadata": {
        "id": "_vJ6oLbpPoo5"
      },
      "execution_count": null,
      "outputs": []
    },
    {
      "cell_type": "code",
      "source": [
        "df.isnull().sum()"
      ],
      "metadata": {
        "id": "KYY1k9T2UxIN"
      },
      "execution_count": null,
      "outputs": []
    },
    {
      "cell_type": "code",
      "source": [
        "df.isna().sum()"
      ],
      "metadata": {
        "id": "r_riaV6kVCWR"
      },
      "execution_count": null,
      "outputs": []
    },
    {
      "cell_type": "code",
      "source": [
        "df.dropna()"
      ],
      "metadata": {
        "id": "-kuxDWyoPM9S"
      },
      "execution_count": null,
      "outputs": []
    },
    {
      "cell_type": "code",
      "source": [
        "df.isnull()"
      ],
      "metadata": {
        "id": "G86AjnfCiXbe"
      },
      "execution_count": null,
      "outputs": []
    },
    {
      "cell_type": "code",
      "source": [
        "df.fillna(value=5)"
      ],
      "metadata": {
        "id": "EM5_v2FSVYs9"
      },
      "execution_count": null,
      "outputs": []
    },
    {
      "cell_type": "markdown",
      "source": [
        "## **การจัดการ Column**"
      ],
      "metadata": {
        "id": "T-wqm-KxOZM1"
      }
    },
    {
      "cell_type": "code",
      "source": [
        "df.columns"
      ],
      "metadata": {
        "id": "XUCVgRS7ne2r"
      },
      "execution_count": null,
      "outputs": []
    },
    {
      "cell_type": "code",
      "source": [
        "df.rename(columns={'Series_Title':'Title', 'No_of_Votes':'Votes'}, inplace=True)\n",
        "df.columns"
      ],
      "metadata": {
        "id": "f5IMjMqrOfqU"
      },
      "execution_count": null,
      "outputs": []
    },
    {
      "cell_type": "markdown",
      "source": [
        "## **การสร้าง column ใหม่จากการคำนวนโดยใช้ column อื่น ๆ**"
      ],
      "metadata": {
        "id": "hMj-YqPVpgFJ"
      }
    },
    {
      "cell_type": "code",
      "source": [
        "df['Meta_percent'] = df['Meta_score']/100\n",
        "df.head(2)"
      ],
      "metadata": {
        "id": "G25sJOAxpyK3"
      },
      "execution_count": null,
      "outputs": []
    },
    {
      "cell_type": "markdown",
      "source": [
        "## **การสร้าง column ใหม่โดยการใช้ function ร่วม**"
      ],
      "metadata": {
        "id": "d3lSDv9-rG6t"
      }
    },
    {
      "cell_type": "code",
      "source": [
        "def rating_function(x):\n",
        "    if x >= 8.0:\n",
        "        return 'Good'\n",
        "    else:\n",
        "        return 'Bad'"
      ],
      "metadata": {
        "id": "dtcI6ppOrNuP"
      },
      "execution_count": null,
      "outputs": []
    },
    {
      "cell_type": "code",
      "source": [
        "df['Rating'] = df['IMDB_Rating'].apply(rating_function)\n",
        "df.head(2)"
      ],
      "metadata": {
        "id": "qBgdqCQqrPTA"
      },
      "execution_count": null,
      "outputs": []
    },
    {
      "cell_type": "code",
      "source": [
        "df.tail()"
      ],
      "metadata": {
        "id": "m_pfolCbpzsA"
      },
      "execution_count": null,
      "outputs": []
    },
    {
      "cell_type": "code",
      "source": [
        "df['Rating 2'] = df['IMDB_Rating'].apply(lambda x: 'Good' if x >= 8.0 else 'Bad')\n",
        "df.head(2)"
      ],
      "metadata": {
        "id": "uALbmkmIrXOP"
      },
      "execution_count": null,
      "outputs": []
    },
    {
      "cell_type": "markdown",
      "source": [
        "# เอกสารอ้างอิง\n",
        "1. Python Language. https://www.python.org\n",
        "2. Pandas. https://pandas.pydata.org/\n",
        "4. Boris Paskhaver, Pandas in action (Manning Publications, 2021).\n",
        "\n",
        "<img src = 'https://drive.google.com/uc?id=18qUXmnQK3FIPfMCm8m0aKf1Saam6ezdJ'>\n",
        "<img src = 'https://drive.google.com/uc?id=192V5NZG8GXDFzYQIxTRJCSmiBUkc2xys'>\n"
      ],
      "metadata": {
        "id": "5axHifTpnrrC"
      }
    }
  ]
}