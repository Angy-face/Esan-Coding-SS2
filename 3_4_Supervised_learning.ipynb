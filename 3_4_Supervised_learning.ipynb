{
  "nbformat": 4,
  "nbformat_minor": 0,
  "metadata": {
    "colab": {
      "provenance": [],
      "include_colab_link": true
    },
    "kernelspec": {
      "name": "python3",
      "display_name": "Python 3"
    },
    "language_info": {
      "name": "python"
    }
  },
  "cells": [
    {
      "cell_type": "markdown",
      "metadata": {
        "id": "view-in-github",
        "colab_type": "text"
      },
      "source": [
        "<a href=\"https://colab.research.google.com/github/Angy-face/Esan-Coding-SS2/blob/main/3_4_Supervised_learning.ipynb\" target=\"_parent\"><img src=\"https://colab.research.google.com/assets/colab-badge.svg\" alt=\"Open In Colab\"/></a>"
      ]
    },
    {
      "cell_type": "markdown",
      "source": [
        "<img src = 'https://drive.google.com/uc?id=18zsxFId1FaUI1RvfkAex6ZoNpToP8GoT'>"
      ],
      "metadata": {
        "id": "H4Uj8GCG6KCQ"
      }
    },
    {
      "cell_type": "markdown",
      "source": [
        "# ผู้เรียบเรียงเนื้อหา: ดร.เปรม จันทร์สว่าง\n",
        "## สาขาวิชาสถิติ คณะวิทยาศาตร์ มหาวิทยาลัยขอนแก่น\n",
        "\n",
        "# ผู้บรรยาย: ดร.วิธวินท์ สุสุทธิ\n",
        "## ภาควิชาคณิตศาสตร์ คณะวิทยาศาสตร์ มหาวิทยาลัยเทคโนโลยีพระจอมเกล้าธนบุรี"
      ],
      "metadata": {
        "id": "Nd_8KpzfHfgz"
      }
    },
    {
      "cell_type": "markdown",
      "source": [
        "## **การเรียนรู้แบบมีผู้สอน (Supervised learning)**\n",
        "- แนวคิดการเรียนรู้แบบมีผู้สอน\n",
        "- ปัญหา Overfitting และ underfitting\n",
        "- ตัวอย่าง classification models และ model selection."
      ],
      "metadata": {
        "id": "wzChZvG86PVL"
      }
    },
    {
      "cell_type": "markdown",
      "source": [
        "### **1. แนวคิดการเรียนรู้แบบมีผู้สอน (Concept of supervised learning)**\n",
        "\n",
        "**การเรียนรู้แบบมีผู้สอน** (Supervised learning) เป็นแนวคิดการพัฒนาหรือสอนตัวแบบเพื่อให้ตัวแบบสามารถเรียนรู้รูปแบบความสัมพันธ์ระหว่างตัวแปรต้นและตัวแปรตาม ซึ่งในที่นี้ตัวแปรตามจะเรียกว่า '*ตัวแปรเป้าหมาย (Target variable)*' โดยสามารถแบ่งกลุ่มวิธีการเรียนรู้แบบมีผู้สอนออกเป็น 2 กลุ่ม ตามลักษณะของตัวแปรเป้าหมาย ดังนี้"
      ],
      "metadata": {
        "id": "ZwwvqIIm6iKg"
      }
    },
    {
      "cell_type": "markdown",
      "source": [
        "> **ตัวแบบเชิงจำแนก** (Classification models)\n",
        "ตัวแบบที่พัฒนาเพื่อเรียนรู้รูปแบบความสัมพันธ์ระหว่างตัวแปรต้นและตัวแปรเป้าหมาย (Target variable) โดยที่ตัวแปรเป้าหมายเป็นชนิดไม่ต่อเนื่องหรือตัวแปรเชิงจำแนก (Categorical variable) ค่าที่เป็นไปได้ของตัวแปรเป้าหมายจะเรียกว่า ป้ายระบุกลุ่ม (Class labels) ถ้าค่าที่เป็นไปได้ของตัวแปรเป้าหมาย มี 2 ประเภท จะเรียกว่า ตัวแปรเชิงจำแนกแบบสองกลุ่ม (Binary classification models) และถ้าค่าที่เป็นไปได้ของตัวแปรเป้าหมาย มีมากกว่า 2 ประเภท จะเรียกว่า ตัวแปรเชิงจำแนกแบบหลายกลุ่ม (Multiclass classification models) เช่นตัวแบบจำแนกผู้ป่วยโรคเบาหวาน (ป้ายระบุกลุ่มคือ เป็นโรค หรือไม่เป็นโรค) ตัวแบบจำแนกอีเมลสแปม (ป้ายระบุกลุ่มคือ อีเมลสแปม หรืออีเมลปกติ) ตัวแบบจำแนกตัวอักษร (ป้ายระบุกลุ่มคือ A, B, C, D,..., Z) เป็นต้น     \n",
        "\n",
        "> **ตัวแบบเชิงถดถอย** (Regression model) ตัวแบบที่พัฒนาเพื่อเรียนรู้รูปแบบความสัมพันธ์ระหว่างตัวแปรต้นและตัวแปรเป้าหมาย (Target variable) โดยที่ตัวแปรเป้าหมายเป็นชนิดต่อเนื่อง ตัวอย่างเช่นตัวแบบพยากรณ์ปริมาณน้ำฝนจากข้อมูลสภาพภูมิอากาศ หรือตัวแบบทำนายค่า pm 2.5 ล่วงหน้าหนึ่งสัปดาห์ เป็นต้น\n",
        "\n",
        "\n",
        "<img src = 'https://drive.google.com/uc?id=1gnh2BvVirXMy4g-UnQpIhAOElaxLZxi-' alt = 'Supervised learning' width ='550px' height = '700px'>\n",
        "\n",
        "\n",
        "\n",
        "ตัวอย่างข้อมูลสำหรับการพัฒนาตัวแบบการเรียนรู้แบบมีผู้สอน\n",
        "\n",
        "<img src = 'https://drive.google.com/uc?id=1CAphL7sie0nlH7OkZFVREdRLbbiPk5sM' alt = 'Supervised learning' width ='400px' height = '400px'>"
      ],
      "metadata": {
        "id": "atR5U3KJ6tJe"
      }
    },
    {
      "cell_type": "markdown",
      "source": [
        "### **2. ปัญหา Overfitting และ underfitting**\n",
        " ปัญหาที่มักพบในการพัฒนาตัวแบบการเรียนรู้ของเครื่องคือปัญหา Overfitting และปัญหา Underfitting"
      ],
      "metadata": {
        "id": "hTOpS0aC61K0"
      }
    },
    {
      "cell_type": "markdown",
      "source": [
        "#### **ปัญหา Overfitting** คือการที่ตัวแบบสามารถเรียนรู้รูปแบบข้อมูลได้ดีในข้อมูลชุดสอนแต่ไม่สามารถจำแนกข้อมูลในข้อมูลชุดทดสอบ กล่าวคือตัวแบบทำงานได้ดีเฉพาะข้อมูลที่ใช้ในการสอนหรือจดจำข้อมูลในชุดสอนมากเกินไปจนไม่สามารถจำแนกข้อมูลในชุดทดสอบได้\n",
        "\n",
        "<img src = 'https://drive.google.com/uc?id=1BMSAY62Q6WOFOxn3W5LPTe-ewa7H90xb' alt = 'ML workflow' width ='700px' height = '500px'>  "
      ],
      "metadata": {
        "id": "tbY2xZyd7DrE"
      }
    },
    {
      "cell_type": "markdown",
      "source": [
        "#### **ปัญหา Underfitting** คือการที่ตัวแบบไม่สามารถเรียนรู้รูปแบบข้อมูลได้ดีทั้งในข้อมูลชุดสอนและในข้อมูลชุดทดสอบ\n",
        "\n",
        "<img src = 'https://drive.google.com/uc?id=1dqb8vC-SEeEeB01raO1dLn87gUCPcJhH' alt = 'ML workflow' width ='700px' height = '500px'>\n",
        "\n",
        "#### **อ้างอิง**\n",
        "\n",
        "[ref1](https://www.simplilearn.com/tutorials/machine-learning-tutorial/overfitting-and-underfitting)\n",
        "\n",
        "[ref2](https://towardsdatascience.com/overfitting-and-underfitting-principles-ea8964d9c45c)"
      ],
      "metadata": {
        "id": "Wy-_Mvq27pTt"
      }
    },
    {
      "cell_type": "markdown",
      "source": [
        "### **3.ตัวอย่างการพัฒนาตัวแบบเชิงจำแนกและการเลือกตัวแบบ**\n",
        "ตัวอย่างนี้จะเป็นการสร้างตัวแบบเชิงจำแนกเพื่อจำแนกรูปภาพตัวเลข 0-9 โดยมีขั้นตอนดังนี้\n",
        "\n",
        "ขั้นตอนที่ 1. ดึงข้อมูลรูป\n",
        "\n",
        "ขั้นตอนที่ 2. สำรวจข้อมูลรูป\n",
        "\n",
        "ขั้นตอนที่ 3. เตรียมข้อมูล\n",
        "\n",
        "ขั้นตอนที่ 4. พัฒนาและตรวจสอบตัวแบบ\n",
        "\n",
        "ขั้นตอนที่ 5. ประเมินตัวแบบ"
      ],
      "metadata": {
        "id": "X4JBQMyl85FC"
      }
    },
    {
      "cell_type": "markdown",
      "source": [
        "**ขั้นตอนที่ 1 ดึงข้อมูล**"
      ],
      "metadata": {
        "id": "f0cjkWmm9Gcw"
      }
    },
    {
      "cell_type": "code",
      "execution_count": null,
      "metadata": {
        "id": "pwrakbpw6FYS"
      },
      "outputs": [],
      "source": [
        "from sklearn.datasets import load_digits\n",
        "dat_digits = load_digits()"
      ]
    },
    {
      "cell_type": "markdown",
      "source": [
        "**ขั้นตอนที่ 2 สำรวจข้อมูล**"
      ],
      "metadata": {
        "id": "Nj9ghEDL9NvB"
      }
    },
    {
      "cell_type": "code",
      "source": [
        "\n",
        "print(f'Keys: {dat_digits.keys()}')"
      ],
      "metadata": {
        "id": "3pQWUigw9Rgn",
        "colab": {
          "base_uri": "https://localhost:8080/"
        },
        "outputId": "f376c514-4256-4284-8f5c-3d915386f042"
      },
      "execution_count": null,
      "outputs": [
        {
          "output_type": "stream",
          "name": "stdout",
          "text": [
            "Keys: dict_keys(['data', 'target', 'frame', 'feature_names', 'target_names', 'images', 'DESCR'])\n"
          ]
        }
      ]
    },
    {
      "cell_type": "code",
      "source": [
        "print(dat_digits.DESCR)"
      ],
      "metadata": {
        "id": "IstC0ht59SWy",
        "colab": {
          "base_uri": "https://localhost:8080/"
        },
        "outputId": "c68ce431-a5a6-4899-9212-1d96beb0d7e8"
      },
      "execution_count": null,
      "outputs": [
        {
          "output_type": "stream",
          "name": "stdout",
          "text": [
            ".. _digits_dataset:\n",
            "\n",
            "Optical recognition of handwritten digits dataset\n",
            "--------------------------------------------------\n",
            "\n",
            "**Data Set Characteristics:**\n",
            "\n",
            ":Number of Instances: 1797\n",
            ":Number of Attributes: 64\n",
            ":Attribute Information: 8x8 image of integer pixels in the range 0..16.\n",
            ":Missing Attribute Values: None\n",
            ":Creator: E. Alpaydin (alpaydin '@' boun.edu.tr)\n",
            ":Date: July; 1998\n",
            "\n",
            "This is a copy of the test set of the UCI ML hand-written digits datasets\n",
            "https://archive.ics.uci.edu/ml/datasets/Optical+Recognition+of+Handwritten+Digits\n",
            "\n",
            "The data set contains images of hand-written digits: 10 classes where\n",
            "each class refers to a digit.\n",
            "\n",
            "Preprocessing programs made available by NIST were used to extract\n",
            "normalized bitmaps of handwritten digits from a preprinted form. From a\n",
            "total of 43 people, 30 contributed to the training set and different 13\n",
            "to the test set. 32x32 bitmaps are divided into nonoverlapping blocks of\n",
            "4x4 and the number of on pixels are counted in each block. This generates\n",
            "an input matrix of 8x8 where each element is an integer in the range\n",
            "0..16. This reduces dimensionality and gives invariance to small\n",
            "distortions.\n",
            "\n",
            "For info on NIST preprocessing routines, see M. D. Garris, J. L. Blue, G.\n",
            "T. Candela, D. L. Dimmick, J. Geist, P. J. Grother, S. A. Janet, and C.\n",
            "L. Wilson, NIST Form-Based Handprint Recognition System, NISTIR 5469,\n",
            "1994.\n",
            "\n",
            ".. dropdown:: References\n",
            "\n",
            "  - C. Kaynak (1995) Methods of Combining Multiple Classifiers and Their\n",
            "    Applications to Handwritten Digit Recognition, MSc Thesis, Institute of\n",
            "    Graduate Studies in Science and Engineering, Bogazici University.\n",
            "  - E. Alpaydin, C. Kaynak (1998) Cascading Classifiers, Kybernetika.\n",
            "  - Ken Tang and Ponnuthurai N. Suganthan and Xi Yao and A. Kai Qin.\n",
            "    Linear dimensionalityreduction using relevance weighted LDA. School of\n",
            "    Electrical and Electronic Engineering Nanyang Technological University.\n",
            "    2005.\n",
            "  - Claudio Gentile. A New Approximate Maximal Margin Classification\n",
            "    Algorithm. NIPS. 2000.\n",
            "\n"
          ]
        }
      ]
    },
    {
      "cell_type": "code",
      "source": [
        "dat_digits.target_names"
      ],
      "metadata": {
        "id": "3mMAfRQd9WOa",
        "colab": {
          "base_uri": "https://localhost:8080/"
        },
        "outputId": "69c0af7b-c839-4f8d-8c52-9137369ed3d3"
      },
      "execution_count": null,
      "outputs": [
        {
          "output_type": "execute_result",
          "data": {
            "text/plain": [
              "array([0, 1, 2, 3, 4, 5, 6, 7, 8, 9])"
            ]
          },
          "metadata": {},
          "execution_count": 4
        }
      ]
    },
    {
      "cell_type": "code",
      "source": [
        "dat_digits.data.shape"
      ],
      "metadata": {
        "id": "iG7YzoDZ9Wyx",
        "colab": {
          "base_uri": "https://localhost:8080/"
        },
        "outputId": "529e2a1d-43fa-484a-9644-1ad96ae110b7"
      },
      "execution_count": null,
      "outputs": [
        {
          "output_type": "execute_result",
          "data": {
            "text/plain": [
              "(1797, 64)"
            ]
          },
          "metadata": {},
          "execution_count": 5
        }
      ]
    },
    {
      "cell_type": "code",
      "source": [
        "dat_digits.images[10]"
      ],
      "metadata": {
        "id": "mHWZYMmv9ZQh",
        "colab": {
          "base_uri": "https://localhost:8080/"
        },
        "outputId": "65f8e564-be81-4633-d4ab-f1f6d8aca5e6"
      },
      "execution_count": null,
      "outputs": [
        {
          "output_type": "execute_result",
          "data": {
            "text/plain": [
              "array([[ 0.,  0.,  1.,  9., 15., 11.,  0.,  0.],\n",
              "       [ 0.,  0., 11., 16.,  8., 14.,  6.,  0.],\n",
              "       [ 0.,  2., 16., 10.,  0.,  9.,  9.,  0.],\n",
              "       [ 0.,  1., 16.,  4.,  0.,  8.,  8.,  0.],\n",
              "       [ 0.,  4., 16.,  4.,  0.,  8.,  8.,  0.],\n",
              "       [ 0.,  1., 16.,  5.,  1., 11.,  3.,  0.],\n",
              "       [ 0.,  0., 12., 12., 10., 10.,  0.,  0.],\n",
              "       [ 0.,  0.,  1., 10., 13.,  3.,  0.,  0.]])"
            ]
          },
          "metadata": {},
          "execution_count": 6
        }
      ]
    },
    {
      "cell_type": "code",
      "source": [
        "dat_digits.data[10,:]"
      ],
      "metadata": {
        "id": "KbFAQ23e9dHN",
        "colab": {
          "base_uri": "https://localhost:8080/"
        },
        "outputId": "c7dfba6d-e0df-4765-b3e4-ebd69d03f734"
      },
      "execution_count": null,
      "outputs": [
        {
          "output_type": "execute_result",
          "data": {
            "text/plain": [
              "array([ 0.,  0.,  1.,  9., 15., 11.,  0.,  0.,  0.,  0., 11., 16.,  8.,\n",
              "       14.,  6.,  0.,  0.,  2., 16., 10.,  0.,  9.,  9.,  0.,  0.,  1.,\n",
              "       16.,  4.,  0.,  8.,  8.,  0.,  0.,  4., 16.,  4.,  0.,  8.,  8.,\n",
              "        0.,  0.,  1., 16.,  5.,  1., 11.,  3.,  0.,  0.,  0., 12., 12.,\n",
              "       10., 10.,  0.,  0.,  0.,  0.,  1., 10., 13.,  3.,  0.,  0.])"
            ]
          },
          "metadata": {},
          "execution_count": 7
        }
      ]
    },
    {
      "cell_type": "markdown",
      "source": [
        "ตัวอย่างภาพ 24 รูปแรก\n",
        "\n",
        "<img src = 'https://drive.google.com/uc?id=1FnXl2rctdkxKOTlK67gOsGfN98mdF_AQ' alt = 'ML workflow' width ='700px' height = '500px'>"
      ],
      "metadata": {
        "id": "uI_Y8Utg9jdF"
      }
    },
    {
      "cell_type": "markdown",
      "source": [
        "**ขั้นตอนที่ 3 เตรียมข้อมูล**\n",
        "ขั้นตอนนี้จะเป็นการแบ่งข้อมูลเพื่อสอนตัวแบบ ตรวจสอบตัวแบบ และทดสอบตัวแบบ"
      ],
      "metadata": {
        "id": "utkVsnuQ99NJ"
      }
    },
    {
      "cell_type": "code",
      "source": [
        "from sklearn.model_selection import train_test_split\n",
        "X_train, X_test, y_train, y_test = train_test_split(dat_digits.data, dat_digits.target, test_size = 0.2, random_state=40)"
      ],
      "metadata": {
        "id": "kewYznL_-C00"
      },
      "execution_count": null,
      "outputs": []
    },
    {
      "cell_type": "code",
      "source": [
        "X_train1, X_valid, y_train1, y_valid = train_test_split(X_train, y_train, test_size = 0.1, random_state=40)"
      ],
      "metadata": {
        "id": "AywORR0j-LGu"
      },
      "execution_count": null,
      "outputs": []
    },
    {
      "cell_type": "markdown",
      "source": [
        "**ขั้นตอนที่ 4 พัฒนาและตรวจสอบตัวแบบ**"
      ],
      "metadata": {
        "id": "WrM-UFx2-VVp"
      }
    },
    {
      "cell_type": "code",
      "source": [
        "knn_n = [1,3,5]\n",
        "\n",
        "from sklearn.neighbors import KNeighborsClassifier\n",
        "\n",
        "knn_acc = [0]*len(knn_n)\n",
        "for i in range(3):\n",
        "  knn = KNeighborsClassifier(n_neighbors = knn_n[i])\n",
        "  knn.fit(X_train1, y_train1)\n",
        "  knn_acc[i] = knn.score(X_valid, y_valid)"
      ],
      "metadata": {
        "id": "lZAUUdKY-csG"
      },
      "execution_count": null,
      "outputs": []
    },
    {
      "cell_type": "code",
      "source": [
        "dt_cri = ['gini','entropy', 'log_loss']\n",
        "from sklearn.tree import DecisionTreeClassifier\n",
        "dt_acc = [0]*len(knn_n)\n",
        "for i in range(3):\n",
        "  dt = DecisionTreeClassifier(criterion =dt_cri[i], random_state=0)\n",
        "  dt.fit(X_train1, y_train1)\n",
        "  dt_acc[i] = dt.score(X_valid, y_valid)"
      ],
      "metadata": {
        "id": "1inEKo9z-hMn"
      },
      "execution_count": null,
      "outputs": []
    },
    {
      "cell_type": "markdown",
      "source": [
        "**ขั้นตอนที่ 5 ประเมินตัวแบบ**"
      ],
      "metadata": {
        "id": "ENB4Kq7K-Xag"
      }
    },
    {
      "cell_type": "code",
      "source": [
        "import numpy as np\n",
        "best_knn = np.argmax(knn_acc)\n",
        "best_dt = np.argmax(dt_acc)\n",
        "print('Performance on validation dataset')\n",
        "print(f'Best k of KNN: {knn_n[best_knn]} / Acc = {knn_acc[best_knn]:.2f}')\n",
        "print(f'Best criterion of DT: {dt_cri[best_dt]} / Acc = {dt_acc[best_dt]:.2f}')"
      ],
      "metadata": {
        "id": "J5bLXrvQ-pys",
        "colab": {
          "base_uri": "https://localhost:8080/"
        },
        "outputId": "9f266b22-3d6f-4c12-af88-e34fed91a264"
      },
      "execution_count": null,
      "outputs": [
        {
          "output_type": "stream",
          "name": "stdout",
          "text": [
            "Performance on validation dataset\n",
            "Best k of KNN: 1 / Acc = 0.98\n",
            "Best criterion of DT: entropy / Acc = 0.88\n"
          ]
        }
      ]
    },
    {
      "cell_type": "code",
      "source": [
        "knn_best = KNeighborsClassifier(n_neighbors = 1)\n",
        "knn_best.fit(X_train,y_train)\n",
        "dt_best = DecisionTreeClassifier(criterion = 'entropy', random_state=0)\n",
        "dt_best.fit(X_train,y_train)\n",
        "acc_knn_best = knn_best.score(X_test,y_test)\n",
        "acc_dt_best = dt_best.score(X_test,y_test)\n",
        "print('Acc on test dataset:')\n",
        "print(f'Best acc of KNN = {acc_knn_best:.2f}')\n",
        "print(f'Best acc of DT = {acc_dt_best:.2f}')"
      ],
      "metadata": {
        "id": "aWtAceDe-t4D",
        "colab": {
          "base_uri": "https://localhost:8080/"
        },
        "outputId": "0a05bf78-c005-4091-f934-4ed0d3d44323"
      },
      "execution_count": null,
      "outputs": [
        {
          "output_type": "stream",
          "name": "stdout",
          "text": [
            "Acc on test dataset:\n",
            "Best acc of KNN = 0.99\n",
            "Best acc of DT = 0.87\n"
          ]
        }
      ]
    },
    {
      "cell_type": "markdown",
      "source": [
        "<img src = 'https://drive.google.com/uc?id=18qUXmnQK3FIPfMCm8m0aKf1Saam6ezdJ'>\n",
        "<img src = 'https://drive.google.com/uc?id=192V5NZG8GXDFzYQIxTRJCSmiBUkc2xys'>"
      ],
      "metadata": {
        "id": "oL-_as4V-6aH"
      }
    }
  ]
}