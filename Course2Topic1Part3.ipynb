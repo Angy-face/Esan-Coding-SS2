{
  "cells": [
    {
      "cell_type": "markdown",
      "metadata": {
        "id": "view-in-github",
        "colab_type": "text"
      },
      "source": [
        "<a href=\"https://colab.research.google.com/github/Angy-face/Esan-Coding-SS2/blob/main/Course2Topic1Part3.ipynb\" target=\"_parent\"><img src=\"https://colab.research.google.com/assets/colab-badge.svg\" alt=\"Open In Colab\"/></a>"
      ]
    },
    {
      "cell_type": "markdown",
      "metadata": {
        "id": "hSZx5CXGMJYJ",
        "jp-MarkdownHeadingCollapsed": true,
        "tags": []
      },
      "source": [
        "<img src = 'https://drive.google.com/uc?id=18zsxFId1FaUI1RvfkAex6ZoNpToP8GoT'>"
      ]
    },
    {
      "cell_type": "markdown",
      "metadata": {
        "id": "gp6Zuvm5CZm6"
      },
      "source": [
        "---"
      ]
    },
    {
      "cell_type": "markdown",
      "metadata": {
        "id": "dTEnS9ttMJYP"
      },
      "source": [
        "# ผู้บรรยาย: ผู้ช่วยศาสตราจารย์ ดร. วีระชัย สาระคร\n",
        "## สาขาวิชาคณิตศาสตร์ คณะวิทยาศาสตร์ มหาวิทยาลัยขอนแก่น"
      ]
    },
    {
      "cell_type": "markdown",
      "metadata": {
        "id": "4pTnJFDqCZm7"
      },
      "source": [
        "---"
      ]
    },
    {
      "cell_type": "markdown",
      "metadata": {
        "id": "Do-3ccWrMJYQ",
        "tags": []
      },
      "source": [
        "# Topic 1: Basic Python Programming for Data Scientists"
      ]
    },
    {
      "cell_type": "markdown",
      "metadata": {
        "id": "EAgs0SVfMJYX",
        "tags": []
      },
      "source": [
        "# 1.5 การเรียกใช้งานชุดคำสั่งหรือไลบรารีต่างๆ\n",
        "ในภาษาไพทอน ชุดคำสั่งที่เป็นจำเป็นที่สร้างขึ้นสำหรับนำไปใช้ในการคำนวณหรือแก้ปัญหาเฉพาะทางโดยนักพัฒนาได้เก็บไว้ในมอดูล(Modules)และไลบรารี(Libraries) ที่ถูกติดตั้งมาพร้อมกับภาษาไพทอน\n",
        "\n",
        "### มอดูล (Modules)\n",
        "คือไฟล์ที่ถูกเขียนขึ้นด้วยภาษาไพทอนซึ่งลงท้ายด้วยนามสกุล .py\n",
        "มอดูลประกอบด้วยฟังก์ชัน คลาส และตัวแปรต่าง ๆ ที่ถูกจัดเก็บไว้เพื่อให้ผู้พัฒนาหรือนักพัฒนาทั่วไปสามารถนำไปใช้ได้\n",
        "\n",
        "### ไลบรารี (Libraries)\n",
        "คือชุดคำสั่งและฟังก์ชันที่ถูกพัฒนาขึ้นและจัดเก็บไว้เพื่อให้นักพัฒนาสามารถนำไปใช้ต่อได้\n",
        "ไลบรารีเป็นชุดของมอดูลที่ถูกสร้างขึ้นเพื่อประโยชน์ในวงกว้าง\n",
        "\n",
        "### ตัวอย่างมอดูลและไลบรารีที่จำเป็นสำหรับวิทยาการข้อมูล\n",
        "1. มอดูล `math` ใช้สำหรับการคำนวณทางคณิตศาสตร์\n",
        "2. มอดูล `statistics` ใช้สำหรับการคำนวณข้อมูลเชิงสถิติ\n",
        "3. ไลบรารี `NumPy` ใช้สำหรับการคำนวณที่เกี่ยวกับอาร์เรย์และเมทริกซ์\n",
        "4. ไลบรารี `Pandas` ใช้สำหรับการจัดการข้อมูลโครงสร้างแบบตาราง\n",
        "5. ไลบรารี `Matplotlib` ใช้สำหรับการวาดกราฟและแสดงผล\n",
        "6. ไลบรารี `Seaborn`  ใช้สำหรับการวาดกราฟและแสดงผล\n",
        "7. ไลบรารี `Scikit-Learn` ใช้สำหรับการประยุกต์ใช้การเรียนรู้ของเครื่อง(Machine Learning: ML)\n",
        "เป็นต้น\n",
        "\n",
        "สำหรับคำสั่งพื้นฐานทั่วไป นักพัฒนาสามารถเรียกใช้งานคำสั่งนั้นได้โดยตรง ในขณะที่คำสั่งต่างๆที่เก็บไว้ในมอดูลหรือไลบรารีนั้น นักพัฒนาจะต้องสั่งการให้ภาษาไพทอนนำเข้า(import)มาก่อน แล้วค่อยเรียกใช้งานคำสั่งต่างๆภายในมอดูลหรือไลบรารีนั้นได้\n",
        "\n",
        "### การเรียกใช้งานมอดูลหรือไลบรารี\n",
        "การเรียกใช้งานงานมอดูลหรือไลบรารีสามารถใช้คำสั่งดังนี้\n",
        "```\n",
        "import desired_module_or_library\n",
        "```\n",
        "เมื่อ `desired_module_or_library` เป็นมอดูลหรือไลบรารีที่ต้องการเรียกใช้งาน นอกจากนี้ การเรียกใช้งานมอดูลหรือไลบรารีที่ต้องการแล้ว ภาษาไพทอนยังยอมให้ผู้ใช้งานตั้งชื่อไลบรารีที่เรียกใช้งานเป็นชื่อใหม่ตามที่ต้องการได้ โดยใช้คำสั่งดังนี้\n",
        "```\n",
        "import desired_module_or_library as new_module_or_library_name\n",
        "```\n",
        "เมื่อ `new_module_or_library_name`เป็นชื่อเรียกใหม่ของไลบรารี `desired_module(library)` เดิม\n",
        "อย่างไรก็ตาม หากไม่ต้องการอ้างอิงชื่อมอดูลหรือไลบรารีนำหน้าคำสั่งที่อยู่ภายในมอดูลหรือไลบรารีนั้น สามารถใช้คำสั่งดังนี้\n",
        "```\n",
        "from desired_module_or_library import *\n",
        "```"
      ]
    },
    {
      "cell_type": "markdown",
      "metadata": {
        "id": "XfhHJnxlMJYY"
      },
      "source": [
        "**ตัวอย่าง 1.5.1** ตัวอย่างการเรียกใช้งานมอดูล `math` คำสั่งเป็นดังนี้"
      ]
    },
    {
      "cell_type": "code",
      "execution_count": null,
      "metadata": {
        "id": "zTqTg3OkMJYY"
      },
      "outputs": [],
      "source": [
        "import math"
      ]
    },
    {
      "cell_type": "markdown",
      "metadata": {
        "id": "UJGG0B05MJYY"
      },
      "source": [
        "กรณีเรียกใช้งานงานมอดูล `math` แต่ตั้งชื่อใหม่ให้เป็น `m` คำสั่งเป็นดังนี้"
      ]
    },
    {
      "cell_type": "code",
      "execution_count": null,
      "metadata": {
        "id": "zVmwrlCuMJYY"
      },
      "outputs": [],
      "source": [
        "import math as m"
      ]
    },
    {
      "cell_type": "markdown",
      "metadata": {
        "id": "v2tcoNcFzV2j"
      },
      "source": [
        "หรือ กรณีไม่ต้องการอ้างอิงชื่อไลบรารี `math` คำสั่งเป็นดังนี้"
      ]
    },
    {
      "cell_type": "code",
      "execution_count": null,
      "metadata": {
        "id": "b1hYelsJzV2j",
        "colab": {
          "base_uri": "https://localhost:8080/"
        },
        "outputId": "b23a1c1c-82ba-411d-c2ec-87f368fced3a"
      },
      "outputs": [
        {
          "output_type": "execute_result",
          "data": {
            "text/plain": [
              "7"
            ]
          },
          "metadata": {},
          "execution_count": 3
        }
      ],
      "source": [
        "from math import *\n",
        "ceil(6.5)"
      ]
    },
    {
      "cell_type": "markdown",
      "metadata": {
        "id": "l2nZMV0JVqGC"
      },
      "source": [
        "# 1.6 มอดูลทางคณิตศาสตร์\n",
        "เป็นไลบรารีที่รวบรวมชุดคำสั่งหรือฟังก์ชันต่างๆ ทางคณิตศาสตร์ ในที่นี้จะแนะนำ ฟังก์ชันเกี่ยวกับการดำเนินการเลขคณิตและค่าคงที่  ฟังก์ชันตรีโกณมิติ ฟังก์ชันไฮเพอร์โบลิก ฟังก์ชันกำลัง ฟังก์ชันเอ็กซ์โพเนนเชียล ฟังก์ชันลอการิทึมและฟังก์ชันเกี่ยวกับจำนวนเชิงซ้อน ตามลำดับ"
      ]
    },
    {
      "cell_type": "markdown",
      "metadata": {
        "id": "phh2urpcCN3e"
      },
      "source": [
        "## 1.6.1 ฟังก์ชันเกี่ยวกับการดำเนินการเลขคณิตและค่าคงที่\n",
        "ชื่อคำสั่งที่สำคัญเกี่ยวกับจำนวนและค่าคงที่เป็นดังนี้ เมื่อกำหนด `x,y` เป็นตัวแปร\n",
        "- `math.ceil(x)` ปัดค่าตัวเลขขึ้นให้เป็นจำนวนเต็ม (ปัดให้เป็นจำนวนที่น้อยที่สุดที่มากกว่าหรือเท่ากับ `x` สัญลักษณ์ทางคณิตศาสตร์คือ $\\lceil x\\rceil$)\n",
        "- `math.floor` ปัดค่าตัวเลขลงให้เป็นจำนวนเต็ม (ปัดให้เป็นจำนวนเต็มที่มากที่สุดที่น้อยกว่าหรือเท่ากับ `x`  สัญลักษณ์ทางคณิตศาสตร์คือ $\\lfloor x\\rfloor$)\n",
        "- `math.trunc(x)` ปัดค่าส่วนที่เป็นทศนิยมออก\n",
        "- `math.inf` กำหนดค่าให้เป็น infinity\n",
        "- `math.nan` กำหนดค่าที่ไม่ใช่จำนวน (Not A Number)\n",
        "- `math.isinf(x)` ตรวจสอบว่า `x` มีค่าเป็น infinity หรือไม่\n",
        "- `math.isnan(x)` ตรวจสอบว่า`x` มีค่าเป็น “Not a number” หรือไม่\n",
        "- `math.abs(x)` หาค่าสัมบูรณ์ของ `x` และจัดเก็บค่าที่ได้ตามประเภทของตัวแปร `x`\n",
        "- `math.fabs` หาค่าสัมบูรณ์ของ `x` และจัดเก็บค่าที่ได้เป็นจำนวนทศนิยมเสมอ\n",
        "- `math.copysign(x,y)` หาค่าสัมบูรณ์ของ x แต่เครื่องหมายหน้า `x`เหมือนกับ y\n",
        "- `math.pi` ให้ค่า $\\pi$\n",
        "- `math.e` ให้ค่าคงที่ของออยเลอร์ $e=2.718281828459045...$\n",
        "- `math.sqrt(x)` หาค่ารากที่ 2 ของ `x`\n",
        "เป็นต้น"
      ]
    },
    {
      "cell_type": "markdown",
      "metadata": {
        "id": "ZbwHv8budIVa"
      },
      "source": [
        "## 1.6.2 ฟังก์ชันตรีโกณมิติ\n",
        "ตัวอย่างของฟังก์ชันตรีโกณมิติได้แก่\n",
        "- `math.sin(x)` ใช้คำนวณค่า $\\sin(x)$     \n",
        "- `math.cos(x)` ใช้คำนวณค่า $\\cos(x)$\n",
        "- `math.tan(x)` ใช้คำนวณค่า $\\tan(x)$\n",
        "- `math.asin(x)` ใช้คำนวณค่า $\\sin^{-1}(x)$\n",
        "- `math.acos(x)` ใช้คำนวณค่า $\\cos^{-1}(x)$\n",
        "- `math.atan(x)`  ใช้คำนวณค่า $\\tan^{-1}(x)$     \n",
        "- `math.degrees` ใช้แปลงค่ามุมในหน่วยเรเดียนให้เป็นองศา\n",
        "- `math.radians` ใช้แปลงค่ามุมในหน่วยองศาให้เป็นเรเดียน\n",
        "## 1.6.3 ฟังก์ชันไฮเพอร์โบลิก\n",
        "ตัวอย่างของฟังก์ชันไฮเพอร์โบลิกได้แก่\n",
        "- `math.sinh(x)` ใช้คำนวณค่า $\\sinh(x)$\n",
        "- `math.cosh(x)`  ใช้คำนวณค่า $\\cosh(x)$\n",
        "- `math.tanh(x)` ใช้คำนวณค่า $\\tanh(x)$\n",
        "- `math.asinh(x)` ใช้คำนวณค่า $\\sinh^{-1}(x)$    \n",
        "- `math.acosh(x)` ใช้คำนวณค่า $\\cosh^{-1}(x)$    \n",
        "- `math.atanh(x)` ใช้คำนวณค่า $\\tanh^{-1}(x)$     \n",
        "\n",
        "**หมายเหตุ:**\n",
        "\n",
        "1) ฟังก์ชันตรีโกณมิติและไฮเพอร์โบลิกต่างๆ จะใช้ค่ามุมในหน่วยเรเดียนทั้งหมด\n",
        "\n",
        "2) $\\sinh(x)= \\frac{e^{x}-e^{-x}}{2}$, $\\sinh ^{-1}(x)=\\ln \\left(x+\\sqrt{x^2+1}\\right)$\n",
        "\n",
        "3) $\\cosh(x)= \\frac{e^{x}+e^{-x}}{2}$, $\\cosh ^{-1}(x)=\\ln \\left(x+\\sqrt{x^2-1}\\right)$\n",
        "\n",
        "4) $\\tanh(x) = \\frac{e^{x}-e^{-x}}{e^{x}+e^{-x}}$, $\\tanh ^{-1}(x)=\\frac{1}{2} \\ln \\left(\\frac{1+x}{1-x}\\right)$"
      ]
    },
    {
      "cell_type": "code",
      "source": [
        "log10(101)"
      ],
      "metadata": {
        "colab": {
          "base_uri": "https://localhost:8080/"
        },
        "id": "fsuesNgknt7_",
        "outputId": "620fca20-27eb-4aa2-e6ac-710697d82e63"
      },
      "execution_count": null,
      "outputs": [
        {
          "output_type": "execute_result",
          "data": {
            "text/plain": [
              "2.0043213737826426"
            ]
          },
          "metadata": {},
          "execution_count": 10
        }
      ]
    },
    {
      "cell_type": "markdown",
      "metadata": {
        "id": "2RmYsCHCdLKl"
      },
      "source": [
        "## 1.6.4 ฟังก์ชันกำลัง ฟังก์ชันเอ็กซ์โพเนนเชียล และฟังก์ชันลอการิทึม\n",
        "ตัวอย่างฟังก์ชันเอ็กซ์โพเนนเชียลได้แก่\n",
        "- `math.pow(x,y)` คำนวณค่า $x^y$\n",
        "- `math.exp(x)` คำนวณค่า $e^{x}$\n",
        "- `math.expm1` คำนวณค่า $e^{x}-1$\n",
        "- `math.log(x)` คำนวณค่า $\\ln(x)$\n",
        "- `math.log1p(x)` คำนวณค่า $\\ln(1+x)$\n",
        "- `math.log2(x)` คำนวณค่า $\\log_{2}(x)$\n",
        "- `math.log10(x)` คำนวณค่า $\\log_{10}(x)$\n"
      ]
    },
    {
      "cell_type": "markdown",
      "metadata": {
        "id": "W4arq7xSXdl7"
      },
      "source": [
        "**ตัวอย่าง 1.6.1**\n",
        "จงบอกคำสั่งที่ใช้ในการคำนวณนิพจน์ทางคณิตศาสตร์ต่อไปนี้เมื่อกำหนดให้ $x=3$ และ $y=-4$\n",
        "1. $p=1+e^{x-2}+\\left(\\frac{\\pi}{5}\\right)^{|y-2|}$\n",
        "2. $q=\\sin\\frac{\\pi}{6}+\\cos\\frac{\\pi}{3}+\\ln(3+x)+10^{6}\\log_{10}|y|$"
      ]
    },
    {
      "cell_type": "code",
      "execution_count": null,
      "metadata": {
        "id": "SiOAGVBKXfzW",
        "colab": {
          "base_uri": "https://localhost:8080/"
        },
        "outputId": "f580137a-e506-4909-bd4f-2862e5aa9033"
      },
      "outputs": [
        {
          "output_type": "stream",
          "name": "stdout",
          "text": [
            "3.7798107368478644\n",
            "602062.7830874316\n"
          ]
        }
      ],
      "source": [
        "import math\n",
        "x=3\n",
        "y=-4\n",
        "p=1+math.exp(x-2)+(math.pi/5)**math.fabs(y-2)\n",
        "print(p)\n",
        "q=math.sin(math.pi/6)+math.cos(math.pi/3)+math.log(3+x)+10**6*math.log10(math.fabs(y))\n",
        "print(q)"
      ]
    },
    {
      "cell_type": "code",
      "source": [
        "p1 = 1+ exp(x-2)+(pi/5)**abs(y-2)\n",
        "q1 = sin(pi/6)+cos(pi/3)+log(3+x)+10**6*log10(fabs(y))"
      ],
      "metadata": {
        "id": "N0Zg4FLFoYoE"
      },
      "execution_count": null,
      "outputs": []
    },
    {
      "cell_type": "code",
      "source": [
        "print(p1 == p , q1 ==q)"
      ],
      "metadata": {
        "colab": {
          "base_uri": "https://localhost:8080/"
        },
        "id": "t-jQ8tIfpenL",
        "outputId": "8cfde665-89f3-4780-cdf7-53510071d179"
      },
      "execution_count": null,
      "outputs": [
        {
          "output_type": "stream",
          "name": "stdout",
          "text": [
            "True True\n"
          ]
        }
      ]
    },
    {
      "cell_type": "markdown",
      "metadata": {
        "id": "pjU8xO1nQ2ou"
      },
      "source": [
        "**ตัวอย่าง 1.6.2** จงใช้เขียนคำสั่งในการรับค่าข้อมูล `x` ที่เป็นจำนวนจริง จากนั้น หาค่า $$y=2-\\frac{x}{5}+x^2-\\log_{10}(|x|)+e^{-\\frac{x}{4}}$$\n",
        "แล้วแสดงค่า $y$ ถึงทศนิยม $8$ ตำแหน่ง"
      ]
    },
    {
      "cell_type": "code",
      "execution_count": null,
      "metadata": {
        "id": "ybYSOSajCQlf",
        "colab": {
          "base_uri": "https://localhost:8080/"
        },
        "outputId": "82c7b065-d09b-4d0b-ccf5-80a27d615613"
      },
      "outputs": [
        {
          "output_type": "stream",
          "name": "stdout",
          "text": [
            "Input x = 5\n",
            "y = 25.58753479\n"
          ]
        }
      ],
      "source": [
        "import math as m\n",
        "x=float(input(\"Input x = \"))\n",
        "y=2-x/5+x**2-m.log10(m.fabs(x))+m.exp(-x/4)\n",
        "print(\"y = {:.8f}\".format(y))"
      ]
    },
    {
      "cell_type": "code",
      "source": [
        "y1 = 2 - x/5 + x**2 - log10(fabs(x))+exp(-x/4)\n",
        "(y1 == y)"
      ],
      "metadata": {
        "colab": {
          "base_uri": "https://localhost:8080/"
        },
        "id": "Ux9xg4Uyppyd",
        "outputId": "b893234b-6acd-4aec-89a2-5147e6a327a9"
      },
      "execution_count": null,
      "outputs": [
        {
          "output_type": "execute_result",
          "data": {
            "text/plain": [
              "True"
            ]
          },
          "metadata": {},
          "execution_count": 19
        }
      ]
    },
    {
      "cell_type": "markdown",
      "metadata": {
        "id": "XjkdF3s7CQfn"
      },
      "source": [
        "\n",
        "**ตัวอย่าง 1.6.3**\n",
        "จงเขียนชุดคำสั่งภาษาไพทอนเพื่อคำนวณหาความยาวของด้านที่สาม($c$)ของรูปสามเหลี่ยม เมื่อเราทราบความยาวด้านสองด้าน($a$ และ $b$) และมุมระหว่างด้านสองด้านที่กำหนดให้เป็น ($\\theta$) โดยใช้กฎของโคไซน์ดังนี้\n",
        "$$\n",
        "c^{2}=a^{2}+b^{2}-2 a b \\cos (\\theta)\n",
        "$$\n",
        "\n",
        "<img src='https://drive.google.com/uc?id=16-xRcrls1ZfZaWfhO8kiP_c2OMO4iCl0' align=\"right\" width=\"300\"/>\n",
        "\n",
        "เมื่อกำหนดให้ ข้อมูลเข้าจากแป้นพิมพ์คือ\n",
        "  1. ความยาวด้าน $a$ หน่วยเซนติเมตร\n",
        "  2. ความยาวด้าน $b$ หน่วยเซนติเมตร\n",
        "  3. มุม $\\theta$ (หน่วยองศา)\n",
        "\n",
        "ข้อมูลออกทางจอภาพคือ\n",
        "1. ความยาวด้านที่สาม $c$ หน่วยเซนติเมตร\n",
        "\n"
      ]
    },
    {
      "cell_type": "code",
      "source": [
        "a = float(input(\"a : \"))\n",
        "b = float(input(\"b : \"))\n",
        "theta = math.radians(float(input(\"theta : \")))\n",
        "import math\n",
        "c = math.sqrt(a**2 + b**2 - 2*a*b*math.cos(theta))\n",
        "print(c)"
      ],
      "metadata": {
        "colab": {
          "base_uri": "https://localhost:8080/"
        },
        "id": "mbb72aAvrMzM",
        "outputId": "55ae0720-8f6b-473a-b179-581ff98046ff"
      },
      "execution_count": 4,
      "outputs": [
        {
          "output_type": "stream",
          "name": "stdout",
          "text": [
            "a : 3\n",
            "b : 4\n",
            "theta : 53\n",
            "3.2490674730375853\n"
          ]
        }
      ]
    },
    {
      "cell_type": "code",
      "execution_count": 3,
      "metadata": {
        "id": "E6KpMrZVzV2l",
        "colab": {
          "base_uri": "https://localhost:8080/"
        },
        "outputId": "db1105f0-dcc5-4c6e-b4be-6ebf4c51f554"
      },
      "outputs": [
        {
          "output_type": "stream",
          "name": "stdout",
          "text": [
            "โปรแกรมนี้ออกแบบเพื่อใช้ในการคำนวณด้านที่สามของรูปสามเหลี่ยม\n",
            "เมื่อเราทราบความยาวด้านสองด้าน ในที่นี้สมมุติให้เป็น a และ b (หน่วยเซนติเมตร\n",
            "และขนาดของมุมระหว่างด้านสองด้านนี้ สมมุติให้เป็น theta (หน่วยองศา)\n",
            "ป้อนค่าความยาวด้าน a (เซนติเมตร) = 3\n",
            "ป้อนค่าความยาวด้าน b (เซนติเมตร) = 4\n",
            "ป้อนค่ามุมระหว่างด้าน a และ b คือ theta (องศา) = 53\n",
            "ความยาวด้านที่สามคือ c = 3.249067 เซนติเมตร\n"
          ]
        }
      ],
      "source": [
        "print('โปรแกรมนี้ออกแบบเพื่อใช้ในการคำนวณด้านที่สามของรูปสามเหลี่ยม')\n",
        "print('เมื่อเราทราบความยาวด้านสองด้าน ในที่นี้สมมุติให้เป็น a และ b (หน่วยเซนติเมตร')\n",
        "print('และขนาดของมุมระหว่างด้านสองด้านนี้ สมมุติให้เป็น theta (หน่วยองศา)')\n",
        "a = float(input('ป้อนค่าความยาวด้าน a (เซนติเมตร) = '))\n",
        "b = float(input('ป้อนค่าความยาวด้าน b (เซนติเมตร) = '))\n",
        "theta = float(input('ป้อนค่ามุมระหว่างด้าน a และ b คือ theta (องศา) = '))\n",
        "from math import *\n",
        "theta=radians(theta)\n",
        "c=sqrt(a**2+b**2-2*a*b*cos(theta))\n",
        "print('ความยาวด้านที่สามคือ c = {:f} เซนติเมตร'.format(c))"
      ]
    },
    {
      "cell_type": "markdown",
      "metadata": {
        "id": "uNLrlPYLmbDj"
      },
      "source": [
        "# 1.7 ข้อมูลแบบซับซ้อน(Non-primitive): ลิสต์ อาร์เรย์และเมทริกซ์"
      ]
    },
    {
      "cell_type": "markdown",
      "metadata": {
        "id": "KqmuClmnYIfj"
      },
      "source": [
        "## 1.7.1 ลิสต์\n",
        "จากการที่ได้กล่าวไปแล้วว่าลิสต์ (List) เป็นโครงสร้างข้อมูลที่ซับซ้อน(non-primitive)ที่ใช้เก็บข้อมูลต่าง ๆ เป็นลำดับ(sequence) ลิสต์สามารถถูกเปลี่ยนแปลงได้ในภายหลัง(mutable) ลิสต์ใช้เครื่องหมาย `[ ]` เพื่อระบุตำแหน่งของข้อมูลในลิสต์ โดยแต่ละข้อมูลจะถูกคั่นด้วยเครื่องหมายจุลภาค `,`\n",
        "### การอ้างอิงลำดับของข้อมูลในลิสต์\n",
        "สำหรับค่าของข้อมูลในตัวแปรลิสต์จะมีดัชนี(index) กำกับลำดับข้อมูล ถ้าชุดข้อมูลมี $n$ ค่า  ข้อมูลลำดับตัวแรกหรือซ้ายสุดจะมีดัชนีเท่ากับ 0 ส่วนดัชนีลำดับสุดท้ายของข้อมูลจะเป็น $n-1$ หรือ -1\n",
        "\n",
        "|    ดัชนี   | ลำดับของข้อมูล |\n",
        "|:--------:|:-----------:|\n",
        "|     0    |      1      |\n",
        "|     1    |      2      |\n",
        "|     2    |      3      |\n",
        "| $\\vdots$ |   $\\vdots$  |\n",
        "|    n-2   |     n-1     |\n",
        "|  n-1 หรือ -1 |      n      |"
      ]
    },
    {
      "cell_type": "markdown",
      "metadata": {
        "id": "2NJyzat0Z5rC",
        "tags": []
      },
      "source": [
        "**ตัวอย่าง 1.7.1** พิจารณาลิสต์ต่อไปนี้"
      ]
    },
    {
      "cell_type": "code",
      "execution_count": 5,
      "metadata": {
        "tags": [],
        "id": "8uDGiu31zV2m"
      },
      "outputs": [],
      "source": [
        "lib=['math', 'Numpy', 'SciPy', 'matplotlib', 'pandas','Seaborn','scikit-learn']"
      ]
    },
    {
      "cell_type": "code",
      "execution_count": 6,
      "metadata": {
        "id": "E74hoaiWzV2m",
        "colab": {
          "base_uri": "https://localhost:8080/"
        },
        "outputId": "5a0610bb-57e5-4b6c-82ba-8db7ef0976f9"
      },
      "outputs": [
        {
          "output_type": "stream",
          "name": "stdout",
          "text": [
            "math\n"
          ]
        }
      ],
      "source": [
        "print(lib[0])"
      ]
    },
    {
      "cell_type": "code",
      "execution_count": 7,
      "metadata": {
        "id": "d3XeFiUgzV2m",
        "colab": {
          "base_uri": "https://localhost:8080/"
        },
        "outputId": "dc55eeb7-ea14-4446-de90-c247cb4f2c9d"
      },
      "outputs": [
        {
          "output_type": "stream",
          "name": "stdout",
          "text": [
            "matplotlib\n"
          ]
        }
      ],
      "source": [
        "print(lib[3])"
      ]
    },
    {
      "cell_type": "code",
      "execution_count": 8,
      "metadata": {
        "id": "Q20q02ApzV2n",
        "colab": {
          "base_uri": "https://localhost:8080/"
        },
        "outputId": "78981adc-dfda-427e-9ade-926f510c0d7e"
      },
      "outputs": [
        {
          "output_type": "stream",
          "name": "stdout",
          "text": [
            "scikit-learn\n"
          ]
        }
      ],
      "source": [
        "print(lib[6])"
      ]
    },
    {
      "cell_type": "code",
      "execution_count": 9,
      "metadata": {
        "id": "mPNcYA29zV2m",
        "colab": {
          "base_uri": "https://localhost:8080/"
        },
        "outputId": "223801f4-c3e7-471b-a053-36a9009e83ae"
      },
      "outputs": [
        {
          "output_type": "stream",
          "name": "stdout",
          "text": [
            "scikit-learn\n"
          ]
        }
      ],
      "source": [
        "print(lib[-1])"
      ]
    },
    {
      "cell_type": "markdown",
      "metadata": {
        "id": "tKEYec69zV2n"
      },
      "source": [
        "### การสร้างลิสต์ซ้อนลิสต์\n",
        "ลิสต์ซ้อนลิสต์ (nested lists)คือการนำลิสต์มาซ้อนไว้ภายในลิสต์อีกชั้นหนึ่ง วัตถุประสงค์คือทำให้สามารถสร้างโครงสร้างข้อมูลที่มีลำดับหรือโครงสร้างที่ซับซ้อนได้มากขึ้น"
      ]
    },
    {
      "cell_type": "markdown",
      "source": [
        "**ตัวอย่าง 1.7.2** พิจารณาลิสต์ต่อไปนี้"
      ],
      "metadata": {
        "id": "h45dxWxhJHUN"
      }
    },
    {
      "cell_type": "code",
      "execution_count": 10,
      "metadata": {
        "id": "cmu7ZdG0Z_eZ"
      },
      "outputs": [],
      "source": [
        "# ลิสต์ซ้อนลิสต์ของตัวเลข\n",
        "nestlist1 = [[1, 2, 3], [4, 5, 6], [7, 8, 9]]\n",
        "\n",
        "# ลิสต์ซ้อนลิสต์ของสตริง\n",
        "nestlist2 = [['apple', 'orange'], ['banana', 'grape'], ['cherry', 'kiwi']]\n",
        "\n",
        "# ลิสต์ซ้อนลิสต์ของประเภทข้อมูลต่าง ๆ\n",
        "nestlist3 = [[1, 'one', 2.0], ['apple', 'orange', 'banana'], [True, False, True]]\n",
        "\n",
        "# ลิสต์ซ้อนลิสต์ที่ภายในลิสต์มีสมาชิกทั้งที่เป็นลิสต์และไม่เป็นลิสต์\n",
        "nestlist4 = [1, 2, [3, 4, 5], 6, [7, 8, 9]]"
      ]
    },
    {
      "cell_type": "code",
      "execution_count": 11,
      "metadata": {
        "id": "gwIlsZm-zV2n",
        "colab": {
          "base_uri": "https://localhost:8080/"
        },
        "outputId": "d176d399-0a26-4f23-89af-829513a2fc51"
      },
      "outputs": [
        {
          "output_type": "stream",
          "name": "stdout",
          "text": [
            "[1, 2, 3]\n"
          ]
        }
      ],
      "source": [
        "print(nestlist1[0])"
      ]
    },
    {
      "cell_type": "code",
      "execution_count": 12,
      "metadata": {
        "id": "IQq7c88gzV2n",
        "colab": {
          "base_uri": "https://localhost:8080/"
        },
        "outputId": "a3846a22-6ac0-4256-d7bf-ae52c67c7099"
      },
      "outputs": [
        {
          "output_type": "stream",
          "name": "stdout",
          "text": [
            "6\n"
          ]
        }
      ],
      "source": [
        "print(nestlist1[1][2])"
      ]
    },
    {
      "cell_type": "code",
      "execution_count": 13,
      "metadata": {
        "id": "Aj9x6ewzaVXO",
        "tags": [],
        "colab": {
          "base_uri": "https://localhost:8080/"
        },
        "outputId": "46187532-c17f-4442-f35a-cb44d71a9b56"
      },
      "outputs": [
        {
          "output_type": "stream",
          "name": "stdout",
          "text": [
            "kiwi\n"
          ]
        }
      ],
      "source": [
        "print(nestlist2[2][1])"
      ]
    },
    {
      "cell_type": "code",
      "execution_count": 14,
      "metadata": {
        "id": "FvUcgJDgEj2D",
        "colab": {
          "base_uri": "https://localhost:8080/"
        },
        "outputId": "92ffa93a-c2f7-4a84-eb89-d7eca7749ed6"
      },
      "outputs": [
        {
          "output_type": "stream",
          "name": "stdout",
          "text": [
            "apple\n"
          ]
        }
      ],
      "source": [
        "print(nestlist3[1][0])"
      ]
    },
    {
      "cell_type": "code",
      "execution_count": 15,
      "metadata": {
        "id": "xijYWzbVzV2n",
        "colab": {
          "base_uri": "https://localhost:8080/"
        },
        "outputId": "45b45def-b08f-4310-8ca3-77c036e94058"
      },
      "outputs": [
        {
          "output_type": "stream",
          "name": "stdout",
          "text": [
            "4\n"
          ]
        }
      ],
      "source": [
        "print(nestlist4[2][1])"
      ]
    },
    {
      "cell_type": "markdown",
      "metadata": {
        "id": "5QfsUibRaef0"
      },
      "source": [
        "### ฟังก์ชันที่เกี่ยวกับลิสต์\n",
        "1. `x.count(a)` ใช้นับจำนวนสมาชิกที่มีค่า `a` ในลิสต์ x\n",
        "2. `x.sort()` ใช้จัดเรียงข้อมูลในลิสต์`x` จากน้อยไปหามาก\n",
        "3. `x.reverse()` ใช้กลับลำดับของข้อมูลในลิสต์`x` จากเดิมซ้ายไปขวาให้เป็นขวาไปซ้าย\n",
        "4. `x.clear()` ใช้ลบสมาชิกทั้งหมดในลิสต์ `x`"
      ]
    },
    {
      "cell_type": "markdown",
      "source": [
        "**ตัวอย่าง 1.7.3** พิจารณาลิสต์ต่อไปนี้"
      ],
      "metadata": {
        "id": "_aZ2ECuiI0lO"
      }
    },
    {
      "cell_type": "code",
      "source": [
        "liblists=['math','statistics','NumPy','Pandas','Matplotlib','Seaborn','Scikit-Learn']\n",
        "CCScore =[29.32,29,28,27,27.5,29,29,25,24,27,20]"
      ],
      "metadata": {
        "id": "u7Nav6LtDzmH"
      },
      "execution_count": 17,
      "outputs": []
    },
    {
      "cell_type": "code",
      "source": [
        "liblists.count('Numpy')"
      ],
      "metadata": {
        "colab": {
          "base_uri": "https://localhost:8080/"
        },
        "id": "UvRPpe8xvtaj",
        "outputId": "e0379976-60fc-4a7f-f620-2fdd70607bb2"
      },
      "execution_count": 18,
      "outputs": [
        {
          "output_type": "execute_result",
          "data": {
            "text/plain": [
              "0"
            ]
          },
          "metadata": {},
          "execution_count": 18
        }
      ]
    },
    {
      "cell_type": "code",
      "source": [
        "CCScore.sort()\n",
        "CCScore.reverse()\n",
        "CCScore"
      ],
      "metadata": {
        "colab": {
          "base_uri": "https://localhost:8080/"
        },
        "id": "MDwpi19GvztU",
        "outputId": "21eb8937-4f94-46e4-8d91-92066f46377c"
      },
      "execution_count": 22,
      "outputs": [
        {
          "output_type": "execute_result",
          "data": {
            "text/plain": [
              "[29.32, 29, 29, 29, 28, 27.5, 27, 27, 25, 24, 20]"
            ]
          },
          "metadata": {},
          "execution_count": 22
        }
      ]
    },
    {
      "cell_type": "code",
      "source": [
        "liblists.count('math')"
      ],
      "metadata": {
        "id": "_b4qnGPKEvzv",
        "colab": {
          "base_uri": "https://localhost:8080/"
        },
        "outputId": "60740d9d-7748-478b-ab0b-23eb5fdbddce"
      },
      "execution_count": null,
      "outputs": [
        {
          "output_type": "execute_result",
          "data": {
            "text/plain": [
              "1"
            ]
          },
          "metadata": {},
          "execution_count": 32
        }
      ]
    },
    {
      "cell_type": "code",
      "source": [
        "liblists.count('statistics')"
      ],
      "metadata": {
        "id": "L6wkIgtsFAx6",
        "colab": {
          "base_uri": "https://localhost:8080/"
        },
        "outputId": "e0a36cf2-9693-48d2-906b-d5617b2d2819"
      },
      "execution_count": null,
      "outputs": [
        {
          "output_type": "execute_result",
          "data": {
            "text/plain": [
              "1"
            ]
          },
          "metadata": {},
          "execution_count": 33
        }
      ]
    },
    {
      "cell_type": "code",
      "source": [
        "print(CCScore.count(29))"
      ],
      "metadata": {
        "id": "-A3GBufsFxM8",
        "colab": {
          "base_uri": "https://localhost:8080/"
        },
        "outputId": "6b1a5b3a-b404-4760-d3f7-714cd25eba85"
      },
      "execution_count": null,
      "outputs": [
        {
          "output_type": "stream",
          "name": "stdout",
          "text": [
            "3\n"
          ]
        }
      ]
    },
    {
      "cell_type": "code",
      "source": [
        "CCScore.sort()\n",
        "print(CCScore)"
      ],
      "metadata": {
        "id": "CAr6RyqGFPxM",
        "colab": {
          "base_uri": "https://localhost:8080/"
        },
        "outputId": "ade45efd-97cf-4599-87f5-9205661099c6"
      },
      "execution_count": null,
      "outputs": [
        {
          "output_type": "stream",
          "name": "stdout",
          "text": [
            "[20, 24, 25, 27, 27, 27.5, 28, 29, 29, 29, 29.32]\n"
          ]
        }
      ]
    },
    {
      "cell_type": "code",
      "source": [
        "CCScore.reverse()\n",
        "print(CCScore)"
      ],
      "metadata": {
        "id": "31UJAdOIFPWf",
        "colab": {
          "base_uri": "https://localhost:8080/"
        },
        "outputId": "c4ed8fd7-63c8-481f-e86b-43be54541008"
      },
      "execution_count": null,
      "outputs": [
        {
          "output_type": "stream",
          "name": "stdout",
          "text": [
            "[29.32, 29, 29, 29, 28, 27.5, 27, 27, 25, 24, 20]\n"
          ]
        }
      ]
    },
    {
      "cell_type": "code",
      "source": [
        "liblists.clear()\n",
        "print(liblists)"
      ],
      "metadata": {
        "id": "B1sgPo4gFmys",
        "colab": {
          "base_uri": "https://localhost:8080/"
        },
        "outputId": "d8806136-c24f-4f06-c8b8-d2367632ed73"
      },
      "execution_count": null,
      "outputs": [
        {
          "output_type": "stream",
          "name": "stdout",
          "text": [
            "[]\n"
          ]
        }
      ]
    },
    {
      "cell_type": "markdown",
      "metadata": {
        "id": "MaktmAHHYs12"
      },
      "source": [
        "## 1.7.2 อาร์เรย์และเมทริกซ์\n",
        "\n",
        "โครงสร้างข้อมูลประเภทอาร์เรย์และเมทริกซ์จะถูกจัดเก็บและเรียกใช้ภายใต้ไลบรารี numpy ภายในไลบรารีนี้มีฟังก์ชันมากกว่า 500 ฟังก์ชัน\n",
        "กรณีต้องการเก็บค่าข้อมูลแบบอาร์เรย์หรือเมทริกซ์สามารถใช้คำสั่ง `numpy.array`\n",
        "หรือ `np.array` หากตั้งเรียกชื่อไลบรารี `numpy` เป็น `np`\n",
        "\n",
        "ถ้ากำหนดให้ $A=[a_{ij}]_{m\\times n}$ เป็นเมทริกซ์ แล้ว คำสั่งในการสร้างเมทริกซ์ดังกล่าวคือ\n",
        "```\n",
        "A=numpy.array([[a11,a12,a13,...,a1n],[a21,a22,a23,...,a2n],...,[am1,am2,am3,...,amn]])\n",
        "```\n",
        "\n",
        "**หมายเหตุ:** ตัวแปร `A` ที่ประกาศแบบข้างต้นจะเป็นตัวแปรแบบเอเรย์ `n` มิติ (ndarrays)"
      ]
    },
    {
      "cell_type": "markdown",
      "metadata": {
        "id": "zi4BnNk9bOOW"
      },
      "source": [
        "**ตัวอย่าง 1.7.4**\n",
        "จงสร้างเมทริกซ์ที่กำหนดให้ต่อไปนี้"
      ]
    },
    {
      "cell_type": "markdown",
      "metadata": {
        "id": "eC8w_LbLbSHa"
      },
      "source": [
        "(1) เมทริกซ์ $x$ ที่ไม่มีทั้งสมาชิกและขนาด"
      ]
    },
    {
      "cell_type": "code",
      "execution_count": 24,
      "metadata": {
        "id": "TyVOBjBjCx6g",
        "colab": {
          "base_uri": "https://localhost:8080/"
        },
        "outputId": "5cdfec23-172a-4bcb-d1cf-ce470918b9f9"
      },
      "outputs": [
        {
          "output_type": "stream",
          "name": "stdout",
          "text": [
            "[]\n"
          ]
        }
      ],
      "source": [
        "import numpy as np\n",
        "x=np.array([])\n",
        "print(x)"
      ]
    },
    {
      "cell_type": "code",
      "source": [
        "import numpy as np\n",
        "x = np.array([6,9,4,2,0])\n",
        "x"
      ],
      "metadata": {
        "colab": {
          "base_uri": "https://localhost:8080/"
        },
        "id": "S4g0g3niwwzW",
        "outputId": "8001f141-484d-4870-f2c3-b715ec9159db"
      },
      "execution_count": 23,
      "outputs": [
        {
          "output_type": "execute_result",
          "data": {
            "text/plain": [
              "array([6, 9, 4, 2, 0])"
            ]
          },
          "metadata": {},
          "execution_count": 23
        }
      ]
    },
    {
      "cell_type": "markdown",
      "metadata": {
        "id": "G92yZ9ZNcCGA"
      },
      "source": [
        "(2) เมทริกซ์แถว $y=\n",
        "\\begin{bmatrix}\n",
        "  -1 & 0 & -3 & 2\n",
        "\\end{bmatrix}$"
      ]
    },
    {
      "cell_type": "code",
      "execution_count": 26,
      "metadata": {
        "id": "u6p5HyzEcMwR",
        "colab": {
          "base_uri": "https://localhost:8080/"
        },
        "outputId": "2d9bf7ef-b3cd-4e39-cec4-e72044c9af48"
      },
      "outputs": [
        {
          "output_type": "stream",
          "name": "stdout",
          "text": [
            "[-1  0 -3  2]\n"
          ]
        }
      ],
      "source": [
        "y=np.array([-1,0,-3,2])\n",
        "print(y)"
      ]
    },
    {
      "cell_type": "markdown",
      "metadata": {
        "id": "bI2_7FnncOx5"
      },
      "source": [
        "(3) เมทริกซ์หลัก $z=\n",
        "\\begin{bmatrix}\n",
        "  -1 \\\\ 0\\\\ -3\\\\ 2\n",
        "\\end{bmatrix}$"
      ]
    },
    {
      "cell_type": "code",
      "source": [
        "z = np.array([[-1],[0],[-3],[2]])\n",
        "z"
      ],
      "metadata": {
        "colab": {
          "base_uri": "https://localhost:8080/"
        },
        "id": "wEcDbf8gxAUW",
        "outputId": "0c94b485-ff32-4a5b-9276-985ffc1f3124"
      },
      "execution_count": 30,
      "outputs": [
        {
          "output_type": "execute_result",
          "data": {
            "text/plain": [
              "array([[-1],\n",
              "       [ 0],\n",
              "       [-3],\n",
              "       [ 2]])"
            ]
          },
          "metadata": {},
          "execution_count": 30
        }
      ]
    },
    {
      "cell_type": "code",
      "execution_count": 27,
      "metadata": {
        "id": "BgVnPtegcON7",
        "colab": {
          "base_uri": "https://localhost:8080/"
        },
        "outputId": "b77626bd-820a-4740-dcee-2ef5d01ebe37"
      },
      "outputs": [
        {
          "output_type": "stream",
          "name": "stdout",
          "text": [
            "[[-1]\n",
            " [ 0]\n",
            " [-3]\n",
            " [ 2]]\n"
          ]
        }
      ],
      "source": [
        "z=np.array([[-1],[0],[-3],[2]])\n",
        "print(z)"
      ]
    },
    {
      "cell_type": "markdown",
      "metadata": {
        "id": "Uyaf9BwjcNhH"
      },
      "source": [
        "(4) เมทริกซ์ $A=\n",
        "\\begin{bmatrix}\n",
        "  -1 & -2 & 3\\\\\n",
        "   0 & 0.1& 8\\\\\n",
        "  -3 & 4& 2\\\\\n",
        "   2 & -0.05& 9\n",
        "\\end{bmatrix}$"
      ]
    },
    {
      "cell_type": "code",
      "execution_count": 31,
      "metadata": {
        "id": "iQQ_PVShcPK-",
        "colab": {
          "base_uri": "https://localhost:8080/"
        },
        "outputId": "67243626-7912-42ee-febe-b35d9f582daf"
      },
      "outputs": [
        {
          "output_type": "stream",
          "name": "stdout",
          "text": [
            "[[-1.   -2.    3.  ]\n",
            " [ 0.    0.1   8.  ]\n",
            " [-3.    4.    2.  ]\n",
            " [ 2.   -0.05  9.  ]]\n"
          ]
        }
      ],
      "source": [
        "A=np.array([[-1,-2,3],[0,0.1,8],[-3,4,2],[2,-0.05,9]])\n",
        "print(A)"
      ]
    },
    {
      "cell_type": "markdown",
      "metadata": {
        "id": "85546weRjTrr"
      },
      "source": [
        "### ฟังก์ชันของเมทริกซ์ที่มีสมบัติเฉพาะ\n",
        "นอกจากนี้ ในภาษาไพทอนได้มีการสร้างฟังก์ชันสำหรับเมทริกซ์ที่มีลักษณะเฉพาะต่างๆ ที่ถูกนำมาใช้ในการคำนวณบ่อย ดังนี้\n",
        "- `numpy.zeros([m,n])` เป็นคำสั่งสำหรับสร้างเมทริกซ์ศูนย์ขนาด $m\\times n$\n",
        "- `numpy.eye(m,n)` เป็นคำสั่งสำหรับสร้างเมทริกซ์เอกลักษณ์ขนาด $m\\times n$\n",
        "- `numpy.ones([m,n])` เป็นคำสั่งสร้างเมทริกซ์ขนาด $m\\times n$ ที่มีสมาชิกทั้งหมดเท่ากับ 1\n",
        "- `numpy.diag(v)` เป็นคำสั่งหรับสร้างเมริกซ์แยงมุมที่สมาชิกในแนวทแยงมุมคือสมาชิกในลิสต์ $v$"
      ]
    },
    {
      "cell_type": "markdown",
      "metadata": {
        "id": "AttdgR6Kktzx"
      },
      "source": [
        "**ตัวอย่าง 1.7.5**\n",
        "จงเขียนคำสั่งภาษาไพทอนเพื่อสร้างเมทริกซ์ดังต่อไปนี้\n",
        "1. เมทริกซ์ $B$ ที่เป็นเมทริกซ์ศูนย์ที่มีขนาด $3\\times 4$\n",
        "2. เมทริกซ์เอกลักษณ์ $C$ ที่มีขนาด $4\\times 4$\n",
        "3. เมทริกซ์ $D$ ที่มีขนาด $3\\times 4$ ที่มีสมาชิกทั้งหมดเป็น $1$\n",
        "4. เมทริกซ์ทแยงมุม\n",
        "$\n",
        "E=\\begin{bmatrix}\n",
        "-1 & 0 & 0\\\\\n",
        "0& 0.5& 0\\\\\n",
        "0& 0& 4\n",
        "\\end{bmatrix}\n",
        "$"
      ]
    },
    {
      "cell_type": "code",
      "source": [
        "B = np.zeros([3,4])\n",
        "B"
      ],
      "metadata": {
        "colab": {
          "base_uri": "https://localhost:8080/"
        },
        "id": "xBsaCTdnxiIt",
        "outputId": "ac485934-53a9-455e-bcaa-1cbd68d0ebc9"
      },
      "execution_count": 32,
      "outputs": [
        {
          "output_type": "execute_result",
          "data": {
            "text/plain": [
              "array([[0., 0., 0., 0.],\n",
              "       [0., 0., 0., 0.],\n",
              "       [0., 0., 0., 0.]])"
            ]
          },
          "metadata": {},
          "execution_count": 32
        }
      ]
    },
    {
      "cell_type": "code",
      "source": [
        "C = np.eye(4,4)\n",
        "C"
      ],
      "metadata": {
        "colab": {
          "base_uri": "https://localhost:8080/"
        },
        "id": "gfTUWdhH3K7Q",
        "outputId": "6070befc-2e27-47ba-ed09-71ee6b2c6dc2"
      },
      "execution_count": 34,
      "outputs": [
        {
          "output_type": "execute_result",
          "data": {
            "text/plain": [
              "array([[1., 0., 0., 0.],\n",
              "       [0., 1., 0., 0.],\n",
              "       [0., 0., 1., 0.],\n",
              "       [0., 0., 0., 1.]])"
            ]
          },
          "metadata": {},
          "execution_count": 34
        }
      ]
    },
    {
      "cell_type": "code",
      "source": [
        "D = np.ones([4,4])\n",
        "D"
      ],
      "metadata": {
        "colab": {
          "base_uri": "https://localhost:8080/"
        },
        "id": "rwk80dDU3x4M",
        "outputId": "6349ec18-647c-4acd-a457-a5e867cd4681"
      },
      "execution_count": 39,
      "outputs": [
        {
          "output_type": "execute_result",
          "data": {
            "text/plain": [
              "array([[1., 1., 1., 1.],\n",
              "       [1., 1., 1., 1.],\n",
              "       [1., 1., 1., 1.],\n",
              "       [1., 1., 1., 1.]])"
            ]
          },
          "metadata": {},
          "execution_count": 39
        }
      ]
    },
    {
      "cell_type": "code",
      "source": [
        "E = np.diag([1,2,3,4,5])\n",
        "E"
      ],
      "metadata": {
        "colab": {
          "base_uri": "https://localhost:8080/"
        },
        "id": "qVgtAwrH4EoW",
        "outputId": "9253d006-6bc5-40dc-e32d-ac8c1b6737db"
      },
      "execution_count": 38,
      "outputs": [
        {
          "output_type": "execute_result",
          "data": {
            "text/plain": [
              "array([[1, 0, 0, 0, 0],\n",
              "       [0, 2, 0, 0, 0],\n",
              "       [0, 0, 3, 0, 0],\n",
              "       [0, 0, 0, 4, 0],\n",
              "       [0, 0, 0, 0, 5]])"
            ]
          },
          "metadata": {},
          "execution_count": 38
        }
      ]
    },
    {
      "cell_type": "code",
      "source": [
        "import numpy as np\n",
        "B=np.zeros([3,4])\n",
        "print(B)"
      ],
      "metadata": {
        "id": "nrYxdsY3YcGQ",
        "colab": {
          "base_uri": "https://localhost:8080/"
        },
        "outputId": "01f8804e-dd04-4501-ed70-8526cf00ee34"
      },
      "execution_count": 40,
      "outputs": [
        {
          "output_type": "stream",
          "name": "stdout",
          "text": [
            "[[0. 0. 0. 0.]\n",
            " [0. 0. 0. 0.]\n",
            " [0. 0. 0. 0.]]\n"
          ]
        }
      ]
    },
    {
      "cell_type": "code",
      "source": [
        "C=np.eye(4,4)\n",
        "print(C)\n"
      ],
      "metadata": {
        "id": "h0eaTjoYZ-i1",
        "colab": {
          "base_uri": "https://localhost:8080/"
        },
        "outputId": "c909d447-7993-4863-f15e-690ff63d3a44"
      },
      "execution_count": 41,
      "outputs": [
        {
          "output_type": "stream",
          "name": "stdout",
          "text": [
            "[[1. 0. 0. 0.]\n",
            " [0. 1. 0. 0.]\n",
            " [0. 0. 1. 0.]\n",
            " [0. 0. 0. 1.]]\n"
          ]
        }
      ]
    },
    {
      "cell_type": "code",
      "source": [
        "D=np.ones([4,4])\n",
        "print(D)"
      ],
      "metadata": {
        "id": "K0QLO73maAgH",
        "colab": {
          "base_uri": "https://localhost:8080/"
        },
        "outputId": "14d20572-3b66-4d5d-80f3-015824762172"
      },
      "execution_count": 42,
      "outputs": [
        {
          "output_type": "stream",
          "name": "stdout",
          "text": [
            "[[1. 1. 1. 1.]\n",
            " [1. 1. 1. 1.]\n",
            " [1. 1. 1. 1.]\n",
            " [1. 1. 1. 1.]]\n"
          ]
        }
      ]
    },
    {
      "cell_type": "code",
      "source": [
        "E=np.diag([-1,0.5,4])\n",
        "print(E)"
      ],
      "metadata": {
        "id": "3PafRR7laB9u",
        "colab": {
          "base_uri": "https://localhost:8080/"
        },
        "outputId": "47f725bb-60f4-44f7-e613-9c6451930f86"
      },
      "execution_count": 43,
      "outputs": [
        {
          "output_type": "stream",
          "name": "stdout",
          "text": [
            "[[-1.   0.   0. ]\n",
            " [ 0.   0.5  0. ]\n",
            " [ 0.   0.   4. ]]\n"
          ]
        }
      ]
    },
    {
      "cell_type": "markdown",
      "metadata": {
        "id": "FX_D8EHdkdEt"
      },
      "source": [
        "### การดำเนินการเกี่ยวกับอาร์เรย์และเมทริกซ์\n",
        "ตัวดำเนินการทางคณิตศาสตร์ที่สำคัญเกี่ยวกับอาร์เรย์และเมทริกซ์แสดงดังตารางต่อไปนี้\n",
        "\n",
        "| ตัวดำเนินการ            | สัญลักษณ์ |\n",
        "|-----------------------|--------|\n",
        "| การบวก                | +      |\n",
        "| การลบ                 | -      |\n",
        "| การคูณ                 | @      |\n",
        "| การคูณสมาชิกต่อสมาชิก     | *      |\n",
        "| การยกกำลังของแต่ละสมาชิก | **     |\n",
        "| การหารสมาชิกต่อสมาชิก    | /      |"
      ]
    },
    {
      "cell_type": "markdown",
      "metadata": {
        "id": "T22aKXGfkiAN"
      },
      "source": [
        "**ตัวอย่าง 1.7.6**\n",
        "กำหนดให้\n",
        "\n",
        "$A=\\begin{bmatrix}\n",
        "2&2&2&2\\\\\n",
        "2&2&2&2\\\\\n",
        "2&2&2&2\\\\\n",
        "2&2&2&2\n",
        "\\end{bmatrix}$ และ\n",
        "$B=\\begin{bmatrix}\n",
        "5&4&3&2\\\\\n",
        "2&3&4&5\\\\\n",
        "1&-1&1&-1\\\\\n",
        "4&4&4&4\n",
        "\\end{bmatrix}$\n"
      ]
    },
    {
      "cell_type": "code",
      "source": [
        "import numpy as np\n",
        "A=2*np.ones([4,4])\n",
        "B=np.array([[5,4,3,2],[2,3,4,5],[1,-1,1,-1],[4,4,4,4]])"
      ],
      "metadata": {
        "id": "46paPUL7aJdC"
      },
      "execution_count": 44,
      "outputs": []
    },
    {
      "cell_type": "code",
      "source": [
        "A"
      ],
      "metadata": {
        "colab": {
          "base_uri": "https://localhost:8080/"
        },
        "id": "DtBkqPNI4-nV",
        "outputId": "b805fa3f-1ce8-4a73-f118-67819dd0aa2f"
      },
      "execution_count": 45,
      "outputs": [
        {
          "output_type": "execute_result",
          "data": {
            "text/plain": [
              "array([[2., 2., 2., 2.],\n",
              "       [2., 2., 2., 2.],\n",
              "       [2., 2., 2., 2.],\n",
              "       [2., 2., 2., 2.]])"
            ]
          },
          "metadata": {},
          "execution_count": 45
        }
      ]
    },
    {
      "cell_type": "code",
      "source": [
        "B"
      ],
      "metadata": {
        "colab": {
          "base_uri": "https://localhost:8080/"
        },
        "id": "MFAy2gkp4_82",
        "outputId": "3ecb579e-f424-4ab5-b1a2-5fc63f321c87"
      },
      "execution_count": 46,
      "outputs": [
        {
          "output_type": "execute_result",
          "data": {
            "text/plain": [
              "array([[ 5,  4,  3,  2],\n",
              "       [ 2,  3,  4,  5],\n",
              "       [ 1, -1,  1, -1],\n",
              "       [ 4,  4,  4,  4]])"
            ]
          },
          "metadata": {},
          "execution_count": 46
        }
      ]
    },
    {
      "cell_type": "markdown",
      "source": [
        "จงบอกคำสั่งเพื่อหาค่าของ\n",
        "1. $A+B$\n",
        "2. $A-B$\n",
        "3. $AB$\n",
        "4. $A^4$\n",
        "5. $C=[a_{ij}b_{ij}]_{4\\times 4}$\n",
        "6. $D=\\left[\\frac{a_{ij}}{b_{ij}}\\right]_{4\\times 4}$ เมื่อ $a_{ij}\\in A$ และ $b_{ij}\\neq 0\\in B$"
      ],
      "metadata": {
        "id": "tEkixFGOaKUk"
      }
    },
    {
      "cell_type": "code",
      "source": [
        "A+B"
      ],
      "metadata": {
        "colab": {
          "base_uri": "https://localhost:8080/"
        },
        "id": "zLTRSZso5JG1",
        "outputId": "e6eef4c7-cfd0-42fb-e6f2-27c54b8318f9"
      },
      "execution_count": 47,
      "outputs": [
        {
          "output_type": "execute_result",
          "data": {
            "text/plain": [
              "array([[7., 6., 5., 4.],\n",
              "       [4., 5., 6., 7.],\n",
              "       [3., 1., 3., 1.],\n",
              "       [6., 6., 6., 6.]])"
            ]
          },
          "metadata": {},
          "execution_count": 47
        }
      ]
    },
    {
      "cell_type": "code",
      "source": [
        "A-B"
      ],
      "metadata": {
        "colab": {
          "base_uri": "https://localhost:8080/"
        },
        "id": "ztbkOXzV5MDw",
        "outputId": "e7f036e1-34c0-480d-d8c9-a2ec5654f4a1"
      },
      "execution_count": 48,
      "outputs": [
        {
          "output_type": "execute_result",
          "data": {
            "text/plain": [
              "array([[-3., -2., -1.,  0.],\n",
              "       [ 0., -1., -2., -3.],\n",
              "       [ 1.,  3.,  1.,  3.],\n",
              "       [-2., -2., -2., -2.]])"
            ]
          },
          "metadata": {},
          "execution_count": 48
        }
      ]
    },
    {
      "cell_type": "code",
      "source": [
        "A@B"
      ],
      "metadata": {
        "colab": {
          "base_uri": "https://localhost:8080/"
        },
        "id": "7L7wbn5N5NP4",
        "outputId": "3a3269d3-43ab-483f-c76a-416fc9104fa4"
      },
      "execution_count": 49,
      "outputs": [
        {
          "output_type": "execute_result",
          "data": {
            "text/plain": [
              "array([[24., 20., 24., 20.],\n",
              "       [24., 20., 24., 20.],\n",
              "       [24., 20., 24., 20.],\n",
              "       [24., 20., 24., 20.]])"
            ]
          },
          "metadata": {},
          "execution_count": 49
        }
      ]
    },
    {
      "cell_type": "code",
      "source": [
        "A@A@A@A"
      ],
      "metadata": {
        "colab": {
          "base_uri": "https://localhost:8080/"
        },
        "id": "_DQTxbIh5R4c",
        "outputId": "d6c30624-d284-4820-ccdc-081691a7e7c8"
      },
      "execution_count": 50,
      "outputs": [
        {
          "output_type": "execute_result",
          "data": {
            "text/plain": [
              "array([[1024., 1024., 1024., 1024.],\n",
              "       [1024., 1024., 1024., 1024.],\n",
              "       [1024., 1024., 1024., 1024.],\n",
              "       [1024., 1024., 1024., 1024.]])"
            ]
          },
          "metadata": {},
          "execution_count": 50
        }
      ]
    },
    {
      "cell_type": "code",
      "source": [
        "A*B"
      ],
      "metadata": {
        "colab": {
          "base_uri": "https://localhost:8080/"
        },
        "id": "Orkcjv9D5W2E",
        "outputId": "2c28fe45-c963-4079-ff9f-624cb4e234f0"
      },
      "execution_count": 51,
      "outputs": [
        {
          "output_type": "execute_result",
          "data": {
            "text/plain": [
              "array([[10.,  8.,  6.,  4.],\n",
              "       [ 4.,  6.,  8., 10.],\n",
              "       [ 2., -2.,  2., -2.],\n",
              "       [ 8.,  8.,  8.,  8.]])"
            ]
          },
          "metadata": {},
          "execution_count": 51
        }
      ]
    },
    {
      "cell_type": "code",
      "source": [
        "A/B"
      ],
      "metadata": {
        "colab": {
          "base_uri": "https://localhost:8080/"
        },
        "id": "2jlL4eEw5cHL",
        "outputId": "55802ae2-d72e-45be-b7d6-ee4dbbf0cec3"
      },
      "execution_count": 52,
      "outputs": [
        {
          "output_type": "execute_result",
          "data": {
            "text/plain": [
              "array([[ 0.4       ,  0.5       ,  0.66666667,  1.        ],\n",
              "       [ 1.        ,  0.66666667,  0.5       ,  0.4       ],\n",
              "       [ 2.        , -2.        ,  2.        , -2.        ],\n",
              "       [ 0.5       ,  0.5       ,  0.5       ,  0.5       ]])"
            ]
          },
          "metadata": {},
          "execution_count": 52
        }
      ]
    },
    {
      "cell_type": "code",
      "execution_count": 54,
      "metadata": {
        "id": "1ts-_-OulYAl",
        "colab": {
          "base_uri": "https://localhost:8080/"
        },
        "outputId": "7872d383-f383-4752-d943-783b18c99746"
      },
      "outputs": [
        {
          "output_type": "stream",
          "name": "stdout",
          "text": [
            "[[7. 6. 5. 4.]\n",
            " [4. 5. 6. 7.]\n",
            " [3. 1. 3. 1.]\n",
            " [6. 6. 6. 6.]]\n"
          ]
        }
      ],
      "source": [
        "print(A+B)"
      ]
    },
    {
      "cell_type": "code",
      "source": [
        "print(A-B)"
      ],
      "metadata": {
        "id": "o7--jUhMavBC",
        "colab": {
          "base_uri": "https://localhost:8080/"
        },
        "outputId": "5c041c11-4e3a-41e1-e40e-ff20d58960d4"
      },
      "execution_count": 55,
      "outputs": [
        {
          "output_type": "stream",
          "name": "stdout",
          "text": [
            "[[-3. -2. -1.  0.]\n",
            " [ 0. -1. -2. -3.]\n",
            " [ 1.  3.  1.  3.]\n",
            " [-2. -2. -2. -2.]]\n"
          ]
        }
      ]
    },
    {
      "cell_type": "code",
      "source": [
        "print(A@B)"
      ],
      "metadata": {
        "id": "yIBx72Pyawfx",
        "colab": {
          "base_uri": "https://localhost:8080/"
        },
        "outputId": "df7120c7-1997-415e-c5cd-f5eab2c760c4"
      },
      "execution_count": 56,
      "outputs": [
        {
          "output_type": "stream",
          "name": "stdout",
          "text": [
            "[[24. 20. 24. 20.]\n",
            " [24. 20. 24. 20.]\n",
            " [24. 20. 24. 20.]\n",
            " [24. 20. 24. 20.]]\n"
          ]
        }
      ]
    },
    {
      "cell_type": "code",
      "source": [
        "print(A@A@A@A)"
      ],
      "metadata": {
        "id": "UYQeD17haziW",
        "colab": {
          "base_uri": "https://localhost:8080/"
        },
        "outputId": "d3d4066a-2124-4a67-f73c-4a8d10c0bb18"
      },
      "execution_count": 57,
      "outputs": [
        {
          "output_type": "stream",
          "name": "stdout",
          "text": [
            "[[1024. 1024. 1024. 1024.]\n",
            " [1024. 1024. 1024. 1024.]\n",
            " [1024. 1024. 1024. 1024.]\n",
            " [1024. 1024. 1024. 1024.]]\n"
          ]
        }
      ]
    },
    {
      "cell_type": "code",
      "source": [
        "#ทดลองเปรียบเทียบกับการดำเนินการ **\n",
        "print(A**4)"
      ],
      "metadata": {
        "id": "Qyye0D7Qksu3",
        "colab": {
          "base_uri": "https://localhost:8080/"
        },
        "outputId": "de367e6a-10f2-4b2d-a0a5-0be7fccb49e2"
      },
      "execution_count": 58,
      "outputs": [
        {
          "output_type": "stream",
          "name": "stdout",
          "text": [
            "[[16. 16. 16. 16.]\n",
            " [16. 16. 16. 16.]\n",
            " [16. 16. 16. 16.]\n",
            " [16. 16. 16. 16.]]\n"
          ]
        }
      ]
    },
    {
      "cell_type": "code",
      "source": [
        "C=A*B\n",
        "print(C)"
      ],
      "metadata": {
        "id": "q5XO8QfMa5HH",
        "colab": {
          "base_uri": "https://localhost:8080/"
        },
        "outputId": "90a0de34-4f19-4ef8-c3ae-a01cbc3eb2e1"
      },
      "execution_count": 59,
      "outputs": [
        {
          "output_type": "stream",
          "name": "stdout",
          "text": [
            "[[10.  8.  6.  4.]\n",
            " [ 4.  6.  8. 10.]\n",
            " [ 2. -2.  2. -2.]\n",
            " [ 8.  8.  8.  8.]]\n"
          ]
        }
      ]
    },
    {
      "cell_type": "code",
      "source": [
        "D=A/B\n",
        "print(D)"
      ],
      "metadata": {
        "id": "3pM9qkiTa-pP",
        "colab": {
          "base_uri": "https://localhost:8080/"
        },
        "outputId": "d674ae27-c983-4b39-9dcb-b0e70d609bd7"
      },
      "execution_count": 60,
      "outputs": [
        {
          "output_type": "stream",
          "name": "stdout",
          "text": [
            "[[ 0.4         0.5         0.66666667  1.        ]\n",
            " [ 1.          0.66666667  0.5         0.4       ]\n",
            " [ 2.         -2.          2.         -2.        ]\n",
            " [ 0.5         0.5         0.5         0.5       ]]\n"
          ]
        }
      ]
    },
    {
      "cell_type": "markdown",
      "metadata": {
        "id": "RVzD1RsGlWvE"
      },
      "source": [
        "## 1.7.3 การอ้างอิงสมาชิกในอาร์เรย์หรือเมทริกซ์และการนำไปใช้\n",
        "\n",
        "กำหนดให้ `v`เป็นอาร์เรย์ 1 มิติใดๆ จะได้ว่า\n",
        "* `v[0]`เป็นการอ้างอิงสมาชิกของ v ในลำดับที่ $1$\n",
        "* `v[-1]`เป็นการอ้างอิงสมาชิกของ v ในลำดับสุดท้าย\n",
        "* `v[k]`เป็นการอ้างอิงสมาชิกของ v ที่ดัชนีที่ $k$ (ลำดับที่ k+1)\n",
        "* `v[r1:r2:a]` อ้างอิงสมาชิกของ v ในลำดับที่กำหนดโดยดัชนี 𝑟1 ถึง 𝑟2-1 โดยเว้นระยะห่าง 𝑎\n",
        "* `v[k]=a` แทนค่าข้อมูลที่ $k$ ด้วย $a$\n",
        "\n",
        "กำหนดให้ `A`เป็นอาร์เรย์ 2 มิติใดๆ จะได้ว่า\n",
        "\n",
        "* `A[r,c]` อ้างอิงสมาชิกแถวที่ $r-1$ หลักที่ $c-1$ ของ A\n",
        "* `A[r,:]` หรือ `A[r]` อ้างอิงสมาชิกแถวที่ $r-1$ ทั้งแถวของ A\n",
        "* `A[:,c]` อ้างอิงสมาชิกในหลักที่ $c-1$ ทั้งหมด\n",
        "* `A[r1:r2,:]` หรือ `A[r1:r2]` อ้างอิงสมาชิกแถวที่ $r1$ ถึง $r2-1$ ทั้งหมดของ `A`\n",
        "* `A[:,c1:c2]` อ้างอิงสมาชิกหลักที่ $c 1$ ถึง $c 2-1$ ของ A\n",
        "* `A[r1:r2,c1:c2]` อ้างอิงสมาชิกแถวที่ $r1+1$ ถึง $r2$ และหลักที่ $c1+1$ ถึง $c2$ ของ A\n",
        "* `A[r1:r2:a,c1:c2:b]` อ้างอิงสมาชิกแถวที่ $r1+1$ ถึง $r2$ และหลักที่ $c1+1$ ถึง $c2$ ของ A โดยเว้นระยะห่างตามแถวและหลักเป็น `a` และ `b` ตามลำดับ"
      ]
    },
    {
      "cell_type": "markdown",
      "metadata": {
        "id": "hhRBiO1mlkQ3"
      },
      "source": [
        "**ตัวอย่าง 1.7.7**\n",
        "\n",
        "กำหนดให้ $$v=[0\\; 2\\; 4\\; 6\\; 8\\; 10\\; 12\\; 14\\; 16\\; 18\\; 20]$$ และ\n",
        "$$A=\n",
        "\\begin{bmatrix}\n",
        "-1& 0& 4& 3& 8& 9& -2& 8\\\\\n",
        " 2& -2& 3& 4& -5& 3& 2& 1\\\\\n",
        " 3& 4& 5& 6& -8& 9& 7& 1\\\\\n",
        " 1& -1& 2& 3& 2& 1& 1& 0\\\\\n",
        " 0& 1& 0& 2& -3& 4& 8& 0.1\n",
        "\\end{bmatrix}$$\n",
        "ดังคำสั่งต่อไปนี้"
      ]
    },
    {
      "cell_type": "code",
      "source": [
        "import numpy as np\n",
        "v=np.array([0,2,4,6,8,10,12,14,16,18,20])\n",
        "A=np.array([[-1,0,4,3,8,9,-2,8],[2,-2,3,4,-5,3,2,1],[3,4,5,6,-8,9,7,1],[1,-1,2,3,2,1,1,0],[0,1,0,2,-3,4,8,0.1]])"
      ],
      "metadata": {
        "id": "sPk0-3AyVghM"
      },
      "execution_count": 62,
      "outputs": []
    },
    {
      "cell_type": "code",
      "source": [
        "v"
      ],
      "metadata": {
        "colab": {
          "base_uri": "https://localhost:8080/"
        },
        "id": "-8I-1aYC7apK",
        "outputId": "06da505d-b320-4672-d8fa-2ad8bbe4d172"
      },
      "execution_count": 64,
      "outputs": [
        {
          "output_type": "execute_result",
          "data": {
            "text/plain": [
              "array([ 0,  2,  4,  6,  8, 10, 12, 14, 16, 18, 20])"
            ]
          },
          "metadata": {},
          "execution_count": 64
        }
      ]
    },
    {
      "cell_type": "code",
      "source": [
        "A"
      ],
      "metadata": {
        "colab": {
          "base_uri": "https://localhost:8080/"
        },
        "id": "y0b9UEpB7bWo",
        "outputId": "cf406c5e-1bd1-4b6e-9a0e-74f9a70fb0ff"
      },
      "execution_count": 65,
      "outputs": [
        {
          "output_type": "execute_result",
          "data": {
            "text/plain": [
              "array([[-1. ,  0. ,  4. ,  3. ,  8. ,  9. , -2. ,  8. ],\n",
              "       [ 2. , -2. ,  3. ,  4. , -5. ,  3. ,  2. ,  1. ],\n",
              "       [ 3. ,  4. ,  5. ,  6. , -8. ,  9. ,  7. ,  1. ],\n",
              "       [ 1. , -1. ,  2. ,  3. ,  2. ,  1. ,  1. ,  0. ],\n",
              "       [ 0. ,  1. ,  0. ,  2. , -3. ,  4. ,  8. ,  0.1]])"
            ]
          },
          "metadata": {},
          "execution_count": 65
        }
      ]
    },
    {
      "cell_type": "markdown",
      "metadata": {
        "id": "0b9A3gwrtqqG"
      },
      "source": [
        "จงบอกคำสั่งที่ทำให้ได้ผลลัพธ์ต่อไปนี้"
      ]
    },
    {
      "cell_type": "markdown",
      "metadata": {
        "id": "a8vjq9AatbLv"
      },
      "source": [
        "(1) อ้างอิงสมาชิกตัวแรกของ $v$"
      ]
    },
    {
      "cell_type": "code",
      "execution_count": 63,
      "metadata": {
        "id": "EaU6YIGstaW5",
        "colab": {
          "base_uri": "https://localhost:8080/"
        },
        "outputId": "6005f6a7-6b03-4e8c-96a2-013b53dfec3c"
      },
      "outputs": [
        {
          "output_type": "stream",
          "name": "stdout",
          "text": [
            "0\n"
          ]
        }
      ],
      "source": [
        "print(v[0])"
      ]
    },
    {
      "cell_type": "markdown",
      "metadata": {
        "id": "C-p0av2xtjvZ"
      },
      "source": [
        "(2) อ้างอิงสมาชิกตัวสุดท้ายของ $v$"
      ]
    },
    {
      "cell_type": "code",
      "execution_count": 66,
      "metadata": {
        "id": "XlyZrJR0t708",
        "colab": {
          "base_uri": "https://localhost:8080/"
        },
        "outputId": "cfbc7130-db27-421b-ce63-27aa24a528e6"
      },
      "outputs": [
        {
          "output_type": "stream",
          "name": "stdout",
          "text": [
            "20\n",
            "20\n"
          ]
        }
      ],
      "source": [
        "print(v[-1])\n",
        "# หรือ\n",
        "print(v[10])"
      ]
    },
    {
      "cell_type": "markdown",
      "metadata": {
        "id": "_FCo4GJYt8eN"
      },
      "source": [
        "(3) สร้างเวกเตอร์ $x=[0~2~4~6~8~10~12~14]$ จาก $v$"
      ]
    },
    {
      "cell_type": "code",
      "source": [
        "x = v[:8]\n",
        "x"
      ],
      "metadata": {
        "colab": {
          "base_uri": "https://localhost:8080/"
        },
        "id": "Rfrr1SKP7u6T",
        "outputId": "0ab5fe7b-a00c-4879-d5c0-aa60893804ca"
      },
      "execution_count": 69,
      "outputs": [
        {
          "output_type": "execute_result",
          "data": {
            "text/plain": [
              "array([ 0,  2,  4,  6,  8, 10, 12, 14])"
            ]
          },
          "metadata": {},
          "execution_count": 69
        }
      ]
    },
    {
      "cell_type": "code",
      "execution_count": null,
      "metadata": {
        "id": "giWtFpY8uY0A",
        "colab": {
          "base_uri": "https://localhost:8080/"
        },
        "outputId": "6046658d-5db7-4bae-a937-3cef65b79e31"
      },
      "outputs": [
        {
          "output_type": "stream",
          "name": "stdout",
          "text": [
            "[ 0  2  4  6  8 10 12 14]\n"
          ]
        }
      ],
      "source": [
        "x=v[0:8]\n",
        "print(x)"
      ]
    },
    {
      "cell_type": "markdown",
      "metadata": {
        "id": "Z7OZioFQuZR9"
      },
      "source": [
        "(4) สร้างเวกเตอร์ $y=[0~4~8~12~16~20]$ จาก $v$"
      ]
    },
    {
      "cell_type": "code",
      "source": [
        "y = v[::2]\n",
        "y"
      ],
      "metadata": {
        "colab": {
          "base_uri": "https://localhost:8080/"
        },
        "id": "tYVDECNa76Jz",
        "outputId": "3f60abad-f419-482e-c9ea-0b6672f77223"
      },
      "execution_count": 74,
      "outputs": [
        {
          "output_type": "execute_result",
          "data": {
            "text/plain": [
              "array([ 0,  4,  8, 12, 16, 20])"
            ]
          },
          "metadata": {},
          "execution_count": 74
        }
      ]
    },
    {
      "cell_type": "code",
      "execution_count": null,
      "metadata": {
        "id": "unFfbqnfuaDl",
        "colab": {
          "base_uri": "https://localhost:8080/"
        },
        "outputId": "218a3d04-9984-41a0-8029-00dd027e2a54"
      },
      "outputs": [
        {
          "output_type": "stream",
          "name": "stdout",
          "text": [
            "[ 0  4  8 12 16 20]\n"
          ]
        }
      ],
      "source": [
        "y=v[0:11:2]\n",
        "print(y)"
      ]
    },
    {
      "cell_type": "markdown",
      "metadata": {
        "id": "So4EcdHhubW_"
      },
      "source": [
        "(5) สร้างเวกเตอร์ $z=[0~6~12~18]$ จาก $v$"
      ]
    },
    {
      "cell_type": "code",
      "source": [
        "z= v[::3]\n",
        "z"
      ],
      "metadata": {
        "colab": {
          "base_uri": "https://localhost:8080/"
        },
        "id": "CN_AGsJQ8SOu",
        "outputId": "8a3ee513-f8a8-4d60-e223-5d9f3a3998bd"
      },
      "execution_count": 77,
      "outputs": [
        {
          "output_type": "execute_result",
          "data": {
            "text/plain": [
              "array([ 0,  6, 12, 18])"
            ]
          },
          "metadata": {},
          "execution_count": 77
        }
      ]
    },
    {
      "cell_type": "code",
      "execution_count": null,
      "metadata": {
        "id": "1NEnMn51ubw4",
        "colab": {
          "base_uri": "https://localhost:8080/"
        },
        "outputId": "3618ef8f-b339-4ede-8511-0c1ede632b29"
      },
      "outputs": [
        {
          "output_type": "stream",
          "name": "stdout",
          "text": [
            "[ 0  6 12 18]\n"
          ]
        }
      ],
      "source": [
        "z=v[0:11:3]\n",
        "print(z)"
      ]
    },
    {
      "cell_type": "markdown",
      "metadata": {
        "id": "GutZjMOswvWI"
      },
      "source": [
        "(6) อ้างอิง $a_{11}\\in A$"
      ]
    },
    {
      "cell_type": "code",
      "source": [
        "A[0,0]"
      ],
      "metadata": {
        "colab": {
          "base_uri": "https://localhost:8080/"
        },
        "id": "q_HGJCGQ8cyp",
        "outputId": "6e29f475-e5e8-471d-ef5f-090dcc05c5e2"
      },
      "execution_count": 80,
      "outputs": [
        {
          "output_type": "execute_result",
          "data": {
            "text/plain": [
              "-1.0"
            ]
          },
          "metadata": {},
          "execution_count": 80
        }
      ]
    },
    {
      "cell_type": "code",
      "execution_count": null,
      "metadata": {
        "id": "TUze8yaOxB1c",
        "colab": {
          "base_uri": "https://localhost:8080/"
        },
        "outputId": "34cf58f2-1543-4a06-a03c-57147e2b7673"
      },
      "outputs": [
        {
          "output_type": "stream",
          "name": "stdout",
          "text": [
            "-1.0\n"
          ]
        }
      ],
      "source": [
        "print(A[0,0])"
      ]
    },
    {
      "cell_type": "markdown",
      "metadata": {
        "id": "GP2vJW71xCYB"
      },
      "source": [
        "(7) อ้างอิงสมาชิกที่อยู่ใแถวสุดท้ายและหลักสุดท้ายของ $A$"
      ]
    },
    {
      "cell_type": "code",
      "execution_count": null,
      "metadata": {
        "id": "_pze0ZsExKsB",
        "colab": {
          "base_uri": "https://localhost:8080/"
        },
        "outputId": "2433a405-0891-41a0-9ec5-79090e13c95f"
      },
      "outputs": [
        {
          "output_type": "stream",
          "name": "stdout",
          "text": [
            "0.1\n"
          ]
        }
      ],
      "source": [
        "print(A[-1,-1])"
      ]
    },
    {
      "cell_type": "markdown",
      "metadata": {
        "id": "87kAcETwxYlX"
      },
      "source": [
        "(8) สมาชิกในแถวที่ 2 ของ $A$ ทั้งหมด"
      ]
    },
    {
      "cell_type": "code",
      "source": [
        "A[1,:]"
      ],
      "metadata": {
        "colab": {
          "base_uri": "https://localhost:8080/"
        },
        "id": "0ZELU-r69XVD",
        "outputId": "f448f660-a96c-4596-d491-3b579b7be065"
      },
      "execution_count": 84,
      "outputs": [
        {
          "output_type": "execute_result",
          "data": {
            "text/plain": [
              "array([ 2., -2.,  3.,  4., -5.,  3.,  2.,  1.])"
            ]
          },
          "metadata": {},
          "execution_count": 84
        }
      ]
    },
    {
      "cell_type": "code",
      "execution_count": null,
      "metadata": {
        "id": "ZZwPzVMZxjj_",
        "colab": {
          "base_uri": "https://localhost:8080/"
        },
        "outputId": "b1c59602-339a-4e9f-c427-daf88d4b952e"
      },
      "outputs": [
        {
          "output_type": "stream",
          "name": "stdout",
          "text": [
            "[ 2. -2.  3.  4. -5.  3.  2.  1.]\n"
          ]
        }
      ],
      "source": [
        "print(A[1,:])"
      ]
    },
    {
      "cell_type": "markdown",
      "metadata": {
        "id": "IVWHheGOxvZA"
      },
      "source": [
        "(9) สมาชิกในหลักที่ 3 ของ $A$"
      ]
    },
    {
      "cell_type": "code",
      "source": [
        "A[:,2]"
      ],
      "metadata": {
        "colab": {
          "base_uri": "https://localhost:8080/"
        },
        "id": "yY7Rlfe09uCt",
        "outputId": "1556459a-a0a8-4a15-ac31-4630957a8a08"
      },
      "execution_count": 85,
      "outputs": [
        {
          "output_type": "execute_result",
          "data": {
            "text/plain": [
              "array([4., 3., 5., 2., 0.])"
            ]
          },
          "metadata": {},
          "execution_count": 85
        }
      ]
    },
    {
      "cell_type": "code",
      "source": [
        "A[:,2]"
      ],
      "metadata": {
        "colab": {
          "base_uri": "https://localhost:8080/"
        },
        "id": "m0sFpl8-8vMJ",
        "outputId": "ba067f83-07ad-421a-ca26-8ea39cb155b7"
      },
      "execution_count": 83,
      "outputs": [
        {
          "output_type": "execute_result",
          "data": {
            "text/plain": [
              "array([4., 3., 5., 2., 0.])"
            ]
          },
          "metadata": {},
          "execution_count": 83
        }
      ]
    },
    {
      "cell_type": "code",
      "execution_count": null,
      "metadata": {
        "id": "pd8uAYl3x1tD",
        "colab": {
          "base_uri": "https://localhost:8080/"
        },
        "outputId": "ca9b1c5f-f1b4-448c-b296-681f4c5cfb19"
      },
      "outputs": [
        {
          "output_type": "stream",
          "name": "stdout",
          "text": [
            "[4. 3. 5. 2. 0.]\n"
          ]
        }
      ],
      "source": [
        "print(A[:,2])"
      ]
    },
    {
      "cell_type": "markdown",
      "metadata": {
        "id": "bhAVrtVix2P7"
      },
      "source": [
        "(11) เมทริกซ์ $B=\n",
        "\\begin{bmatrix}\n",
        "  0&  4&  3\\\\\n",
        "  -2&  3&  4\\\\\n",
        "\\end{bmatrix}$ จาก $A$"
      ]
    },
    {
      "cell_type": "code",
      "source": [
        "B = A[:2,1:4]\n",
        "B"
      ],
      "metadata": {
        "colab": {
          "base_uri": "https://localhost:8080/"
        },
        "id": "V3mNDf6x90lV",
        "outputId": "2ecac54d-1e92-4ecf-9265-e312f5c1c3b5"
      },
      "execution_count": 88,
      "outputs": [
        {
          "output_type": "execute_result",
          "data": {
            "text/plain": [
              "array([[ 0.,  4.,  3.],\n",
              "       [-2.,  3.,  4.]])"
            ]
          },
          "metadata": {},
          "execution_count": 88
        }
      ]
    },
    {
      "cell_type": "code",
      "execution_count": null,
      "metadata": {
        "id": "uwun24Q0yViA",
        "colab": {
          "base_uri": "https://localhost:8080/"
        },
        "outputId": "63c637c7-ecd3-4586-b393-0a8414685be8"
      },
      "outputs": [
        {
          "output_type": "stream",
          "name": "stdout",
          "text": [
            "[[ 0.  4.  3.]\n",
            " [-2.  3.  4.]]\n"
          ]
        }
      ],
      "source": [
        "B=A[0:2,1:4]\n",
        "print(B)"
      ]
    },
    {
      "cell_type": "markdown",
      "metadata": {
        "id": "MvVlSBEByWMb"
      },
      "source": [
        "(12) เมทริกซ์ $C=\n",
        "\\begin{bmatrix}\n",
        "0& 3& 9\\\\\n",
        "4& 6& 9\\\\\n",
        "1& 2& 4\n",
        "\\end{bmatrix}$ จาก $A$"
      ]
    },
    {
      "cell_type": "code",
      "source": [
        "C = A[:5:2,1:6:2,]\n",
        "C"
      ],
      "metadata": {
        "colab": {
          "base_uri": "https://localhost:8080/"
        },
        "id": "hhw9dBzj-Fnh",
        "outputId": "43547bc6-6777-40b8-f6fc-37f8e16b443e"
      },
      "execution_count": 95,
      "outputs": [
        {
          "output_type": "execute_result",
          "data": {
            "text/plain": [
              "array([[0., 3., 9.],\n",
              "       [4., 6., 9.],\n",
              "       [1., 2., 4.]])"
            ]
          },
          "metadata": {},
          "execution_count": 95
        }
      ]
    },
    {
      "cell_type": "code",
      "execution_count": null,
      "metadata": {
        "id": "OaLr8lI50oZC",
        "colab": {
          "base_uri": "https://localhost:8080/"
        },
        "outputId": "466d2b5c-0202-476b-d041-fe3132cf1fa5"
      },
      "outputs": [
        {
          "output_type": "stream",
          "name": "stdout",
          "text": [
            "[[0. 3. 9.]\n",
            " [4. 6. 9.]\n",
            " [1. 2. 4.]]\n"
          ]
        }
      ],
      "source": [
        "C=A[0:5:2,1:6:2]\n",
        "print(C)"
      ]
    },
    {
      "cell_type": "markdown",
      "metadata": {
        "id": "VSRJKmFayrAG"
      },
      "source": [
        "(14) เมทริกซ์ $D=\n",
        "\\begin{bmatrix}\n",
        " 0&  9\\\\\n",
        "-1&  1\n",
        "\\end{bmatrix}$ จาก $A$"
      ]
    },
    {
      "cell_type": "code",
      "source": [
        "D = A[::3,1::4]\n",
        "D"
      ],
      "metadata": {
        "colab": {
          "base_uri": "https://localhost:8080/"
        },
        "id": "8Qe3_I3_-tRX",
        "outputId": "a9dc9c36-a779-4e98-fa72-3d3930257fdc"
      },
      "execution_count": 96,
      "outputs": [
        {
          "output_type": "execute_result",
          "data": {
            "text/plain": [
              "array([[ 0.,  9.],\n",
              "       [-1.,  1.]])"
            ]
          },
          "metadata": {},
          "execution_count": 96
        }
      ]
    },
    {
      "cell_type": "code",
      "source": [
        "D=A[0:4:3,1:6:4]\n",
        "print(D)"
      ],
      "metadata": {
        "colab": {
          "base_uri": "https://localhost:8080/"
        },
        "id": "YFYflA5SZpzx",
        "outputId": "c5516b9d-8093-4d8d-b71f-164ff50c87fc"
      },
      "execution_count": 97,
      "outputs": [
        {
          "output_type": "stream",
          "name": "stdout",
          "text": [
            "[[ 0.  9.]\n",
            " [-1.  1.]]\n"
          ]
        }
      ]
    },
    {
      "cell_type": "markdown",
      "metadata": {
        "id": "AzZb6dBay6Me"
      },
      "source": [
        "# 1.7.4 คำสั่งที่เกี่ยวข้องอื่นๆ"
      ]
    },
    {
      "cell_type": "markdown",
      "metadata": {
        "id": "5pJipPNSzkON"
      },
      "source": [
        "- `numpy.transpose(A)` เป็นฟังก์ชันสำหรับหาค่าทรานสโพสของอาร์เรย์ $A$\n",
        "- `numpy.size(A)` เป็นฟังก์ชันสำหรับหาค่าจำนวนสมาชิกทั้งหมดของอาร์เรย์ $A$\n",
        "- `numpy.shape(A)` เป็นฟังก์ชันสำหรับหาค่าขนาดของอาร์เรย์ $A$\n",
        "- `numpy.linspace(a,b,n)` เป็นฟังก์ชันสำหรับสร้างเมทริกซ์แถวขนาด $1 \\times n$ ที่มีสมาชิกตัวแรกเท่ากับ $a$ สมาชิกตัวถัดไปเพิ่มขึ้น $\\frac{b-a}{n-1}$ และสมาชิกตัวสุดท้ายเท่ากับ $b$\n",
        "- `numpy.abs(A)` เป็นฟังก์ชันสำหรับหาค่าสัมบูรณ์ของสมาชิกทั้งหมดของอาร์เรย์ $A$\n",
        "\n",
        "- `numpy.floor(A)` เป็นฟังก์ชันสำหรับหาค่าจำนวนเต็มที่มากที่สุดที่น้อยกว่าของแต่ละสมาชิกของอาร์เรย์ $A$\n",
        "\n",
        "- `numpy.ceil(A)` เป็นฟังก์ชันสำหรับหาค่าจำนวนเต็มที่น้อยที่สุดที่มากกว่าของแต่ละสมาชิกของอาร์เรย์ $A$\n",
        "\n",
        "- `numpy.round(A)` เป็นฟังก์ชันสำหรับปัดเศษให้เป็นจำนวนเต็มที่ใกล้เคียงที่สุดของแต่ละสมาชิกของอาร์เรย์ $A$\n",
        "\n",
        "- `numpy.random`เป็นฟังก์ชันสำหรับสร้างเมททริกซ์สุ่มแบบต่างๆ ซึ่งมีคำสั่งย่อยต่างๆ เช่น\n",
        "\n",
        "  - `numpy.random.rand(m,n)` เป็นฟังก์ชันเกี่ยวกับสร้างเมทริกซ์ขนาด $m\\times n$ ที่สมาชิกเกิดจากการแจกแจงแบบเอกรูปในช่วง $[0,1]$\n",
        "\n",
        "  - `numpy.random.randn(m,n)` เป็นฟังก์ชันเกี่ยวกับสร้างเมทริกซ์ขนาด $m\\times n$ ที่สมาชิกเกิดจากการแจกแจงแบบปกติมาตรฐาน"
      ]
    },
    {
      "cell_type": "markdown",
      "metadata": {
        "id": "6EtjnMER2tbp"
      },
      "source": [
        "**ตัวอย่าง 1.7.8**\n",
        "\n",
        "1. จงสร้างเวกเตอร์ $A=[0~0.1~0.2~0.3~0.4~0.5~0.6~0.7~0.8~ 0.9~1.]$ ด้วยคำสั่ง `numpy.linspace`\n",
        "2. หาจำนวนสมาชิกทั้งหมดของ $A$ ในข้อ 1\n",
        "3. หาจำนวนแถวและหลักของ $A$\n",
        "4. สร้างเมทริกซ์ $C$ ที่มีขนาด $4\\times 7$ โดยที่สมาชิกทุกตัวของ $C$ เกิดจากการสุ่มแบบเอกรูปในช่วง [-4,3]\n",
        "5. สร้างเมทริกซ์ $D$ ที่มีขนาด $5\\times 5$ โดยที่สมาชิกทุกตัวของ $D$ เกิดจากการสุ่มแบบปรกติมาตรฐาน\n",
        "\n"
      ]
    },
    {
      "cell_type": "code",
      "source": [
        "A = np.linspace(0,1,11)\n",
        "A"
      ],
      "metadata": {
        "colab": {
          "base_uri": "https://localhost:8080/"
        },
        "id": "DqVXSTlHDFGV",
        "outputId": "ed816148-5fe4-48a6-8833-d8084796e246"
      },
      "execution_count": 105,
      "outputs": [
        {
          "output_type": "execute_result",
          "data": {
            "text/plain": [
              "array([0. , 0.1, 0.2, 0.3, 0.4, 0.5, 0.6, 0.7, 0.8, 0.9, 1. ])"
            ]
          },
          "metadata": {},
          "execution_count": 105
        }
      ]
    },
    {
      "cell_type": "code",
      "source": [
        "np.size(A)"
      ],
      "metadata": {
        "colab": {
          "base_uri": "https://localhost:8080/"
        },
        "id": "KxyG_3lkDhMM",
        "outputId": "875d1563-c0f5-414d-ddff-27f1ad7a23e6"
      },
      "execution_count": 106,
      "outputs": [
        {
          "output_type": "execute_result",
          "data": {
            "text/plain": [
              "11"
            ]
          },
          "metadata": {},
          "execution_count": 106
        }
      ]
    },
    {
      "cell_type": "code",
      "source": [
        "np.shape(A)"
      ],
      "metadata": {
        "colab": {
          "base_uri": "https://localhost:8080/"
        },
        "id": "-2wVPvg4DlF_",
        "outputId": "b541ab6b-acac-4983-892f-55db8cb6d115"
      },
      "execution_count": 107,
      "outputs": [
        {
          "output_type": "execute_result",
          "data": {
            "text/plain": [
              "(11,)"
            ]
          },
          "metadata": {},
          "execution_count": 107
        }
      ]
    },
    {
      "cell_type": "code",
      "source": [
        "C = np.random.rand(4,7)*3 - 4\n",
        "C"
      ],
      "metadata": {
        "colab": {
          "base_uri": "https://localhost:8080/"
        },
        "id": "3PoFrEcVDoXJ",
        "outputId": "24de95df-0ca1-48ca-bc51-2830106636d5"
      },
      "execution_count": 113,
      "outputs": [
        {
          "output_type": "execute_result",
          "data": {
            "text/plain": [
              "array([[-2.89600128, -2.79167065, -1.32056567, -3.4813577 , -3.90764577,\n",
              "        -2.30554991, -3.12711915],\n",
              "       [-3.00316141, -1.90493155, -1.54219288, -3.86912278, -2.49327122,\n",
              "        -1.23572986, -3.30744965],\n",
              "       [-2.5714679 , -2.22129459, -3.5937549 , -3.39359189, -2.54918041,\n",
              "        -1.79116931, -2.53713393],\n",
              "       [-1.53375815, -2.66097396, -3.73723506, -3.91618598, -3.61869738,\n",
              "        -1.98764947, -1.28193838]])"
            ]
          },
          "metadata": {},
          "execution_count": 113
        }
      ]
    },
    {
      "cell_type": "code",
      "source": [
        "D = np.random.randn(5,5)\n",
        "D"
      ],
      "metadata": {
        "colab": {
          "base_uri": "https://localhost:8080/"
        },
        "id": "kfmjNw9tD7sq",
        "outputId": "b7980a49-c7d9-4e1e-b2e0-042f59db4abb"
      },
      "execution_count": 111,
      "outputs": [
        {
          "output_type": "execute_result",
          "data": {
            "text/plain": [
              "array([[-0.63920373, -0.22987306, -0.24060168, -0.61388832,  0.03622021],\n",
              "       [-2.17087048,  0.76378427, -0.4809119 ,  0.99997914, -0.94901694],\n",
              "       [-0.01495635, -0.00350117,  0.13308444,  0.28643079,  0.37553302],\n",
              "       [-0.27283163, -0.01975631,  2.29386908, -2.12370845,  1.22157051],\n",
              "       [-0.42177829, -1.28286586, -0.74692965,  0.92229783, -0.43257298]])"
            ]
          },
          "metadata": {},
          "execution_count": 111
        }
      ]
    },
    {
      "cell_type": "code",
      "source": [
        "import numpy as np"
      ],
      "metadata": {
        "id": "kdfazwESf9i7"
      },
      "execution_count": 114,
      "outputs": []
    },
    {
      "cell_type": "code",
      "source": [
        "A=np.linspace(0,1,11)\n",
        "print(A)"
      ],
      "metadata": {
        "id": "FYF1YEV7eY6u",
        "colab": {
          "base_uri": "https://localhost:8080/"
        },
        "outputId": "b49a3b13-a1c8-40f9-9595-4c20892a66a9"
      },
      "execution_count": 115,
      "outputs": [
        {
          "output_type": "stream",
          "name": "stdout",
          "text": [
            "[0.  0.1 0.2 0.3 0.4 0.5 0.6 0.7 0.8 0.9 1. ]\n"
          ]
        }
      ]
    },
    {
      "cell_type": "code",
      "source": [
        "sizeA=np.size(A)\n",
        "print(sizeA)"
      ],
      "metadata": {
        "id": "gh3WGNOoflyO",
        "colab": {
          "base_uri": "https://localhost:8080/"
        },
        "outputId": "47291c99-4d82-4e8e-cf8c-98e240c3d32c"
      },
      "execution_count": 116,
      "outputs": [
        {
          "output_type": "stream",
          "name": "stdout",
          "text": [
            "11\n"
          ]
        }
      ]
    },
    {
      "cell_type": "code",
      "source": [
        "shA=np.shape(A)\n",
        "print(shA)"
      ],
      "metadata": {
        "id": "svYXv7KufrN4",
        "colab": {
          "base_uri": "https://localhost:8080/"
        },
        "outputId": "ca71721a-024a-452d-aa14-eb62cddfece0"
      },
      "execution_count": 117,
      "outputs": [
        {
          "output_type": "stream",
          "name": "stdout",
          "text": [
            "(11,)\n"
          ]
        }
      ]
    },
    {
      "cell_type": "code",
      "execution_count": 118,
      "metadata": {
        "id": "qAKYw-N58kHP",
        "colab": {
          "base_uri": "https://localhost:8080/"
        },
        "outputId": "9936e807-7171-4761-9248-28a429960552"
      },
      "outputs": [
        {
          "output_type": "stream",
          "name": "stdout",
          "text": [
            "[[ 0.12901067 -2.28785351  2.92201316 -1.83909575  1.20701163  0.75941626\n",
            "  -0.40072005]\n",
            " [-0.49978324 -0.25879391 -2.29363583  0.94587652 -1.95078569 -2.01659462\n",
            "  -3.37662582]\n",
            " [-3.73531624  2.35097435 -2.30443579  0.58398208 -2.00914224  1.36572642\n",
            "  -3.89288655]\n",
            " [ 0.03253654 -2.07526032 -2.40485137  1.21077534 -2.4797063   0.69845365\n",
            "  -0.77015266]]\n"
          ]
        }
      ],
      "source": [
        "C=-4+7*np.random.rand(4,7)\n",
        "print(C)"
      ]
    },
    {
      "cell_type": "code",
      "source": [
        "D=np.random.randn(5,5)\n",
        "print(D)"
      ],
      "metadata": {
        "id": "eWpP0DqhdRm6",
        "colab": {
          "base_uri": "https://localhost:8080/"
        },
        "outputId": "748b1664-efb9-45bb-b7db-9f137395455f"
      },
      "execution_count": 119,
      "outputs": [
        {
          "output_type": "stream",
          "name": "stdout",
          "text": [
            "[[ 0.81859571  1.45169153  1.21418878  0.23007963  0.61664604]\n",
            " [-1.26176891  0.66574938 -2.4552638  -0.11610223  0.24557708]\n",
            " [-1.13569377 -0.13480211 -0.27580247 -0.08318376 -0.02682847]\n",
            " [-0.23262535 -0.71384164 -0.46318998  0.12591206  1.58721109]\n",
            " [ 1.19450659  0.09558105  0.80358038 -0.82313008  0.19532111]]\n"
          ]
        }
      ]
    },
    {
      "cell_type": "markdown",
      "metadata": {
        "id": "--_A5g6oXfgt"
      },
      "source": [
        "# เอกสารอ้างอิง\n",
        "1. Python Language. https://www.python.org\n",
        "2. math — Mathematical functions: https://docs.python.org/3/library/math.html\n",
        "3. Numpy Library: https://numpy.org\n"
      ]
    },
    {
      "cell_type": "markdown",
      "metadata": {
        "id": "smzse4qZMJYs"
      },
      "source": [
        "<img src = 'https://drive.google.com/uc?id=18qUXmnQK3FIPfMCm8m0aKf1Saam6ezdJ'>"
      ]
    },
    {
      "cell_type": "markdown",
      "metadata": {
        "id": "rE16rIVtMJYs"
      },
      "source": [
        "<img src = 'https://drive.google.com/uc?id=192V5NZG8GXDFzYQIxTRJCSmiBUkc2xys'>"
      ]
    }
  ],
  "metadata": {
    "colab": {
      "provenance": [],
      "include_colab_link": true
    },
    "kernelspec": {
      "display_name": "Python 3 (ipykernel)",
      "language": "python",
      "name": "python3"
    },
    "language_info": {
      "codemirror_mode": {
        "name": "ipython",
        "version": 3
      },
      "file_extension": ".py",
      "mimetype": "text/x-python",
      "name": "python",
      "nbconvert_exporter": "python",
      "pygments_lexer": "ipython3",
      "version": "3.11.0"
    }
  },
  "nbformat": 4,
  "nbformat_minor": 0
}